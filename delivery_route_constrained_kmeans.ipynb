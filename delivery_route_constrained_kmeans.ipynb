{
 "cells": [
  {
   "cell_type": "markdown",
   "metadata": {},
   "source": [
    "# Address Clustering For Yard Sign Delivery Route Optimization"
   ]
  },
  {
   "cell_type": "markdown",
   "metadata": {},
   "source": [
    "The problem I set out to solve was how to best cluster addresses into predefined clusters in order to group addresses together so that delivery routes would be optimized. I had previously done this step manually by sorting by zipcodes or visualizing the data and selecting based off of drawing selections in QGIS."
   ]
  },
  {
   "cell_type": "code",
   "execution_count": 3,
   "metadata": {},
   "outputs": [
    {
     "name": "stdout",
     "output_type": "stream",
     "text": [
      "Collecting plotly\n",
      "  Using cached https://files.pythonhosted.org/packages/5f/43/6e86a1e1910d434f068a8e032a3cc77ce862f1688776793a6735e5712fd9/plotly-5.10.0-py2.py3-none-any.whl\n",
      "Collecting tenacity>=6.2.0 (from plotly)\n",
      "  Using cached https://files.pythonhosted.org/packages/f2/a5/f86bc8d67c979020438c8559cc70cfe3a1643fd160d35e09c9cca6a09189/tenacity-8.0.1-py3-none-any.whl\n",
      "Installing collected packages: tenacity, plotly\n",
      "Successfully installed plotly-5.10.0 tenacity-8.0.1\n",
      "\u001b[33mYou are using pip version 19.0.3, however version 22.2.2 is available.\n",
      "You should consider upgrading via the 'pip install --upgrade pip' command.\u001b[0m\n",
      "Note: you may need to restart the kernel to use updated packages.\n"
     ]
    }
   ],
   "source": [
    "pip install --user plotly"
   ]
  },
  {
   "cell_type": "code",
   "execution_count": 2,
   "metadata": {},
   "outputs": [
    {
     "ename": "ModuleNotFoundError",
     "evalue": "No module named 'pandas'",
     "output_type": "error",
     "traceback": [
      "\u001b[0;31m---------------------------------------------------------------------------\u001b[0m",
      "\u001b[0;31mModuleNotFoundError\u001b[0m                       Traceback (most recent call last)",
      "\u001b[0;32m/var/folders/jr/0qw4ctd574d7nl5lmbxr37qr0000gn/T/ipykernel_35349/3877362238.py\u001b[0m in \u001b[0;36m<module>\u001b[0;34m\u001b[0m\n\u001b[0;32m----> 1\u001b[0;31m \u001b[0;32mimport\u001b[0m \u001b[0mpandas\u001b[0m \u001b[0;32mas\u001b[0m \u001b[0mpd\u001b[0m\u001b[0;34m\u001b[0m\u001b[0;34m\u001b[0m\u001b[0m\n\u001b[0m\u001b[1;32m      2\u001b[0m \u001b[0;32mimport\u001b[0m \u001b[0mnumpy\u001b[0m \u001b[0;32mas\u001b[0m \u001b[0mnp\u001b[0m\u001b[0;34m\u001b[0m\u001b[0;34m\u001b[0m\u001b[0m\n\u001b[1;32m      3\u001b[0m \u001b[0;32mimport\u001b[0m \u001b[0mmatplotlib\u001b[0m\u001b[0;34m.\u001b[0m\u001b[0mpyplot\u001b[0m \u001b[0;32mas\u001b[0m \u001b[0mplt\u001b[0m\u001b[0;34m\u001b[0m\u001b[0;34m\u001b[0m\u001b[0m\n\u001b[1;32m      4\u001b[0m \u001b[0;32mfrom\u001b[0m \u001b[0msklearn\u001b[0m\u001b[0;34m.\u001b[0m\u001b[0mcluster\u001b[0m \u001b[0;32mimport\u001b[0m \u001b[0mKMeans\u001b[0m\u001b[0;34m\u001b[0m\u001b[0;34m\u001b[0m\u001b[0m\n\u001b[1;32m      5\u001b[0m \u001b[0;32mimport\u001b[0m \u001b[0mseaborn\u001b[0m \u001b[0;32mas\u001b[0m \u001b[0msns\u001b[0m\u001b[0;34m;\u001b[0m \u001b[0msns\u001b[0m\u001b[0;34m.\u001b[0m\u001b[0mset\u001b[0m\u001b[0;34m(\u001b[0m\u001b[0;34m)\u001b[0m\u001b[0;34m\u001b[0m\u001b[0;34m\u001b[0m\u001b[0m\n",
      "\u001b[0;31mModuleNotFoundError\u001b[0m: No module named 'pandas'"
     ]
    }
   ],
   "source": [
    "import pandas as pd\n",
    "import numpy as np\n",
    "import matplotlib.pyplot as plt\n",
    "from sklearn.cluster import KMeans\n",
    "import seaborn as sns; sns.set()\n",
    "import csv\n",
    "from k_means_constrained import KMeansConstrained"
   ]
  },
  {
   "cell_type": "markdown",
   "metadata": {},
   "source": [
    "### Read the CSV"
   ]
  },
  {
   "cell_type": "code",
   "execution_count": null,
   "metadata": {},
   "outputs": [
    {
     "data": {
      "text/html": [
       "<div>\n",
       "<style scoped>\n",
       "    .dataframe tbody tr th:only-of-type {\n",
       "        vertical-align: middle;\n",
       "    }\n",
       "\n",
       "    .dataframe tbody tr th {\n",
       "        vertical-align: top;\n",
       "    }\n",
       "\n",
       "    .dataframe thead th {\n",
       "        text-align: right;\n",
       "    }\n",
       "</style>\n",
       "<table border=\"1\" class=\"dataframe\">\n",
       "  <thead>\n",
       "    <tr style=\"text-align: right;\">\n",
       "      <th></th>\n",
       "      <th>Voter File VANID</th>\n",
       "      <th>Lat</th>\n",
       "      <th>Long</th>\n",
       "    </tr>\n",
       "  </thead>\n",
       "  <tbody>\n",
       "    <tr>\n",
       "      <th>0</th>\n",
       "      <td>302815</td>\n",
       "      <td>33.142602</td>\n",
       "      <td>-97.258254</td>\n",
       "    </tr>\n",
       "    <tr>\n",
       "      <th>1</th>\n",
       "      <td>575048</td>\n",
       "      <td>33.144572</td>\n",
       "      <td>-97.121205</td>\n",
       "    </tr>\n",
       "    <tr>\n",
       "      <th>2</th>\n",
       "      <td>640440</td>\n",
       "      <td>33.214540</td>\n",
       "      <td>-97.053138</td>\n",
       "    </tr>\n",
       "    <tr>\n",
       "      <th>3</th>\n",
       "      <td>689001</td>\n",
       "      <td>33.227924</td>\n",
       "      <td>-97.132361</td>\n",
       "    </tr>\n",
       "    <tr>\n",
       "      <th>4</th>\n",
       "      <td>1025558</td>\n",
       "      <td>33.175101</td>\n",
       "      <td>-97.060067</td>\n",
       "    </tr>\n",
       "    <tr>\n",
       "      <th>5</th>\n",
       "      <td>1705627</td>\n",
       "      <td>33.170617</td>\n",
       "      <td>-97.131506</td>\n",
       "    </tr>\n",
       "    <tr>\n",
       "      <th>6</th>\n",
       "      <td>1712651</td>\n",
       "      <td>33.217498</td>\n",
       "      <td>-97.118838</td>\n",
       "    </tr>\n",
       "    <tr>\n",
       "      <th>7</th>\n",
       "      <td>2075916</td>\n",
       "      <td>33.181524</td>\n",
       "      <td>-97.121579</td>\n",
       "    </tr>\n",
       "    <tr>\n",
       "      <th>8</th>\n",
       "      <td>2342933</td>\n",
       "      <td>33.142835</td>\n",
       "      <td>-97.241081</td>\n",
       "    </tr>\n",
       "    <tr>\n",
       "      <th>9</th>\n",
       "      <td>2510307</td>\n",
       "      <td>33.156595</td>\n",
       "      <td>-97.128796</td>\n",
       "    </tr>\n",
       "  </tbody>\n",
       "</table>\n",
       "</div>"
      ],
      "text/plain": [
       "   Voter File VANID        Lat       Long\n",
       "0            302815  33.142602 -97.258254\n",
       "1            575048  33.144572 -97.121205\n",
       "2            640440  33.214540 -97.053138\n",
       "3            689001  33.227924 -97.132361\n",
       "4           1025558  33.175101 -97.060067\n",
       "5           1705627  33.170617 -97.131506\n",
       "6           1712651  33.217498 -97.118838\n",
       "7           2075916  33.181524 -97.121579\n",
       "8           2342933  33.142835 -97.241081\n",
       "9           2510307  33.156595 -97.128796"
      ]
     },
     "execution_count": 138,
     "metadata": {},
     "output_type": "execute_result"
    }
   ],
   "source": [
    "df = pd.read_csv('/Users/matthewkrausse/My Drive (matt@groundgametexas.org)/Ground Game Texas/fake_delivery_data.csv')\n",
    "df.head(10)"
   ]
  },
  {
   "cell_type": "markdown",
   "metadata": {},
   "source": [
    "### Data Cleaning\n",
    "\n",
    "All we need to do is drop NaN values and rename columns to some standardized column names for geocoding"
   ]
  },
  {
   "cell_type": "code",
   "execution_count": null,
   "metadata": {},
   "outputs": [],
   "source": [
    "df.dropna(inplace=True)"
   ]
  },
  {
   "cell_type": "code",
   "execution_count": null,
   "metadata": {},
   "outputs": [],
   "source": [
    "df.rename(columns={'Lat': 'lat', 'Long': 'lng'}, inplace=True)"
   ]
  },
  {
   "cell_type": "markdown",
   "metadata": {},
   "source": [
    "### Create two data frames to demonstrate Kmeans and Kmeans Constrained"
   ]
  },
  {
   "cell_type": "code",
   "execution_count": null,
   "metadata": {},
   "outputs": [],
   "source": [
    "df2 = df"
   ]
  },
  {
   "cell_type": "markdown",
   "metadata": {},
   "source": [
    "### Set Your Desired List Size"
   ]
  },
  {
   "cell_type": "code",
   "execution_count": null,
   "metadata": {},
   "outputs": [],
   "source": [
    "desired_list_size = 15"
   ]
  },
  {
   "cell_type": "code",
   "execution_count": null,
   "metadata": {
    "scrolled": true
   },
   "outputs": [
    {
     "name": "stdout",
     "output_type": "stream",
     "text": [
      " Number of clusters: 35\n"
     ]
    }
   ],
   "source": [
    "no_of_clusters = int((len(df) / desired_list_size)+2)\n",
    "print(f\" Number of clusters: {int(no_of_clusters)}\")"
   ]
  },
  {
   "cell_type": "markdown",
   "metadata": {},
   "source": [
    "### First let's try Kmeans"
   ]
  },
  {
   "cell_type": "markdown",
   "metadata": {},
   "source": [
    "Kmean lets us specify n_clusters which is the number of clusters that we would like to have. I initially used the length of the data / the desired list size in order to get the desired number of clusters"
   ]
  },
  {
   "cell_type": "code",
   "execution_count": null,
   "metadata": {},
   "outputs": [
    {
     "data": {
      "text/html": [
       "<div>\n",
       "<style scoped>\n",
       "    .dataframe tbody tr th:only-of-type {\n",
       "        vertical-align: middle;\n",
       "    }\n",
       "\n",
       "    .dataframe tbody tr th {\n",
       "        vertical-align: top;\n",
       "    }\n",
       "\n",
       "    .dataframe thead th {\n",
       "        text-align: right;\n",
       "    }\n",
       "</style>\n",
       "<table border=\"1\" class=\"dataframe\">\n",
       "  <thead>\n",
       "    <tr style=\"text-align: right;\">\n",
       "      <th></th>\n",
       "      <th>Voter File VANID</th>\n",
       "      <th>lat</th>\n",
       "      <th>lng</th>\n",
       "      <th>delivery_route</th>\n",
       "    </tr>\n",
       "  </thead>\n",
       "  <tbody>\n",
       "    <tr>\n",
       "      <th>0</th>\n",
       "      <td>302815</td>\n",
       "      <td>33.142602</td>\n",
       "      <td>-97.258254</td>\n",
       "      <td>23</td>\n",
       "    </tr>\n",
       "    <tr>\n",
       "      <th>1</th>\n",
       "      <td>575048</td>\n",
       "      <td>33.144572</td>\n",
       "      <td>-97.121205</td>\n",
       "      <td>24</td>\n",
       "    </tr>\n",
       "    <tr>\n",
       "      <th>2</th>\n",
       "      <td>640440</td>\n",
       "      <td>33.214540</td>\n",
       "      <td>-97.053138</td>\n",
       "      <td>19</td>\n",
       "    </tr>\n",
       "    <tr>\n",
       "      <th>3</th>\n",
       "      <td>689001</td>\n",
       "      <td>33.227924</td>\n",
       "      <td>-97.132361</td>\n",
       "      <td>3</td>\n",
       "    </tr>\n",
       "    <tr>\n",
       "      <th>4</th>\n",
       "      <td>1025558</td>\n",
       "      <td>33.175101</td>\n",
       "      <td>-97.060067</td>\n",
       "      <td>4</td>\n",
       "    </tr>\n",
       "    <tr>\n",
       "      <th>5</th>\n",
       "      <td>1705627</td>\n",
       "      <td>33.170617</td>\n",
       "      <td>-97.131506</td>\n",
       "      <td>34</td>\n",
       "    </tr>\n",
       "    <tr>\n",
       "      <th>6</th>\n",
       "      <td>1712651</td>\n",
       "      <td>33.217498</td>\n",
       "      <td>-97.118838</td>\n",
       "      <td>26</td>\n",
       "    </tr>\n",
       "    <tr>\n",
       "      <th>7</th>\n",
       "      <td>2075916</td>\n",
       "      <td>33.181524</td>\n",
       "      <td>-97.121579</td>\n",
       "      <td>25</td>\n",
       "    </tr>\n",
       "    <tr>\n",
       "      <th>8</th>\n",
       "      <td>2342933</td>\n",
       "      <td>33.142835</td>\n",
       "      <td>-97.241081</td>\n",
       "      <td>2</td>\n",
       "    </tr>\n",
       "    <tr>\n",
       "      <th>9</th>\n",
       "      <td>2510307</td>\n",
       "      <td>33.156595</td>\n",
       "      <td>-97.128796</td>\n",
       "      <td>1</td>\n",
       "    </tr>\n",
       "  </tbody>\n",
       "</table>\n",
       "</div>"
      ],
      "text/plain": [
       "   Voter File VANID        lat        lng  delivery_route\n",
       "0            302815  33.142602 -97.258254              23\n",
       "1            575048  33.144572 -97.121205              24\n",
       "2            640440  33.214540 -97.053138              19\n",
       "3            689001  33.227924 -97.132361               3\n",
       "4           1025558  33.175101 -97.060067               4\n",
       "5           1705627  33.170617 -97.131506              34\n",
       "6           1712651  33.217498 -97.118838              26\n",
       "7           2075916  33.181524 -97.121579              25\n",
       "8           2342933  33.142835 -97.241081               2\n",
       "9           2510307  33.156595 -97.128796               1"
      ]
     },
     "execution_count": 144,
     "metadata": {},
     "output_type": "execute_result"
    }
   ],
   "source": [
    "kmeans = KMeans(n_clusters = int(no_of_clusters), \n",
    "                init ='k-means++')\n",
    "kmeans.fit(df[df.columns[1:3]]) # Compute k-means clustering.\n",
    "df['delivery_route'] = kmeans.fit_predict(df[df.columns[1:3]])\n",
    "centers = kmeans.cluster_centers_ # Coordinates of cluster centers.\n",
    "labels = kmeans.predict(df[df.columns[1:3]]) # Labels of each point\n",
    "df.head(10)"
   ]
  },
  {
   "cell_type": "markdown",
   "metadata": {},
   "source": [
    "Let's see what this actually looks like. I'll group by the new column delivery_route and see how many points it point in each one."
   ]
  },
  {
   "cell_type": "code",
   "execution_count": null,
   "metadata": {},
   "outputs": [
    {
     "data": {
      "text/html": [
       "<div>\n",
       "<style scoped>\n",
       "    .dataframe tbody tr th:only-of-type {\n",
       "        vertical-align: middle;\n",
       "    }\n",
       "\n",
       "    .dataframe tbody tr th {\n",
       "        vertical-align: top;\n",
       "    }\n",
       "\n",
       "    .dataframe thead th {\n",
       "        text-align: right;\n",
       "    }\n",
       "</style>\n",
       "<table border=\"1\" class=\"dataframe\">\n",
       "  <thead>\n",
       "    <tr style=\"text-align: right;\">\n",
       "      <th></th>\n",
       "      <th>Voter File VANID</th>\n",
       "      <th>lat</th>\n",
       "      <th>lng</th>\n",
       "    </tr>\n",
       "    <tr>\n",
       "      <th>delivery_route</th>\n",
       "      <th></th>\n",
       "      <th></th>\n",
       "      <th></th>\n",
       "    </tr>\n",
       "  </thead>\n",
       "  <tbody>\n",
       "    <tr>\n",
       "      <th>0</th>\n",
       "      <td>16</td>\n",
       "      <td>16</td>\n",
       "      <td>16</td>\n",
       "    </tr>\n",
       "    <tr>\n",
       "      <th>1</th>\n",
       "      <td>14</td>\n",
       "      <td>14</td>\n",
       "      <td>14</td>\n",
       "    </tr>\n",
       "    <tr>\n",
       "      <th>2</th>\n",
       "      <td>15</td>\n",
       "      <td>15</td>\n",
       "      <td>15</td>\n",
       "    </tr>\n",
       "    <tr>\n",
       "      <th>3</th>\n",
       "      <td>13</td>\n",
       "      <td>13</td>\n",
       "      <td>13</td>\n",
       "    </tr>\n",
       "    <tr>\n",
       "      <th>4</th>\n",
       "      <td>13</td>\n",
       "      <td>13</td>\n",
       "      <td>13</td>\n",
       "    </tr>\n",
       "    <tr>\n",
       "      <th>5</th>\n",
       "      <td>14</td>\n",
       "      <td>14</td>\n",
       "      <td>14</td>\n",
       "    </tr>\n",
       "    <tr>\n",
       "      <th>6</th>\n",
       "      <td>20</td>\n",
       "      <td>20</td>\n",
       "      <td>20</td>\n",
       "    </tr>\n",
       "    <tr>\n",
       "      <th>7</th>\n",
       "      <td>10</td>\n",
       "      <td>10</td>\n",
       "      <td>10</td>\n",
       "    </tr>\n",
       "    <tr>\n",
       "      <th>8</th>\n",
       "      <td>19</td>\n",
       "      <td>19</td>\n",
       "      <td>19</td>\n",
       "    </tr>\n",
       "    <tr>\n",
       "      <th>9</th>\n",
       "      <td>20</td>\n",
       "      <td>20</td>\n",
       "      <td>20</td>\n",
       "    </tr>\n",
       "    <tr>\n",
       "      <th>10</th>\n",
       "      <td>31</td>\n",
       "      <td>31</td>\n",
       "      <td>31</td>\n",
       "    </tr>\n",
       "    <tr>\n",
       "      <th>11</th>\n",
       "      <td>16</td>\n",
       "      <td>16</td>\n",
       "      <td>16</td>\n",
       "    </tr>\n",
       "    <tr>\n",
       "      <th>12</th>\n",
       "      <td>9</td>\n",
       "      <td>9</td>\n",
       "      <td>9</td>\n",
       "    </tr>\n",
       "    <tr>\n",
       "      <th>13</th>\n",
       "      <td>7</td>\n",
       "      <td>7</td>\n",
       "      <td>7</td>\n",
       "    </tr>\n",
       "    <tr>\n",
       "      <th>14</th>\n",
       "      <td>7</td>\n",
       "      <td>7</td>\n",
       "      <td>7</td>\n",
       "    </tr>\n",
       "    <tr>\n",
       "      <th>15</th>\n",
       "      <td>26</td>\n",
       "      <td>26</td>\n",
       "      <td>26</td>\n",
       "    </tr>\n",
       "    <tr>\n",
       "      <th>16</th>\n",
       "      <td>16</td>\n",
       "      <td>16</td>\n",
       "      <td>16</td>\n",
       "    </tr>\n",
       "    <tr>\n",
       "      <th>17</th>\n",
       "      <td>13</td>\n",
       "      <td>13</td>\n",
       "      <td>13</td>\n",
       "    </tr>\n",
       "    <tr>\n",
       "      <th>18</th>\n",
       "      <td>20</td>\n",
       "      <td>20</td>\n",
       "      <td>20</td>\n",
       "    </tr>\n",
       "    <tr>\n",
       "      <th>19</th>\n",
       "      <td>7</td>\n",
       "      <td>7</td>\n",
       "      <td>7</td>\n",
       "    </tr>\n",
       "    <tr>\n",
       "      <th>20</th>\n",
       "      <td>14</td>\n",
       "      <td>14</td>\n",
       "      <td>14</td>\n",
       "    </tr>\n",
       "    <tr>\n",
       "      <th>21</th>\n",
       "      <td>17</td>\n",
       "      <td>17</td>\n",
       "      <td>17</td>\n",
       "    </tr>\n",
       "    <tr>\n",
       "      <th>22</th>\n",
       "      <td>1</td>\n",
       "      <td>1</td>\n",
       "      <td>1</td>\n",
       "    </tr>\n",
       "    <tr>\n",
       "      <th>23</th>\n",
       "      <td>17</td>\n",
       "      <td>17</td>\n",
       "      <td>17</td>\n",
       "    </tr>\n",
       "    <tr>\n",
       "      <th>24</th>\n",
       "      <td>18</td>\n",
       "      <td>18</td>\n",
       "      <td>18</td>\n",
       "    </tr>\n",
       "    <tr>\n",
       "      <th>25</th>\n",
       "      <td>24</td>\n",
       "      <td>24</td>\n",
       "      <td>24</td>\n",
       "    </tr>\n",
       "    <tr>\n",
       "      <th>26</th>\n",
       "      <td>14</td>\n",
       "      <td>14</td>\n",
       "      <td>14</td>\n",
       "    </tr>\n",
       "    <tr>\n",
       "      <th>27</th>\n",
       "      <td>1</td>\n",
       "      <td>1</td>\n",
       "      <td>1</td>\n",
       "    </tr>\n",
       "    <tr>\n",
       "      <th>28</th>\n",
       "      <td>22</td>\n",
       "      <td>22</td>\n",
       "      <td>22</td>\n",
       "    </tr>\n",
       "    <tr>\n",
       "      <th>29</th>\n",
       "      <td>14</td>\n",
       "      <td>14</td>\n",
       "      <td>14</td>\n",
       "    </tr>\n",
       "    <tr>\n",
       "      <th>30</th>\n",
       "      <td>15</td>\n",
       "      <td>15</td>\n",
       "      <td>15</td>\n",
       "    </tr>\n",
       "    <tr>\n",
       "      <th>31</th>\n",
       "      <td>5</td>\n",
       "      <td>5</td>\n",
       "      <td>5</td>\n",
       "    </tr>\n",
       "    <tr>\n",
       "      <th>32</th>\n",
       "      <td>20</td>\n",
       "      <td>20</td>\n",
       "      <td>20</td>\n",
       "    </tr>\n",
       "    <tr>\n",
       "      <th>33</th>\n",
       "      <td>3</td>\n",
       "      <td>3</td>\n",
       "      <td>3</td>\n",
       "    </tr>\n",
       "    <tr>\n",
       "      <th>34</th>\n",
       "      <td>7</td>\n",
       "      <td>7</td>\n",
       "      <td>7</td>\n",
       "    </tr>\n",
       "  </tbody>\n",
       "</table>\n",
       "</div>"
      ],
      "text/plain": [
       "                Voter File VANID  lat  lng\n",
       "delivery_route                            \n",
       "0                             16   16   16\n",
       "1                             14   14   14\n",
       "2                             15   15   15\n",
       "3                             13   13   13\n",
       "4                             13   13   13\n",
       "5                             14   14   14\n",
       "6                             20   20   20\n",
       "7                             10   10   10\n",
       "8                             19   19   19\n",
       "9                             20   20   20\n",
       "10                            31   31   31\n",
       "11                            16   16   16\n",
       "12                             9    9    9\n",
       "13                             7    7    7\n",
       "14                             7    7    7\n",
       "15                            26   26   26\n",
       "16                            16   16   16\n",
       "17                            13   13   13\n",
       "18                            20   20   20\n",
       "19                             7    7    7\n",
       "20                            14   14   14\n",
       "21                            17   17   17\n",
       "22                             1    1    1\n",
       "23                            17   17   17\n",
       "24                            18   18   18\n",
       "25                            24   24   24\n",
       "26                            14   14   14\n",
       "27                             1    1    1\n",
       "28                            22   22   22\n",
       "29                            14   14   14\n",
       "30                            15   15   15\n",
       "31                             5    5    5\n",
       "32                            20   20   20\n",
       "33                             3    3    3\n",
       "34                             7    7    7"
      ]
     },
     "execution_count": 145,
     "metadata": {},
     "output_type": "execute_result"
    }
   ],
   "source": [
    "df2.groupby(by=[\"delivery_route\"]).count()"
   ]
  },
  {
   "cell_type": "markdown",
   "metadata": {},
   "source": [
    "You can see it created the desired number of clusters but the variance betweent the list size is significant. I'll visualized the data below using a simple plot of lat,lng to see how it was grouping them. "
   ]
  },
  {
   "cell_type": "code",
   "execution_count": null,
   "metadata": {},
   "outputs": [
    {
     "data": {
      "text/plain": [
       "<matplotlib.collections.PathCollection at 0x7f9d972fbee0>"
      ]
     },
     "execution_count": 146,
     "metadata": {},
     "output_type": "execute_result"
    },
    {
     "data": {
      "image/png": "[encoded data removed]",
      "text/plain": [
       "<Figure size 432x288 with 2 Axes>"
      ]
     },
     "metadata": {},
     "output_type": "display_data"
    }
   ],
   "source": [
    "df.plot.scatter(x = 'lat', y = 'lng', c=labels, s=50, cmap='viridis')\n",
    "plt.scatter(centers[:, 0], centers[:, 1], c='black', s=100, alpha=0.5)"
   ]
  },
  {
   "cell_type": "markdown",
   "metadata": {},
   "source": [
    "I wanted to look at them on a map so I decided to use plotly which has a nice easy interactive mapping tool.\n",
    "\n",
    "You can see that it does a good job of grouping but the cluster sizes are wildly different. This creates the most well grouped points but we need to use this for delivery with volunteers and the most we would want in a single list would be 20 or so. This also corresponds with a limit of list size of the software I have used to create optimized routes, routexl. "
   ]
  },
  {
   "cell_type": "code",
   "execution_count": null,
   "metadata": {},
   "outputs": [
    {
     "data": {
      "application/vnd.plotly.v1+json": {
       "config": {
        "plotlyServerURL": "https://plot.ly"
       },
       "data": [
        {
         "hovertemplate": "lat=%{lat}<br>lng=%{lon}<br>delivery_route=%{marker.color}<extra></extra>",
         "lat": [
          33.142602,
          33.144572,
          33.21454,
          33.227924,
          33.175101,
          33.170617,
          33.217498,
          33.181524,
          33.142835,
          33.156595,
          33.245651,
          33.245835,
          33.143679,
          33.13358,
          33.153207,
          33.179446,
          33.184746,
          33.250509,
          33.234495,
          33.17119,
          33.167561,
          33.172871,
          33.217191,
          33.193916,
          33.246511,
          33.244658,
          33.18276,
          33.155776,
          33.155833,
          33.145191,
          33.202011,
          33.193166,
          33.223567,
          33.223567,
          33.168403,
          33.196263,
          33.224063,
          33.203425,
          33.230431,
          33.251036,
          33.140786,
          33.211433,
          33.162649,
          33.256585,
          33.233145,
          33.226369,
          33.238866,
          33.234481,
          33.223383,
          33.236691,
          33.167223,
          33.250628,
          33.188048,
          33.222637,
          33.23877,
          33.221748,
          33.180743,
          33.252926,
          33.213704,
          33.162917,
          33.239225,
          33.198418,
          33.180509,
          33.184327,
          33.184746,
          33.237063,
          33.140338,
          33.177534,
          33.196816,
          33.158637,
          33.223735,
          33.141867,
          33.169954,
          33.142809,
          33.13458,
          33.16956,
          33.239076,
          33.226025,
          33.238178,
          33.219517,
          33.250394,
          33.234971,
          33.161054,
          33.161054,
          33.206187,
          33.217974,
          33.185148,
          33.222602,
          33.221033,
          33.250784,
          33.224987,
          33.237833,
          33.188019,
          33.209873,
          33.131973,
          33.180953,
          33.168103,
          33.140675,
          33.178423,
          33.210947,
          33.23321,
          33.249986,
          33.171562,
          33.135777,
          33.138073,
          33.178387,
          33.177995,
          33.135756,
          33.142787,
          33.174348,
          33.253328,
          33.137491,
          33.140847,
          33.137189,
          33.176193,
          33.14455,
          33.172187,
          33.163143,
          33.223827,
          33.238278,
          33.250948,
          33.221912,
          33.177802,
          33.15466,
          33.135397,
          33.239757,
          33.21799,
          33.170923,
          33.250517,
          33.215541,
          33.138029,
          33.177707,
          33.150522,
          33.152935,
          33.17077,
          33.146353,
          33.144199,
          33.133537,
          33.155904,
          33.17173,
          33.258587,
          33.172805,
          33.150422,
          33.167818,
          33.25185,
          33.180619,
          33.1773,
          33.19037,
          33.143353,
          33.18222,
          33.156353,
          33.242023,
          33.173106,
          33.253475,
          33.228854,
          33.156024,
          33.181981,
          33.154004,
          33.224379,
          33.156351,
          33.143383,
          33.143414,
          33.158327,
          33.139163,
          33.247849,
          33.239586,
          33.212353,
          33.155841,
          33.143642,
          33.142767,
          33.134441,
          33.216806,
          33.167631,
          33.152413,
          33.232505,
          33.250699,
          33.176576,
          33.22537,
          33.225634,
          33.220741,
          33.161054,
          33.23321,
          33.170338,
          33.215483,
          33.136213,
          33.252516,
          33.202387,
          33.139838,
          33.139333,
          33.237657,
          33.246527,
          33.230475,
          33.218213,
          33.157715,
          33.171409,
          33.1745,
          33.258587,
          33.152814,
          33.240639,
          33.239328,
          33.136601,
          33.178837,
          33.153051,
          33.223291,
          33.180998,
          33.156931,
          33.25071,
          33.138648,
          33.221615,
          33.25391,
          33.179836,
          33.240774,
          33.137707,
          33.258378,
          33.295077,
          33.144938,
          33.166003,
          33.1682,
          33.205792,
          33.137151,
          33.177937,
          33.191062,
          33.221277,
          33.15491,
          33.173011,
          33.184346,
          33.196085,
          33.208358,
          33.184363,
          33.259625,
          33.183266,
          33.223763,
          33.177083,
          33.159407,
          33.140643,
          33.18005,
          33.163463,
          33.142909,
          33.227762,
          33.213649,
          33.243704,
          33.185069,
          33.248587,
          33.165497,
          33.205518,
          33.239831,
          33.230475,
          33.258313,
          33.140059,
          33.215442,
          33.210539,
          33.171412,
          33.25844,
          33.1745,
          33.242207,
          33.193126,
          33.251871,
          33.219524,
          33.190462,
          33.202823,
          33.217848,
          33.215263,
          33.241272,
          33.227311,
          33.15198,
          33.22383,
          33.174537,
          33.230532,
          33.150887,
          33.1818,
          33.206383,
          33.166277,
          33.248022,
          33.173827,
          33.213793,
          33.231114,
          33.203252,
          33.226757,
          33.154603,
          33.152872,
          33.169063,
          33.220143,
          33.223013,
          33.196841,
          33.247958,
          33.212992,
          33.250176,
          33.214208,
          33.189787,
          33.191217,
          33.238349,
          33.196265,
          33.197577,
          33.226636,
          33.238321,
          33.176842,
          33.265999,
          33.222654,
          33.214465,
          33.25209,
          33.219523,
          33.250352,
          33.220949,
          33.248339,
          33.163337,
          33.178712,
          33.210947,
          33.18373,
          33.201258,
          33.258401,
          33.239103,
          33.1595,
          33.231097,
          33.231288,
          33.208126,
          33.223826,
          33.198547,
          33.169611,
          33.140581,
          33.14552,
          33.171948,
          33.186592,
          33.190067,
          33.253444,
          33.215553,
          33.185788,
          33.177533,
          33.21735,
          33.210827,
          33.160143,
          33.239757,
          33.218402,
          33.206544,
          33.175274,
          33.147103,
          33.197677,
          33.210678,
          33.150377,
          33.25466,
          33.166795,
          33.145995,
          33.146015,
          33.212898,
          33.180342,
          33.191261,
          33.197577,
          33.214924,
          33.229888,
          33.16097,
          33.21178,
          33.170748,
          33.207979,
          33.17864,
          33.203747,
          33.223619,
          33.207288,
          33.169831,
          33.251505,
          33.170587,
          33.174267,
          33.219889,
          33.146796,
          33.146065,
          33.1745,
          33.173453,
          33.181353,
          33.190468,
          33.221558,
          33.180885,
          33.186592,
          33.20829,
          33.208143,
          33.212015,
          33.238917,
          33.212015,
          33.208143,
          33.226,
          33.1905,
          33.23325,
          33.215553,
          33.177937,
          33.186592,
          33.204614,
          33.205651,
          33.265091,
          33.211404,
          33.212898,
          33.208115,
          33.206438,
          33.171449,
          33.251505,
          33.178712,
          33.196945,
          33.236629,
          33.208143,
          33.25567,
          33.173719,
          33.238675,
          33.193721,
          33.196841,
          33.14366,
          33.217987,
          33.252161,
          33.208143,
          33.206438,
          33.210481,
          33.179296,
          33.165994,
          33.201641,
          33.134818,
          33.212898,
          33.180394,
          33.248033,
          33.233102,
          33.227812,
          33.138768,
          33.174355,
          33.227782,
          33.161745,
          33.136399,
          33.197577,
          33.185069,
          33.212015,
          33.215596,
          33.206544,
          33.202867,
          33.142691,
          33.164455,
          33.210467,
          33.195217,
          33.228957,
          33.214445,
          33.227493,
          33.144387,
          33.208143,
          33.206437,
          33.207979,
          33.204134,
          33.222571,
          33.141522,
          33.237463,
          33.169938,
          33.164461,
          33.215553,
          33.244135,
          33.219026,
          33.173573,
          33.229888,
          33.173184,
          33.201258,
          33.256363,
          33.138029,
          33.210188,
          33.208115,
          33.151928,
          33.211731,
          33.230034,
          33.215543,
          33.218257,
          33.210947,
          33.245042,
          33.223847,
          33.189783,
          33.140106,
          33.131785,
          33.158636,
          33.215563,
          33.136705,
          33.214924,
          33.167544,
          33.210967,
          33.132342,
          33.221128,
          33.193721,
          33.208103,
          33.23117,
          33.225519,
          33.177933,
          33.154687,
          33.213319,
          33.247708,
          33.195563,
          33.22484,
          33.160969,
          33.236563,
          33.155852,
          33.217252,
          33.208115,
          33.198672,
          33.228543,
          33.144627,
          33.197601,
          33.247996,
          33.211693,
          33.196054,
          33.167879,
          33.155833,
          33.14634
         ],
         "legendgroup": "",
         "lon": [
          -97.258254,
          -97.121205,
          -97.053138,
          -97.132361,
          -97.060067,
          -97.131506,
          -97.118838,
          -97.121579,
          -97.241081,
          -97.128796,
          -97.100048,
          -97.109119,
          -97.104182,
          -97.247083,
          -97.156836,
          -97.113491,
          -97.092274,
          -97.103323,
          -97.120526,
          -97.100934,
          -97.075065,
          -97.116082,
          -97.094457,
          -97.159154,
          -97.126718,
          -97.098944,
          -97.121722,
          -97.13007,
          -97.12571,
          -97.163165,
          -97.152123,
          -97.144771,
          -97.144774,
          -97.144774,
          -97.106777,
          -97.118091,
          -97.102332,
          -97.151759,
          -97.110496,
          -97.113807,
          -97.243108,
          -97.135043,
          -97.11836,
          -97.114286,
          -97.107936,
          -97.093811,
          -97.109713,
          -97.152778,
          -97.106265,
          -97.174044,
          -97.131073,
          -97.128547,
          -97.117451,
          -97.147537,
          -97.098655,
          -97.158496,
          -97.11285,
          -97.139854,
          -97.140512,
          -97.11592,
          -97.170824,
          -97.120046,
          -97.112677,
          -97.112822,
          -97.092274,
          -97.11662,
          -97.19275,
          -97.057253,
          -97.110392,
          -97.127025,
          -97.160005,
          -97.246325,
          -97.101716,
          -97.244034,
          -97.240977,
          -97.068606,
          -97.114496,
          -97.135033,
          -97.099234,
          -97.110245,
          -97.090981,
          -97.113587,
          -97.105952,
          -97.105952,
          -97.076703,
          -97.105244,
          -97.12363,
          -97.099274,
          -97.101919,
          -97.103319,
          -97.151687,
          -97.134581,
          -97.117211,
          -97.119747,
          -97.254639,
          -97.111734,
          -97.076212,
          -97.246767,
          -97.053468,
          -97.163928,
          -97.115156,
          -97.105174,
          -97.171216,
          -97.189194,
          -97.231227,
          -97.120191,
          -97.111375,
          -97.230841,
          -97.109056,
          -97.108595,
          -97.104132,
          -97.25371,
          -97.115543,
          -97.257508,
          -97.103863,
          -97.118346,
          -97.143694,
          -97.111642,
          -97.151094,
          -97.141287,
          -97.108936,
          -97.117694,
          -97.056287,
          -97.124326,
          -97.231007,
          -97.128239,
          -97.117656,
          -97.146027,
          -97.103485,
          -97.143357,
          -97.114965,
          -97.076133,
          -97.120107,
          -97.124794,
          -97.14826,
          -97.254402,
          -97.239,
          -97.23341,
          -97.106247,
          -97.124318,
          -97.131497,
          -97.06337,
          -97.096307,
          -97.102948,
          -97.110207,
          -97.119618,
          -97.101523,
          -97.124684,
          -97.191925,
          -97.122625,
          -97.108007,
          -97.120434,
          -97.074166,
          -97.103579,
          -97.141114,
          -97.158005,
          -97.121886,
          -97.100786,
          -97.140329,
          -97.108335,
          -97.100594,
          -97.239949,
          -97.128941,
          -97.232113,
          -97.154991,
          -97.129154,
          -97.131321,
          -97.094918,
          -97.23465,
          -97.106045,
          -97.188641,
          -97.141746,
          -97.113891,
          -97.093481,
          -97.14829,
          -97.115775,
          -97.057139,
          -97.086996,
          -97.150426,
          -97.215406,
          -97.105952,
          -97.115156,
          -97.134254,
          -97.138273,
          -97.187661,
          -97.13711,
          -97.117238,
          -97.189383,
          -97.192884,
          -97.134593,
          -97.141328,
          -97.095874,
          -97.058953,
          -97.095371,
          -97.079359,
          -97.099869,
          -97.131497,
          -97.124462,
          -97.126814,
          -97.109148,
          -97.113872,
          -97.109747,
          -97.103291,
          -97.11151,
          -97.123954,
          -97.095767,
          -97.136574,
          -97.186634,
          -97.146481,
          -97.122982,
          -97.066476,
          -97.110297,
          -97.257402,
          -97.12152,
          -97.07857,
          -97.116862,
          -97.10543,
          -97.147176,
          -97.076655,
          -97.182276,
          -97.10395,
          -97.131404,
          -97.129515,
          -97.127862,
          -97.173744,
          -97.116413,
          -97.145957,
          -97.128959,
          -97.09388,
          -97.120299,
          -97.1123,
          -97.117706,
          -97.108122,
          -97.125793,
          -97.246436,
          -97.123315,
          -97.115904,
          -97.230097,
          -97.098938,
          -97.158501,
          -97.136243,
          -97.093934,
          -97.140486,
          -97.102723,
          -97.125456,
          -97.118934,
          -97.095874,
          -97.131483,
          -97.190826,
          -97.104247,
          -97.143301,
          -97.079425,
          -97.118528,
          -97.099869,
          -97.131671,
          -97.144772,
          -97.146837,
          -97.124924,
          -97.129766,
          -97.07574,
          -97.11799,
          -97.165594,
          -97.143808,
          -97.132374,
          -97.091398,
          -97.134779,
          -97.13097,
          -97.129128,
          -97.092446,
          -97.057313,
          -97.13789,
          -97.105346,
          -97.140815,
          -97.108446,
          -97.161544,
          -97.147465,
          -97.14138,
          -97.147549,
          -97.099006,
          -97.093599,
          -97.163,
          -97.130084,
          -97.122965,
          -97.121459,
          -97.138495,
          -97.128525,
          -97.156879,
          -97.100863,
          -97.164472,
          -97.147063,
          -97.15012,
          -97.118154,
          -97.129326,
          -97.086343,
          -97.17186,
          -97.074782,
          -97.123357,
          -97.148559,
          -97.140448,
          -97.14299,
          -97.141452,
          -97.128486,
          -97.151506,
          -97.108816,
          -97.067943,
          -97.098006,
          -97.163928,
          -97.138994,
          -97.161311,
          -97.117561,
          -97.173786,
          -97.096264,
          -97.145088,
          -97.110498,
          -97.150991,
          -97.133405,
          -97.128811,
          -97.117143,
          -97.186282,
          -97.116586,
          -97.145716,
          -97.101435,
          -97.12306,
          -97.146503,
          -97.14512,
          -97.091891,
          -97.121905,
          -97.105177,
          -97.131453,
          -97.090446,
          -97.128239,
          -97.056451,
          -97.0722,
          -97.14198,
          -97.100409,
          -97.14525,
          -97.132316,
          -97.11221,
          -97.122214,
          -97.107247,
          -97.249752,
          -97.234077,
          -97.154876,
          -97.1088,
          -97.127682,
          -97.129326,
          -97.103404,
          -97.127434,
          -97.090327,
          -97.150165,
          -97.142683,
          -97.150008,
          -97.110126,
          -97.115283,
          -97.127126,
          -97.125002,
          -97.10441,
          -97.154419,
          -97.07635,
          -97.064351,
          -97.124604,
          -97.24855,
          -97.11184,
          -97.099869,
          -97.173314,
          -97.107546,
          -97.124684,
          -97.138831,
          -97.061592,
          -97.101435,
          -97.141344,
          -97.15218,
          -97.155217,
          -97.18501,
          -97.155217,
          -97.15218,
          -97.159676,
          -97.124684,
          -97.100352,
          -97.14512,
          -97.10395,
          -97.101435,
          -97.138054,
          -97.137726,
          -97.125976,
          -97.144495,
          -97.154876,
          -97.150125,
          -97.142158,
          -97.129156,
          -97.154419,
          -97.098006,
          -97.117707,
          -97.117554,
          -97.15218,
          -97.119636,
          -97.105338,
          -97.166377,
          -97.131323,
          -97.121459,
          -97.101746,
          -97.14656,
          -97.134719,
          -97.15218,
          -97.142158,
          -97.088067,
          -97.053799,
          -97.104196,
          -97.060518,
          -97.250314,
          -97.154876,
          -97.059845,
          -97.103664,
          -97.153298,
          -97.142896,
          -97.258028,
          -97.072789,
          -97.124825,
          -97.092377,
          -97.184639,
          -97.129326,
          -97.093934,
          -97.155217,
          -97.162627,
          -97.0722,
          -97.125218,
          -97.256436,
          -97.132463,
          -97.125386,
          -97.088949,
          -97.100274,
          -97.138305,
          -97.140726,
          -97.112012,
          -97.15218,
          -97.11799,
          -97.150008,
          -97.116479,
          -97.102749,
          -97.254615,
          -97.169954,
          -97.078499,
          -97.102051,
          -97.14512,
          -97.120615,
          -97.110179,
          -97.067566,
          -97.127434,
          -97.074161,
          -97.161311,
          -97.122753,
          -97.114965,
          -97.112146,
          -97.150125,
          -97.095512,
          -97.060263,
          -97.100641,
          -97.11013,
          -97.095496,
          -97.163928,
          -97.098178,
          -97.151714,
          -97.121683,
          -97.240163,
          -97.257163,
          -97.12693,
          -97.10996,
          -97.191412,
          -97.103404,
          -97.103059,
          -97.157424,
          -97.200553,
          -97.130936,
          -97.131323,
          -97.14731,
          -97.117445,
          -97.100086,
          -97.065444,
          -97.09887,
          -97.05094,
          -97.140826,
          -97.119812,
          -97.110229,
          -97.096264,
          -97.119808,
          -97.095246,
          -97.053379,
          -97.150125,
          -97.137878,
          -97.139308,
          -97.102582,
          -97.124062,
          -97.117967,
          -97.158426,
          -97.143731,
          -97.145212,
          -97.125595,
          -97.112696
         ],
         "marker": {
          "color": [
           23,
           24,
           19,
           3,
           4,
           34,
           26,
           25,
           2,
           1,
           21,
           21,
           24,
           23,
           33,
           25,
           6,
           21,
           0,
           15,
           20,
           25,
           29,
           7,
           17,
           21,
           25,
           1,
           1,
           33,
           7,
           7,
           32,
           32,
           15,
           11,
           29,
           10,
           0,
           8,
           2,
           28,
           1,
           8,
           0,
           29,
           0,
           32,
           16,
           13,
           34,
           8,
           25,
           32,
           21,
           32,
           25,
           18,
           28,
           15,
           13,
           11,
           25,
           25,
           6,
           0,
           5,
           4,
           11,
           1,
           32,
           23,
           15,
           2,
           2,
           20,
           0,
           3,
           21,
           16,
           21,
           0,
           15,
           15,
           14,
           16,
           25,
           29,
           16,
           21,
           32,
           17,
           25,
           11,
           23,
           25,
           20,
           23,
           4,
           10,
           0,
           21,
           31,
           5,
           2,
           25,
           25,
           2,
           24,
           15,
           21,
           23,
           24,
           23,
           6,
           24,
           12,
           15,
           32,
           18,
           21,
           26,
           4,
           1,
           2,
           17,
           26,
           12,
           21,
           28,
           24,
           20,
           1,
           1,
           12,
           23,
           2,
           2,
           15,
           34,
           8,
           4,
           9,
           15,
           21,
           25,
           6,
           30,
           5,
           25,
           15,
           17,
           20,
           21,
           3,
           33,
           25,
           9,
           3,
           15,
           24,
           2,
           1,
           2,
           18,
           17,
           28,
           9,
           2,
           24,
           5,
           28,
           15,
           9,
           32,
           8,
           4,
           29,
           32,
           22,
           15,
           0,
           34,
           28,
           5,
           18,
           11,
           5,
           5,
           17,
           18,
           29,
           19,
           9,
           20,
           6,
           8,
           1,
           17,
           0,
           24,
           25,
           9,
           16,
           25,
           9,
           18,
           5,
           32,
           8,
           4,
           0,
           23,
           8,
           27,
           24,
           15,
           12,
           14,
           5,
           6,
           30,
           26,
           1,
           31,
           25,
           7,
           28,
           6,
           8,
           25,
           26,
           6,
           1,
           23,
           25,
           15,
           2,
           29,
           10,
           18,
           6,
           18,
           15,
           11,
           0,
           29,
           8,
           5,
           16,
           28,
           20,
           8,
           6,
           17,
           7,
           18,
           26,
           30,
           14,
           26,
           10,
           18,
           3,
           9,
           3,
           34,
           17,
           9,
           4,
           28,
           15,
           18,
           15,
           10,
           32,
           7,
           32,
           9,
           9,
           31,
           26,
           26,
           11,
           18,
           26,
           18,
           16,
           31,
           7,
           18,
           11,
           30,
           29,
           13,
           20,
           8,
           32,
           28,
           18,
           3,
           8,
           32,
           21,
           20,
           6,
           10,
           12,
           10,
           8,
           13,
           9,
           32,
           0,
           10,
           3,
           30,
           15,
           5,
           24,
           12,
           6,
           30,
           18,
           28,
           6,
           25,
           16,
           28,
           9,
           17,
           19,
           14,
           12,
           9,
           7,
           28,
           24,
           8,
           15,
           23,
           2,
           10,
           25,
           30,
           30,
           16,
           17,
           9,
           10,
           12,
           10,
           25,
           11,
           26,
           11,
           15,
           18,
           20,
           4,
           26,
           23,
           24,
           6,
           31,
           6,
           30,
           3,
           4,
           6,
           28,
           10,
           10,
           13,
           10,
           10,
           32,
           30,
           29,
           28,
           6,
           6,
           28,
           28,
           8,
           28,
           10,
           10,
           28,
           34,
           18,
           6,
           11,
           0,
           10,
           8,
           15,
           13,
           30,
           11,
           24,
           32,
           18,
           10,
           28,
           14,
           4,
           15,
           19,
           23,
           10,
           4,
           21,
           32,
           3,
           23,
           20,
           26,
           9,
           5,
           30,
           6,
           10,
           10,
           14,
           11,
           23,
           34,
           26,
           14,
           29,
           28,
           3,
           24,
           10,
           11,
           10,
           11,
           16,
           23,
           13,
           20,
           15,
           28,
           17,
           16,
           20,
           17,
           20,
           10,
           8,
           24,
           16,
           10,
           9,
           19,
           29,
           16,
           29,
           10,
           21,
           32,
           30,
           2,
           23,
           1,
           16,
           5,
           16,
           15,
           10,
           5,
           3,
           30,
           10,
           0,
           29,
           4,
           9,
           19,
           18,
           11,
           16,
           9,
           0,
           9,
           19,
           10,
           7,
           3,
           24,
           30,
           8,
           10,
           7,
           12,
           1,
           24
          ],
          "coloraxis": "coloraxis",
          "size": [
           33.142602,
           33.144572,
           33.21454,
           33.227924,
           33.175101,
           33.170617,
           33.217498,
           33.181524,
           33.142835,
           33.156595,
           33.245651,
           33.245835,
           33.143679,
           33.13358,
           33.153207,
           33.179446,
           33.184746,
           33.250509,
           33.234495,
           33.17119,
           33.167561,
           33.172871,
           33.217191,
           33.193916,
           33.246511,
           33.244658,
           33.18276,
           33.155776,
           33.155833,
           33.145191,
           33.202011,
           33.193166,
           33.223567,
           33.223567,
           33.168403,
           33.196263,
           33.224063,
           33.203425,
           33.230431,
           33.251036,
           33.140786,
           33.211433,
           33.162649,
           33.256585,
           33.233145,
           33.226369,
           33.238866,
           33.234481,
           33.223383,
           33.236691,
           33.167223,
           33.250628,
           33.188048,
           33.222637,
           33.23877,
           33.221748,
           33.180743,
           33.252926,
           33.213704,
           33.162917,
           33.239225,
           33.198418,
           33.180509,
           33.184327,
           33.184746,
           33.237063,
           33.140338,
           33.177534,
           33.196816,
           33.158637,
           33.223735,
           33.141867,
           33.169954,
           33.142809,
           33.13458,
           33.16956,
           33.239076,
           33.226025,
           33.238178,
           33.219517,
           33.250394,
           33.234971,
           33.161054,
           33.161054,
           33.206187,
           33.217974,
           33.185148,
           33.222602,
           33.221033,
           33.250784,
           33.224987,
           33.237833,
           33.188019,
           33.209873,
           33.131973,
           33.180953,
           33.168103,
           33.140675,
           33.178423,
           33.210947,
           33.23321,
           33.249986,
           33.171562,
           33.135777,
           33.138073,
           33.178387,
           33.177995,
           33.135756,
           33.142787,
           33.174348,
           33.253328,
           33.137491,
           33.140847,
           33.137189,
           33.176193,
           33.14455,
           33.172187,
           33.163143,
           33.223827,
           33.238278,
           33.250948,
           33.221912,
           33.177802,
           33.15466,
           33.135397,
           33.239757,
           33.21799,
           33.170923,
           33.250517,
           33.215541,
           33.138029,
           33.177707,
           33.150522,
           33.152935,
           33.17077,
           33.146353,
           33.144199,
           33.133537,
           33.155904,
           33.17173,
           33.258587,
           33.172805,
           33.150422,
           33.167818,
           33.25185,
           33.180619,
           33.1773,
           33.19037,
           33.143353,
           33.18222,
           33.156353,
           33.242023,
           33.173106,
           33.253475,
           33.228854,
           33.156024,
           33.181981,
           33.154004,
           33.224379,
           33.156351,
           33.143383,
           33.143414,
           33.158327,
           33.139163,
           33.247849,
           33.239586,
           33.212353,
           33.155841,
           33.143642,
           33.142767,
           33.134441,
           33.216806,
           33.167631,
           33.152413,
           33.232505,
           33.250699,
           33.176576,
           33.22537,
           33.225634,
           33.220741,
           33.161054,
           33.23321,
           33.170338,
           33.215483,
           33.136213,
           33.252516,
           33.202387,
           33.139838,
           33.139333,
           33.237657,
           33.246527,
           33.230475,
           33.218213,
           33.157715,
           33.171409,
           33.1745,
           33.258587,
           33.152814,
           33.240639,
           33.239328,
           33.136601,
           33.178837,
           33.153051,
           33.223291,
           33.180998,
           33.156931,
           33.25071,
           33.138648,
           33.221615,
           33.25391,
           33.179836,
           33.240774,
           33.137707,
           33.258378,
           33.295077,
           33.144938,
           33.166003,
           33.1682,
           33.205792,
           33.137151,
           33.177937,
           33.191062,
           33.221277,
           33.15491,
           33.173011,
           33.184346,
           33.196085,
           33.208358,
           33.184363,
           33.259625,
           33.183266,
           33.223763,
           33.177083,
           33.159407,
           33.140643,
           33.18005,
           33.163463,
           33.142909,
           33.227762,
           33.213649,
           33.243704,
           33.185069,
           33.248587,
           33.165497,
           33.205518,
           33.239831,
           33.230475,
           33.258313,
           33.140059,
           33.215442,
           33.210539,
           33.171412,
           33.25844,
           33.1745,
           33.242207,
           33.193126,
           33.251871,
           33.219524,
           33.190462,
           33.202823,
           33.217848,
           33.215263,
           33.241272,
           33.227311,
           33.15198,
           33.22383,
           33.174537,
           33.230532,
           33.150887,
           33.1818,
           33.206383,
           33.166277,
           33.248022,
           33.173827,
           33.213793,
           33.231114,
           33.203252,
           33.226757,
           33.154603,
           33.152872,
           33.169063,
           33.220143,
           33.223013,
           33.196841,
           33.247958,
           33.212992,
           33.250176,
           33.214208,
           33.189787,
           33.191217,
           33.238349,
           33.196265,
           33.197577,
           33.226636,
           33.238321,
           33.176842,
           33.265999,
           33.222654,
           33.214465,
           33.25209,
           33.219523,
           33.250352,
           33.220949,
           33.248339,
           33.163337,
           33.178712,
           33.210947,
           33.18373,
           33.201258,
           33.258401,
           33.239103,
           33.1595,
           33.231097,
           33.231288,
           33.208126,
           33.223826,
           33.198547,
           33.169611,
           33.140581,
           33.14552,
           33.171948,
           33.186592,
           33.190067,
           33.253444,
           33.215553,
           33.185788,
           33.177533,
           33.21735,
           33.210827,
           33.160143,
           33.239757,
           33.218402,
           33.206544,
           33.175274,
           33.147103,
           33.197677,
           33.210678,
           33.150377,
           33.25466,
           33.166795,
           33.145995,
           33.146015,
           33.212898,
           33.180342,
           33.191261,
           33.197577,
           33.214924,
           33.229888,
           33.16097,
           33.21178,
           33.170748,
           33.207979,
           33.17864,
           33.203747,
           33.223619,
           33.207288,
           33.169831,
           33.251505,
           33.170587,
           33.174267,
           33.219889,
           33.146796,
           33.146065,
           33.1745,
           33.173453,
           33.181353,
           33.190468,
           33.221558,
           33.180885,
           33.186592,
           33.20829,
           33.208143,
           33.212015,
           33.238917,
           33.212015,
           33.208143,
           33.226,
           33.1905,
           33.23325,
           33.215553,
           33.177937,
           33.186592,
           33.204614,
           33.205651,
           33.265091,
           33.211404,
           33.212898,
           33.208115,
           33.206438,
           33.171449,
           33.251505,
           33.178712,
           33.196945,
           33.236629,
           33.208143,
           33.25567,
           33.173719,
           33.238675,
           33.193721,
           33.196841,
           33.14366,
           33.217987,
           33.252161,
           33.208143,
           33.206438,
           33.210481,
           33.179296,
           33.165994,
           33.201641,
           33.134818,
           33.212898,
           33.180394,
           33.248033,
           33.233102,
           33.227812,
           33.138768,
           33.174355,
           33.227782,
           33.161745,
           33.136399,
           33.197577,
           33.185069,
           33.212015,
           33.215596,
           33.206544,
           33.202867,
           33.142691,
           33.164455,
           33.210467,
           33.195217,
           33.228957,
           33.214445,
           33.227493,
           33.144387,
           33.208143,
           33.206437,
           33.207979,
           33.204134,
           33.222571,
           33.141522,
           33.237463,
           33.169938,
           33.164461,
           33.215553,
           33.244135,
           33.219026,
           33.173573,
           33.229888,
           33.173184,
           33.201258,
           33.256363,
           33.138029,
           33.210188,
           33.208115,
           33.151928,
           33.211731,
           33.230034,
           33.215543,
           33.218257,
           33.210947,
           33.245042,
           33.223847,
           33.189783,
           33.140106,
           33.131785,
           33.158636,
           33.215563,
           33.136705,
           33.214924,
           33.167544,
           33.210967,
           33.132342,
           33.221128,
           33.193721,
           33.208103,
           33.23117,
           33.225519,
           33.177933,
           33.154687,
           33.213319,
           33.247708,
           33.195563,
           33.22484,
           33.160969,
           33.236563,
           33.155852,
           33.217252,
           33.208115,
           33.198672,
           33.228543,
           33.144627,
           33.197601,
           33.247996,
           33.211693,
           33.196054,
           33.167879,
           33.155833,
           33.14634
          ],
          "sizemode": "area",
          "sizeref": 0.33295077
         },
         "mode": "markers",
         "name": "",
         "showlegend": false,
         "subplot": "mapbox",
         "type": "scattermapbox"
        }
       ],
       "layout": {
        "coloraxis": {
         "colorbar": {
          "title": {
           "text": "delivery_route"
          }
         },
         "colorscale": [
          [
           0,
           "#000000"
          ],
          [
           0.0625,
           "#001f4d"
          ],
          [
           0.125,
           "#003786"
          ],
          [
           0.1875,
           "#0e58a8"
          ],
          [
           0.25,
           "#217eb8"
          ],
          [
           0.3125,
           "#30a4ca"
          ],
          [
           0.375,
           "#54c8df"
          ],
          [
           0.4375,
           "#9be4ef"
          ],
          [
           0.5,
           "#e1e9d1"
          ],
          [
           0.5625,
           "#f3d573"
          ],
          [
           0.625,
           "#e7b000"
          ],
          [
           0.6875,
           "#da8200"
          ],
          [
           0.75,
           "#c65400"
          ],
          [
           0.8125,
           "#ac2301"
          ],
          [
           0.875,
           "#820000"
          ],
          [
           0.9375,
           "#4c0000"
          ],
          [
           1,
           "#000000"
          ]
         ]
        },
        "legend": {
         "itemsizing": "constant",
         "tracegroupgap": 0
        },
        "mapbox": {
         "center": {
          "lat": 33.196365730923695,
          "lon": -97.13001544979919
         },
         "domain": {
          "x": [
           0,
           1
          ],
          "y": [
           0,
           1
          ]
         },
         "style": "open-street-map",
         "zoom": 10
        },
        "margin": {
         "b": 0,
         "l": 0,
         "r": 0,
         "t": 0
        },
        "template": {
         "data": {
          "bar": [
           {
            "error_x": {
             "color": "#2a3f5f"
            },
            "error_y": {
             "color": "#2a3f5f"
            },
            "marker": {
             "line": {
              "color": "#E5ECF6",
              "width": 0.5
             },
             "pattern": {
              "fillmode": "overlay",
              "size": 10,
              "solidity": 0.2
             }
            },
            "type": "bar"
           }
          ],
          "barpolar": [
           {
            "marker": {
             "line": {
              "color": "#E5ECF6",
              "width": 0.5
             },
             "pattern": {
              "fillmode": "overlay",
              "size": 10,
              "solidity": 0.2
             }
            },
            "type": "barpolar"
           }
          ],
          "carpet": [
           {
            "aaxis": {
             "endlinecolor": "#2a3f5f",
             "gridcolor": "white",
             "linecolor": "white",
             "minorgridcolor": "white",
             "startlinecolor": "#2a3f5f"
            },
            "baxis": {
             "endlinecolor": "#2a3f5f",
             "gridcolor": "white",
             "linecolor": "white",
             "minorgridcolor": "white",
             "startlinecolor": "#2a3f5f"
            },
            "type": "carpet"
           }
          ],
          "choropleth": [
           {
            "colorbar": {
             "outlinewidth": 0,
             "ticks": ""
            },
            "type": "choropleth"
           }
          ],
          "contour": [
           {
            "colorbar": {
             "outlinewidth": 0,
             "ticks": ""
            },
            "colorscale": [
             [
              0,
              "#0d0887"
             ],
             [
              0.1111111111111111,
              "#46039f"
             ],
             [
              0.2222222222222222,
              "#7201a8"
             ],
             [
              0.3333333333333333,
              "#9c179e"
             ],
             [
              0.4444444444444444,
              "#bd3786"
             ],
             [
              0.5555555555555556,
              "#d8576b"
             ],
             [
              0.6666666666666666,
              "#ed7953"
             ],
             [
              0.7777777777777778,
              "#fb9f3a"
             ],
             [
              0.8888888888888888,
              "#fdca26"
             ],
             [
              1,
              "#f0f921"
             ]
            ],
            "type": "contour"
           }
          ],
          "contourcarpet": [
           {
            "colorbar": {
             "outlinewidth": 0,
             "ticks": ""
            },
            "type": "contourcarpet"
           }
          ],
          "heatmap": [
           {
            "colorbar": {
             "outlinewidth": 0,
             "ticks": ""
            },
            "colorscale": [
             [
              0,
              "#0d0887"
             ],
             [
              0.1111111111111111,
              "#46039f"
             ],
             [
              0.2222222222222222,
              "#7201a8"
             ],
             [
              0.3333333333333333,
              "#9c179e"
             ],
             [
              0.4444444444444444,
              "#bd3786"
             ],
             [
              0.5555555555555556,
              "#d8576b"
             ],
             [
              0.6666666666666666,
              "#ed7953"
             ],
             [
              0.7777777777777778,
              "#fb9f3a"
             ],
             [
              0.8888888888888888,
              "#fdca26"
             ],
             [
              1,
              "#f0f921"
             ]
            ],
            "type": "heatmap"
           }
          ],
          "heatmapgl": [
           {
            "colorbar": {
             "outlinewidth": 0,
             "ticks": ""
            },
            "colorscale": [
             [
              0,
              "#0d0887"
             ],
             [
              0.1111111111111111,
              "#46039f"
             ],
             [
              0.2222222222222222,
              "#7201a8"
             ],
             [
              0.3333333333333333,
              "#9c179e"
             ],
             [
              0.4444444444444444,
              "#bd3786"
             ],
             [
              0.5555555555555556,
              "#d8576b"
             ],
             [
              0.6666666666666666,
              "#ed7953"
             ],
             [
              0.7777777777777778,
              "#fb9f3a"
             ],
             [
              0.8888888888888888,
              "#fdca26"
             ],
             [
              1,
              "#f0f921"
             ]
            ],
            "type": "heatmapgl"
           }
          ],
          "histogram": [
           {
            "marker": {
             "pattern": {
              "fillmode": "overlay",
              "size": 10,
              "solidity": 0.2
             }
            },
            "type": "histogram"
           }
          ],
          "histogram2d": [
           {
            "colorbar": {
             "outlinewidth": 0,
             "ticks": ""
            },
            "colorscale": [
             [
              0,
              "#0d0887"
             ],
             [
              0.1111111111111111,
              "#46039f"
             ],
             [
              0.2222222222222222,
              "#7201a8"
             ],
             [
              0.3333333333333333,
              "#9c179e"
             ],
             [
              0.4444444444444444,
              "#bd3786"
             ],
             [
              0.5555555555555556,
              "#d8576b"
             ],
             [
              0.6666666666666666,
              "#ed7953"
             ],
             [
              0.7777777777777778,
              "#fb9f3a"
             ],
             [
              0.8888888888888888,
              "#fdca26"
             ],
             [
              1,
              "#f0f921"
             ]
            ],
            "type": "histogram2d"
           }
          ],
          "histogram2dcontour": [
           {
            "colorbar": {
             "outlinewidth": 0,
             "ticks": ""
            },
            "colorscale": [
             [
              0,
              "#0d0887"
             ],
             [
              0.1111111111111111,
              "#46039f"
             ],
             [
              0.2222222222222222,
              "#7201a8"
             ],
             [
              0.3333333333333333,
              "#9c179e"
             ],
             [
              0.4444444444444444,
              "#bd3786"
             ],
             [
              0.5555555555555556,
              "#d8576b"
             ],
             [
              0.6666666666666666,
              "#ed7953"
             ],
             [
              0.7777777777777778,
              "#fb9f3a"
             ],
             [
              0.8888888888888888,
              "#fdca26"
             ],
             [
              1,
              "#f0f921"
             ]
            ],
            "type": "histogram2dcontour"
           }
          ],
          "mesh3d": [
           {
            "colorbar": {
             "outlinewidth": 0,
             "ticks": ""
            },
            "type": "mesh3d"
           }
          ],
          "parcoords": [
           {
            "line": {
             "colorbar": {
              "outlinewidth": 0,
              "ticks": ""
             }
            },
            "type": "parcoords"
           }
          ],
          "pie": [
           {
            "automargin": true,
            "type": "pie"
           }
          ],
          "scatter": [
           {
            "fillpattern": {
             "fillmode": "overlay",
             "size": 10,
             "solidity": 0.2
            },
            "type": "scatter"
           }
          ],
          "scatter3d": [
           {
            "line": {
             "colorbar": {
              "outlinewidth": 0,
              "ticks": ""
             }
            },
            "marker": {
             "colorbar": {
              "outlinewidth": 0,
              "ticks": ""
             }
            },
            "type": "scatter3d"
           }
          ],
          "scattercarpet": [
           {
            "marker": {
             "colorbar": {
              "outlinewidth": 0,
              "ticks": ""
             }
            },
            "type": "scattercarpet"
           }
          ],
          "scattergeo": [
           {
            "marker": {
             "colorbar": {
              "outlinewidth": 0,
              "ticks": ""
             }
            },
            "type": "scattergeo"
           }
          ],
          "scattergl": [
           {
            "marker": {
             "colorbar": {
              "outlinewidth": 0,
              "ticks": ""
             }
            },
            "type": "scattergl"
           }
          ],
          "scattermapbox": [
           {
            "marker": {
             "colorbar": {
              "outlinewidth": 0,
              "ticks": ""
             }
            },
            "type": "scattermapbox"
           }
          ],
          "scatterpolar": [
           {
            "marker": {
             "colorbar": {
              "outlinewidth": 0,
              "ticks": ""
             }
            },
            "type": "scatterpolar"
           }
          ],
          "scatterpolargl": [
           {
            "marker": {
             "colorbar": {
              "outlinewidth": 0,
              "ticks": ""
             }
            },
            "type": "scatterpolargl"
           }
          ],
          "scatterternary": [
           {
            "marker": {
             "colorbar": {
              "outlinewidth": 0,
              "ticks": ""
             }
            },
            "type": "scatterternary"
           }
          ],
          "surface": [
           {
            "colorbar": {
             "outlinewidth": 0,
             "ticks": ""
            },
            "colorscale": [
             [
              0,
              "#0d0887"
             ],
             [
              0.1111111111111111,
              "#46039f"
             ],
             [
              0.2222222222222222,
              "#7201a8"
             ],
             [
              0.3333333333333333,
              "#9c179e"
             ],
             [
              0.4444444444444444,
              "#bd3786"
             ],
             [
              0.5555555555555556,
              "#d8576b"
             ],
             [
              0.6666666666666666,
              "#ed7953"
             ],
             [
              0.7777777777777778,
              "#fb9f3a"
             ],
             [
              0.8888888888888888,
              "#fdca26"
             ],
             [
              1,
              "#f0f921"
             ]
            ],
            "type": "surface"
           }
          ],
          "table": [
           {
            "cells": {
             "fill": {
              "color": "#EBF0F8"
             },
             "line": {
              "color": "white"
             }
            },
            "header": {
             "fill": {
              "color": "#C8D4E3"
             },
             "line": {
              "color": "white"
             }
            },
            "type": "table"
           }
          ]
         },
         "layout": {
          "annotationdefaults": {
           "arrowcolor": "#2a3f5f",
           "arrowhead": 0,
           "arrowwidth": 1
          },
          "autotypenumbers": "strict",
          "coloraxis": {
           "colorbar": {
            "outlinewidth": 0,
            "ticks": ""
           }
          },
          "colorscale": {
           "diverging": [
            [
             0,
             "#8e0152"
            ],
            [
             0.1,
             "#c51b7d"
            ],
            [
             0.2,
             "#de77ae"
            ],
            [
             0.3,
             "#f1b6da"
            ],
            [
             0.4,
             "#fde0ef"
            ],
            [
             0.5,
             "#f7f7f7"
            ],
            [
             0.6,
             "#e6f5d0"
            ],
            [
             0.7,
             "#b8e186"
            ],
            [
             0.8,
             "#7fbc41"
            ],
            [
             0.9,
             "#4d9221"
            ],
            [
             1,
             "#276419"
            ]
           ],
           "sequential": [
            [
             0,
             "#0d0887"
            ],
            [
             0.1111111111111111,
             "#46039f"
            ],
            [
             0.2222222222222222,
             "#7201a8"
            ],
            [
             0.3333333333333333,
             "#9c179e"
            ],
            [
             0.4444444444444444,
             "#bd3786"
            ],
            [
             0.5555555555555556,
             "#d8576b"
            ],
            [
             0.6666666666666666,
             "#ed7953"
            ],
            [
             0.7777777777777778,
             "#fb9f3a"
            ],
            [
             0.8888888888888888,
             "#fdca26"
            ],
            [
             1,
             "#f0f921"
            ]
           ],
           "sequentialminus": [
            [
             0,
             "#0d0887"
            ],
            [
             0.1111111111111111,
             "#46039f"
            ],
            [
             0.2222222222222222,
             "#7201a8"
            ],
            [
             0.3333333333333333,
             "#9c179e"
            ],
            [
             0.4444444444444444,
             "#bd3786"
            ],
            [
             0.5555555555555556,
             "#d8576b"
            ],
            [
             0.6666666666666666,
             "#ed7953"
            ],
            [
             0.7777777777777778,
             "#fb9f3a"
            ],
            [
             0.8888888888888888,
             "#fdca26"
            ],
            [
             1,
             "#f0f921"
            ]
           ]
          },
          "colorway": [
           "#636efa",
           "#EF553B",
           "#00cc96",
           "#ab63fa",
           "#FFA15A",
           "#19d3f3",
           "#FF6692",
           "#B6E880",
           "#FF97FF",
           "#FECB52"
          ],
          "font": {
           "color": "#2a3f5f"
          },
          "geo": {
           "bgcolor": "white",
           "lakecolor": "white",
           "landcolor": "#E5ECF6",
           "showlakes": true,
           "showland": true,
           "subunitcolor": "white"
          },
          "hoverlabel": {
           "align": "left"
          },
          "hovermode": "closest",
          "mapbox": {
           "style": "light"
          },
          "paper_bgcolor": "white",
          "plot_bgcolor": "#E5ECF6",
          "polar": {
           "angularaxis": {
            "gridcolor": "white",
            "linecolor": "white",
            "ticks": ""
           },
           "bgcolor": "#E5ECF6",
           "radialaxis": {
            "gridcolor": "white",
            "linecolor": "white",
            "ticks": ""
           }
          },
          "scene": {
           "xaxis": {
            "backgroundcolor": "#E5ECF6",
            "gridcolor": "white",
            "gridwidth": 2,
            "linecolor": "white",
            "showbackground": true,
            "ticks": "",
            "zerolinecolor": "white"
           },
           "yaxis": {
            "backgroundcolor": "#E5ECF6",
            "gridcolor": "white",
            "gridwidth": 2,
            "linecolor": "white",
            "showbackground": true,
            "ticks": "",
            "zerolinecolor": "white"
           },
           "zaxis": {
            "backgroundcolor": "#E5ECF6",
            "gridcolor": "white",
            "gridwidth": 2,
            "linecolor": "white",
            "showbackground": true,
            "ticks": "",
            "zerolinecolor": "white"
           }
          },
          "shapedefaults": {
           "line": {
            "color": "#2a3f5f"
           }
          },
          "ternary": {
           "aaxis": {
            "gridcolor": "white",
            "linecolor": "white",
            "ticks": ""
           },
           "baxis": {
            "gridcolor": "white",
            "linecolor": "white",
            "ticks": ""
           },
           "bgcolor": "#E5ECF6",
           "caxis": {
            "gridcolor": "white",
            "linecolor": "white",
            "ticks": ""
           }
          },
          "title": {
           "x": 0.05
          },
          "xaxis": {
           "automargin": true,
           "gridcolor": "white",
           "linecolor": "white",
           "ticks": "",
           "title": {
            "standoff": 15
           },
           "zerolinecolor": "white",
           "zerolinewidth": 2
          },
          "yaxis": {
           "automargin": true,
           "gridcolor": "white",
           "linecolor": "white",
           "ticks": "",
           "title": {
            "standoff": 15
           },
           "zerolinecolor": "white",
           "zerolinewidth": 2
          }
         }
        }
       }
      },
      "text/html": [
       "<div>                            <div id=\"be2380f3-5d76-48e9-9796-3261925aad58\" class=\"plotly-graph-div\" style=\"height:525px; width:100%;\"></div>            <script type=\"text/javascript\">                require([\"plotly\"], function(Plotly) {                    window.PLOTLYENV=window.PLOTLYENV || {};                                    if (document.getElementById(\"be2380f3-5d76-48e9-9796-3261925aad58\")) {                    Plotly.newPlot(                        \"be2380f3-5d76-48e9-9796-3261925aad58\",                        [{\"hovertemplate\":\"lat=%{lat}<br>lng=%{lon}<br>delivery_route=%{marker.color}<extra></extra>\",\"lat\":[33.142602,33.144572,33.21454,33.227924,33.175101,33.170617,33.217498,33.181524,33.142835,33.156595,33.245651,33.245835,33.143679,33.13358,33.153207,33.179446,33.184746,33.250509,33.234495,33.17119,33.167561,33.172871,33.217191,33.193916,33.246511,33.244658,33.18276,33.155776,33.155833,33.145191,33.202011,33.193166,33.223567,33.223567,33.168403,33.196263,33.224063,33.203425,33.230431,33.251036,33.140786,33.211433,33.162649,33.256585,33.233145,33.226369,33.238866,33.234481,33.223383,33.236691,33.167223,33.250628,33.188048,33.222637,33.23877,33.221748,33.180743,33.252926,33.213704,33.162917,33.239225,33.198418,33.180509,33.184327,33.184746,33.237063,33.140338,33.177534,33.196816,33.158637,33.223735,33.141867,33.169954,33.142809,33.13458,33.16956,33.239076,33.226025,33.238178,33.219517,33.250394,33.234971,33.161054,33.161054,33.206187,33.217974,33.185148,33.222602,33.221033,33.250784,33.224987,33.237833,33.188019,33.209873,33.131973,33.180953,33.168103,33.140675,33.178423,33.210947,33.23321,33.249986,33.171562,33.135777,33.138073,33.178387,33.177995,33.135756,33.142787,33.174348,33.253328,33.137491,33.140847,33.137189,33.176193,33.14455,33.172187,33.163143,33.223827,33.238278,33.250948,33.221912,33.177802,33.15466,33.135397,33.239757,33.21799,33.170923,33.250517,33.215541,33.138029,33.177707,33.150522,33.152935,33.17077,33.146353,33.144199,33.133537,33.155904,33.17173,33.258587,33.172805,33.150422,33.167818,33.25185,33.180619,33.1773,33.19037,33.143353,33.18222,33.156353,33.242023,33.173106,33.253475,33.228854,33.156024,33.181981,33.154004,33.224379,33.156351,33.143383,33.143414,33.158327,33.139163,33.247849,33.239586,33.212353,33.155841,33.143642,33.142767,33.134441,33.216806,33.167631,33.152413,33.232505,33.250699,33.176576,33.22537,33.225634,33.220741,33.161054,33.23321,33.170338,33.215483,33.136213,33.252516,33.202387,33.139838,33.139333,33.237657,33.246527,33.230475,33.218213,33.157715,33.171409,33.1745,33.258587,33.152814,33.240639,33.239328,33.136601,33.178837,33.153051,33.223291,33.180998,33.156931,33.25071,33.138648,33.221615,33.25391,33.179836,33.240774,33.137707,33.258378,33.295077,33.144938,33.166003,33.1682,33.205792,33.137151,33.177937,33.191062,33.221277,33.15491,33.173011,33.184346,33.196085,33.208358,33.184363,33.259625,33.183266,33.223763,33.177083,33.159407,33.140643,33.18005,33.163463,33.142909,33.227762,33.213649,33.243704,33.185069,33.248587,33.165497,33.205518,33.239831,33.230475,33.258313,33.140059,33.215442,33.210539,33.171412,33.25844,33.1745,33.242207,33.193126,33.251871,33.219524,33.190462,33.202823,33.217848,33.215263,33.241272,33.227311,33.15198,33.22383,33.174537,33.230532,33.150887,33.1818,33.206383,33.166277,33.248022,33.173827,33.213793,33.231114,33.203252,33.226757,33.154603,33.152872,33.169063,33.220143,33.223013,33.196841,33.247958,33.212992,33.250176,33.214208,33.189787,33.191217,33.238349,33.196265,33.197577,33.226636,33.238321,33.176842,33.265999,33.222654,33.214465,33.25209,33.219523,33.250352,33.220949,33.248339,33.163337,33.178712,33.210947,33.18373,33.201258,33.258401,33.239103,33.1595,33.231097,33.231288,33.208126,33.223826,33.198547,33.169611,33.140581,33.14552,33.171948,33.186592,33.190067,33.253444,33.215553,33.185788,33.177533,33.21735,33.210827,33.160143,33.239757,33.218402,33.206544,33.175274,33.147103,33.197677,33.210678,33.150377,33.25466,33.166795,33.145995,33.146015,33.212898,33.180342,33.191261,33.197577,33.214924,33.229888,33.16097,33.21178,33.170748,33.207979,33.17864,33.203747,33.223619,33.207288,33.169831,33.251505,33.170587,33.174267,33.219889,33.146796,33.146065,33.1745,33.173453,33.181353,33.190468,33.221558,33.180885,33.186592,33.20829,33.208143,33.212015,33.238917,33.212015,33.208143,33.226,33.1905,33.23325,33.215553,33.177937,33.186592,33.204614,33.205651,33.265091,33.211404,33.212898,33.208115,33.206438,33.171449,33.251505,33.178712,33.196945,33.236629,33.208143,33.25567,33.173719,33.238675,33.193721,33.196841,33.14366,33.217987,33.252161,33.208143,33.206438,33.210481,33.179296,33.165994,33.201641,33.134818,33.212898,33.180394,33.248033,33.233102,33.227812,33.138768,33.174355,33.227782,33.161745,33.136399,33.197577,33.185069,33.212015,33.215596,33.206544,33.202867,33.142691,33.164455,33.210467,33.195217,33.228957,33.214445,33.227493,33.144387,33.208143,33.206437,33.207979,33.204134,33.222571,33.141522,33.237463,33.169938,33.164461,33.215553,33.244135,33.219026,33.173573,33.229888,33.173184,33.201258,33.256363,33.138029,33.210188,33.208115,33.151928,33.211731,33.230034,33.215543,33.218257,33.210947,33.245042,33.223847,33.189783,33.140106,33.131785,33.158636,33.215563,33.136705,33.214924,33.167544,33.210967,33.132342,33.221128,33.193721,33.208103,33.23117,33.225519,33.177933,33.154687,33.213319,33.247708,33.195563,33.22484,33.160969,33.236563,33.155852,33.217252,33.208115,33.198672,33.228543,33.144627,33.197601,33.247996,33.211693,33.196054,33.167879,33.155833,33.14634],\"legendgroup\":\"\",\"lon\":[-97.258254,-97.121205,-97.053138,-97.132361,-97.060067,-97.131506,-97.118838,-97.121579,-97.241081,-97.128796,-97.100048,-97.109119,-97.104182,-97.247083,-97.156836,-97.113491,-97.092274,-97.103323,-97.120526,-97.100934,-97.075065,-97.116082,-97.094457,-97.159154,-97.126718,-97.098944,-97.121722,-97.13007,-97.12571,-97.163165,-97.152123,-97.144771,-97.144774,-97.144774,-97.106777,-97.118091,-97.102332,-97.151759,-97.110496,-97.113807,-97.243108,-97.135043,-97.11836,-97.114286,-97.107936,-97.093811,-97.109713,-97.152778,-97.106265,-97.174044,-97.131073,-97.128547,-97.117451,-97.147537,-97.098655,-97.158496,-97.11285,-97.139854,-97.140512,-97.11592,-97.170824,-97.120046,-97.112677,-97.112822,-97.092274,-97.11662,-97.19275,-97.057253,-97.110392,-97.127025,-97.160005,-97.246325,-97.101716,-97.244034,-97.240977,-97.068606,-97.114496,-97.135033,-97.099234,-97.110245,-97.090981,-97.113587,-97.105952,-97.105952,-97.076703,-97.105244,-97.12363,-97.099274,-97.101919,-97.103319,-97.151687,-97.134581,-97.117211,-97.119747,-97.254639,-97.111734,-97.076212,-97.246767,-97.053468,-97.163928,-97.115156,-97.105174,-97.171216,-97.189194,-97.231227,-97.120191,-97.111375,-97.230841,-97.109056,-97.108595,-97.104132,-97.25371,-97.115543,-97.257508,-97.103863,-97.118346,-97.143694,-97.111642,-97.151094,-97.141287,-97.108936,-97.117694,-97.056287,-97.124326,-97.231007,-97.128239,-97.117656,-97.146027,-97.103485,-97.143357,-97.114965,-97.076133,-97.120107,-97.124794,-97.14826,-97.254402,-97.239,-97.23341,-97.106247,-97.124318,-97.131497,-97.06337,-97.096307,-97.102948,-97.110207,-97.119618,-97.101523,-97.124684,-97.191925,-97.122625,-97.108007,-97.120434,-97.074166,-97.103579,-97.141114,-97.158005,-97.121886,-97.100786,-97.140329,-97.108335,-97.100594,-97.239949,-97.128941,-97.232113,-97.154991,-97.129154,-97.131321,-97.094918,-97.23465,-97.106045,-97.188641,-97.141746,-97.113891,-97.093481,-97.14829,-97.115775,-97.057139,-97.086996,-97.150426,-97.215406,-97.105952,-97.115156,-97.134254,-97.138273,-97.187661,-97.13711,-97.117238,-97.189383,-97.192884,-97.134593,-97.141328,-97.095874,-97.058953,-97.095371,-97.079359,-97.099869,-97.131497,-97.124462,-97.126814,-97.109148,-97.113872,-97.109747,-97.103291,-97.11151,-97.123954,-97.095767,-97.136574,-97.186634,-97.146481,-97.122982,-97.066476,-97.110297,-97.257402,-97.12152,-97.07857,-97.116862,-97.10543,-97.147176,-97.076655,-97.182276,-97.10395,-97.131404,-97.129515,-97.127862,-97.173744,-97.116413,-97.145957,-97.128959,-97.09388,-97.120299,-97.1123,-97.117706,-97.108122,-97.125793,-97.246436,-97.123315,-97.115904,-97.230097,-97.098938,-97.158501,-97.136243,-97.093934,-97.140486,-97.102723,-97.125456,-97.118934,-97.095874,-97.131483,-97.190826,-97.104247,-97.143301,-97.079425,-97.118528,-97.099869,-97.131671,-97.144772,-97.146837,-97.124924,-97.129766,-97.07574,-97.11799,-97.165594,-97.143808,-97.132374,-97.091398,-97.134779,-97.13097,-97.129128,-97.092446,-97.057313,-97.13789,-97.105346,-97.140815,-97.108446,-97.161544,-97.147465,-97.14138,-97.147549,-97.099006,-97.093599,-97.163,-97.130084,-97.122965,-97.121459,-97.138495,-97.128525,-97.156879,-97.100863,-97.164472,-97.147063,-97.15012,-97.118154,-97.129326,-97.086343,-97.17186,-97.074782,-97.123357,-97.148559,-97.140448,-97.14299,-97.141452,-97.128486,-97.151506,-97.108816,-97.067943,-97.098006,-97.163928,-97.138994,-97.161311,-97.117561,-97.173786,-97.096264,-97.145088,-97.110498,-97.150991,-97.133405,-97.128811,-97.117143,-97.186282,-97.116586,-97.145716,-97.101435,-97.12306,-97.146503,-97.14512,-97.091891,-97.121905,-97.105177,-97.131453,-97.090446,-97.128239,-97.056451,-97.0722,-97.14198,-97.100409,-97.14525,-97.132316,-97.11221,-97.122214,-97.107247,-97.249752,-97.234077,-97.154876,-97.1088,-97.127682,-97.129326,-97.103404,-97.127434,-97.090327,-97.150165,-97.142683,-97.150008,-97.110126,-97.115283,-97.127126,-97.125002,-97.10441,-97.154419,-97.07635,-97.064351,-97.124604,-97.24855,-97.11184,-97.099869,-97.173314,-97.107546,-97.124684,-97.138831,-97.061592,-97.101435,-97.141344,-97.15218,-97.155217,-97.18501,-97.155217,-97.15218,-97.159676,-97.124684,-97.100352,-97.14512,-97.10395,-97.101435,-97.138054,-97.137726,-97.125976,-97.144495,-97.154876,-97.150125,-97.142158,-97.129156,-97.154419,-97.098006,-97.117707,-97.117554,-97.15218,-97.119636,-97.105338,-97.166377,-97.131323,-97.121459,-97.101746,-97.14656,-97.134719,-97.15218,-97.142158,-97.088067,-97.053799,-97.104196,-97.060518,-97.250314,-97.154876,-97.059845,-97.103664,-97.153298,-97.142896,-97.258028,-97.072789,-97.124825,-97.092377,-97.184639,-97.129326,-97.093934,-97.155217,-97.162627,-97.0722,-97.125218,-97.256436,-97.132463,-97.125386,-97.088949,-97.100274,-97.138305,-97.140726,-97.112012,-97.15218,-97.11799,-97.150008,-97.116479,-97.102749,-97.254615,-97.169954,-97.078499,-97.102051,-97.14512,-97.120615,-97.110179,-97.067566,-97.127434,-97.074161,-97.161311,-97.122753,-97.114965,-97.112146,-97.150125,-97.095512,-97.060263,-97.100641,-97.11013,-97.095496,-97.163928,-97.098178,-97.151714,-97.121683,-97.240163,-97.257163,-97.12693,-97.10996,-97.191412,-97.103404,-97.103059,-97.157424,-97.200553,-97.130936,-97.131323,-97.14731,-97.117445,-97.100086,-97.065444,-97.09887,-97.05094,-97.140826,-97.119812,-97.110229,-97.096264,-97.119808,-97.095246,-97.053379,-97.150125,-97.137878,-97.139308,-97.102582,-97.124062,-97.117967,-97.158426,-97.143731,-97.145212,-97.125595,-97.112696],\"marker\":{\"color\":[23,24,19,3,4,34,26,25,2,1,21,21,24,23,33,25,6,21,0,15,20,25,29,7,17,21,25,1,1,33,7,7,32,32,15,11,29,10,0,8,2,28,1,8,0,29,0,32,16,13,34,8,25,32,21,32,25,18,28,15,13,11,25,25,6,0,5,4,11,1,32,23,15,2,2,20,0,3,21,16,21,0,15,15,14,16,25,29,16,21,32,17,25,11,23,25,20,23,4,10,0,21,31,5,2,25,25,2,24,15,21,23,24,23,6,24,12,15,32,18,21,26,4,1,2,17,26,12,21,28,24,20,1,1,12,23,2,2,15,34,8,4,9,15,21,25,6,30,5,25,15,17,20,21,3,33,25,9,3,15,24,2,1,2,18,17,28,9,2,24,5,28,15,9,32,8,4,29,32,22,15,0,34,28,5,18,11,5,5,17,18,29,19,9,20,6,8,1,17,0,24,25,9,16,25,9,18,5,32,8,4,0,23,8,27,24,15,12,14,5,6,30,26,1,31,25,7,28,6,8,25,26,6,1,23,25,15,2,29,10,18,6,18,15,11,0,29,8,5,16,28,20,8,6,17,7,18,26,30,14,26,10,18,3,9,3,34,17,9,4,28,15,18,15,10,32,7,32,9,9,31,26,26,11,18,26,18,16,31,7,18,11,30,29,13,20,8,32,28,18,3,8,32,21,20,6,10,12,10,8,13,9,32,0,10,3,30,15,5,24,12,6,30,18,28,6,25,16,28,9,17,19,14,12,9,7,28,24,8,15,23,2,10,25,30,30,16,17,9,10,12,10,25,11,26,11,15,18,20,4,26,23,24,6,31,6,30,3,4,6,28,10,10,13,10,10,32,30,29,28,6,6,28,28,8,28,10,10,28,34,18,6,11,0,10,8,15,13,30,11,24,32,18,10,28,14,4,15,19,23,10,4,21,32,3,23,20,26,9,5,30,6,10,10,14,11,23,34,26,14,29,28,3,24,10,11,10,11,16,23,13,20,15,28,17,16,20,17,20,10,8,24,16,10,9,19,29,16,29,10,21,32,30,2,23,1,16,5,16,15,10,5,3,30,10,0,29,4,9,19,18,11,16,9,0,9,19,10,7,3,24,30,8,10,7,12,1,24],\"coloraxis\":\"coloraxis\",\"size\":[33.142602,33.144572,33.21454,33.227924,33.175101,33.170617,33.217498,33.181524,33.142835,33.156595,33.245651,33.245835,33.143679,33.13358,33.153207,33.179446,33.184746,33.250509,33.234495,33.17119,33.167561,33.172871,33.217191,33.193916,33.246511,33.244658,33.18276,33.155776,33.155833,33.145191,33.202011,33.193166,33.223567,33.223567,33.168403,33.196263,33.224063,33.203425,33.230431,33.251036,33.140786,33.211433,33.162649,33.256585,33.233145,33.226369,33.238866,33.234481,33.223383,33.236691,33.167223,33.250628,33.188048,33.222637,33.23877,33.221748,33.180743,33.252926,33.213704,33.162917,33.239225,33.198418,33.180509,33.184327,33.184746,33.237063,33.140338,33.177534,33.196816,33.158637,33.223735,33.141867,33.169954,33.142809,33.13458,33.16956,33.239076,33.226025,33.238178,33.219517,33.250394,33.234971,33.161054,33.161054,33.206187,33.217974,33.185148,33.222602,33.221033,33.250784,33.224987,33.237833,33.188019,33.209873,33.131973,33.180953,33.168103,33.140675,33.178423,33.210947,33.23321,33.249986,33.171562,33.135777,33.138073,33.178387,33.177995,33.135756,33.142787,33.174348,33.253328,33.137491,33.140847,33.137189,33.176193,33.14455,33.172187,33.163143,33.223827,33.238278,33.250948,33.221912,33.177802,33.15466,33.135397,33.239757,33.21799,33.170923,33.250517,33.215541,33.138029,33.177707,33.150522,33.152935,33.17077,33.146353,33.144199,33.133537,33.155904,33.17173,33.258587,33.172805,33.150422,33.167818,33.25185,33.180619,33.1773,33.19037,33.143353,33.18222,33.156353,33.242023,33.173106,33.253475,33.228854,33.156024,33.181981,33.154004,33.224379,33.156351,33.143383,33.143414,33.158327,33.139163,33.247849,33.239586,33.212353,33.155841,33.143642,33.142767,33.134441,33.216806,33.167631,33.152413,33.232505,33.250699,33.176576,33.22537,33.225634,33.220741,33.161054,33.23321,33.170338,33.215483,33.136213,33.252516,33.202387,33.139838,33.139333,33.237657,33.246527,33.230475,33.218213,33.157715,33.171409,33.1745,33.258587,33.152814,33.240639,33.239328,33.136601,33.178837,33.153051,33.223291,33.180998,33.156931,33.25071,33.138648,33.221615,33.25391,33.179836,33.240774,33.137707,33.258378,33.295077,33.144938,33.166003,33.1682,33.205792,33.137151,33.177937,33.191062,33.221277,33.15491,33.173011,33.184346,33.196085,33.208358,33.184363,33.259625,33.183266,33.223763,33.177083,33.159407,33.140643,33.18005,33.163463,33.142909,33.227762,33.213649,33.243704,33.185069,33.248587,33.165497,33.205518,33.239831,33.230475,33.258313,33.140059,33.215442,33.210539,33.171412,33.25844,33.1745,33.242207,33.193126,33.251871,33.219524,33.190462,33.202823,33.217848,33.215263,33.241272,33.227311,33.15198,33.22383,33.174537,33.230532,33.150887,33.1818,33.206383,33.166277,33.248022,33.173827,33.213793,33.231114,33.203252,33.226757,33.154603,33.152872,33.169063,33.220143,33.223013,33.196841,33.247958,33.212992,33.250176,33.214208,33.189787,33.191217,33.238349,33.196265,33.197577,33.226636,33.238321,33.176842,33.265999,33.222654,33.214465,33.25209,33.219523,33.250352,33.220949,33.248339,33.163337,33.178712,33.210947,33.18373,33.201258,33.258401,33.239103,33.1595,33.231097,33.231288,33.208126,33.223826,33.198547,33.169611,33.140581,33.14552,33.171948,33.186592,33.190067,33.253444,33.215553,33.185788,33.177533,33.21735,33.210827,33.160143,33.239757,33.218402,33.206544,33.175274,33.147103,33.197677,33.210678,33.150377,33.25466,33.166795,33.145995,33.146015,33.212898,33.180342,33.191261,33.197577,33.214924,33.229888,33.16097,33.21178,33.170748,33.207979,33.17864,33.203747,33.223619,33.207288,33.169831,33.251505,33.170587,33.174267,33.219889,33.146796,33.146065,33.1745,33.173453,33.181353,33.190468,33.221558,33.180885,33.186592,33.20829,33.208143,33.212015,33.238917,33.212015,33.208143,33.226,33.1905,33.23325,33.215553,33.177937,33.186592,33.204614,33.205651,33.265091,33.211404,33.212898,33.208115,33.206438,33.171449,33.251505,33.178712,33.196945,33.236629,33.208143,33.25567,33.173719,33.238675,33.193721,33.196841,33.14366,33.217987,33.252161,33.208143,33.206438,33.210481,33.179296,33.165994,33.201641,33.134818,33.212898,33.180394,33.248033,33.233102,33.227812,33.138768,33.174355,33.227782,33.161745,33.136399,33.197577,33.185069,33.212015,33.215596,33.206544,33.202867,33.142691,33.164455,33.210467,33.195217,33.228957,33.214445,33.227493,33.144387,33.208143,33.206437,33.207979,33.204134,33.222571,33.141522,33.237463,33.169938,33.164461,33.215553,33.244135,33.219026,33.173573,33.229888,33.173184,33.201258,33.256363,33.138029,33.210188,33.208115,33.151928,33.211731,33.230034,33.215543,33.218257,33.210947,33.245042,33.223847,33.189783,33.140106,33.131785,33.158636,33.215563,33.136705,33.214924,33.167544,33.210967,33.132342,33.221128,33.193721,33.208103,33.23117,33.225519,33.177933,33.154687,33.213319,33.247708,33.195563,33.22484,33.160969,33.236563,33.155852,33.217252,33.208115,33.198672,33.228543,33.144627,33.197601,33.247996,33.211693,33.196054,33.167879,33.155833,33.14634],\"sizemode\":\"area\",\"sizeref\":0.33295077},\"mode\":\"markers\",\"name\":\"\",\"showlegend\":false,\"subplot\":\"mapbox\",\"type\":\"scattermapbox\"}],                        {\"template\":{\"data\":{\"histogram2dcontour\":[{\"type\":\"histogram2dcontour\",\"colorbar\":{\"outlinewidth\":0,\"ticks\":\"\"},\"colorscale\":[[0.0,\"#0d0887\"],[0.1111111111111111,\"#46039f\"],[0.2222222222222222,\"#7201a8\"],[0.3333333333333333,\"#9c179e\"],[0.4444444444444444,\"#bd3786\"],[0.5555555555555556,\"#d8576b\"],[0.6666666666666666,\"#ed7953\"],[0.7777777777777778,\"#fb9f3a\"],[0.8888888888888888,\"#fdca26\"],[1.0,\"#f0f921\"]]}],\"choropleth\":[{\"type\":\"choropleth\",\"colorbar\":{\"outlinewidth\":0,\"ticks\":\"\"}}],\"histogram2d\":[{\"type\":\"histogram2d\",\"colorbar\":{\"outlinewidth\":0,\"ticks\":\"\"},\"colorscale\":[[0.0,\"#0d0887\"],[0.1111111111111111,\"#46039f\"],[0.2222222222222222,\"#7201a8\"],[0.3333333333333333,\"#9c179e\"],[0.4444444444444444,\"#bd3786\"],[0.5555555555555556,\"#d8576b\"],[0.6666666666666666,\"#ed7953\"],[0.7777777777777778,\"#fb9f3a\"],[0.8888888888888888,\"#fdca26\"],[1.0,\"#f0f921\"]]}],\"heatmap\":[{\"type\":\"heatmap\",\"colorbar\":{\"outlinewidth\":0,\"ticks\":\"\"},\"colorscale\":[[0.0,\"#0d0887\"],[0.1111111111111111,\"#46039f\"],[0.2222222222222222,\"#7201a8\"],[0.3333333333333333,\"#9c179e\"],[0.4444444444444444,\"#bd3786\"],[0.5555555555555556,\"#d8576b\"],[0.6666666666666666,\"#ed7953\"],[0.7777777777777778,\"#fb9f3a\"],[0.8888888888888888,\"#fdca26\"],[1.0,\"#f0f921\"]]}],\"heatmapgl\":[{\"type\":\"heatmapgl\",\"colorbar\":{\"outlinewidth\":0,\"ticks\":\"\"},\"colorscale\":[[0.0,\"#0d0887\"],[0.1111111111111111,\"#46039f\"],[0.2222222222222222,\"#7201a8\"],[0.3333333333333333,\"#9c179e\"],[0.4444444444444444,\"#bd3786\"],[0.5555555555555556,\"#d8576b\"],[0.6666666666666666,\"#ed7953\"],[0.7777777777777778,\"#fb9f3a\"],[0.8888888888888888,\"#fdca26\"],[1.0,\"#f0f921\"]]}],\"contourcarpet\":[{\"type\":\"contourcarpet\",\"colorbar\":{\"outlinewidth\":0,\"ticks\":\"\"}}],\"contour\":[{\"type\":\"contour\",\"colorbar\":{\"outlinewidth\":0,\"ticks\":\"\"},\"colorscale\":[[0.0,\"#0d0887\"],[0.1111111111111111,\"#46039f\"],[0.2222222222222222,\"#7201a8\"],[0.3333333333333333,\"#9c179e\"],[0.4444444444444444,\"#bd3786\"],[0.5555555555555556,\"#d8576b\"],[0.6666666666666666,\"#ed7953\"],[0.7777777777777778,\"#fb9f3a\"],[0.8888888888888888,\"#fdca26\"],[1.0,\"#f0f921\"]]}],\"surface\":[{\"type\":\"surface\",\"colorbar\":{\"outlinewidth\":0,\"ticks\":\"\"},\"colorscale\":[[0.0,\"#0d0887\"],[0.1111111111111111,\"#46039f\"],[0.2222222222222222,\"#7201a8\"],[0.3333333333333333,\"#9c179e\"],[0.4444444444444444,\"#bd3786\"],[0.5555555555555556,\"#d8576b\"],[0.6666666666666666,\"#ed7953\"],[0.7777777777777778,\"#fb9f3a\"],[0.8888888888888888,\"#fdca26\"],[1.0,\"#f0f921\"]]}],\"mesh3d\":[{\"type\":\"mesh3d\",\"colorbar\":{\"outlinewidth\":0,\"ticks\":\"\"}}],\"scatter\":[{\"fillpattern\":{\"fillmode\":\"overlay\",\"size\":10,\"solidity\":0.2},\"type\":\"scatter\"}],\"parcoords\":[{\"type\":\"parcoords\",\"line\":{\"colorbar\":{\"outlinewidth\":0,\"ticks\":\"\"}}}],\"scatterpolargl\":[{\"type\":\"scatterpolargl\",\"marker\":{\"colorbar\":{\"outlinewidth\":0,\"ticks\":\"\"}}}],\"bar\":[{\"error_x\":{\"color\":\"#2a3f5f\"},\"error_y\":{\"color\":\"#2a3f5f\"},\"marker\":{\"line\":{\"color\":\"#E5ECF6\",\"width\":0.5},\"pattern\":{\"fillmode\":\"overlay\",\"size\":10,\"solidity\":0.2}},\"type\":\"bar\"}],\"scattergeo\":[{\"type\":\"scattergeo\",\"marker\":{\"colorbar\":{\"outlinewidth\":0,\"ticks\":\"\"}}}],\"scatterpolar\":[{\"type\":\"scatterpolar\",\"marker\":{\"colorbar\":{\"outlinewidth\":0,\"ticks\":\"\"}}}],\"histogram\":[{\"marker\":{\"pattern\":{\"fillmode\":\"overlay\",\"size\":10,\"solidity\":0.2}},\"type\":\"histogram\"}],\"scattergl\":[{\"type\":\"scattergl\",\"marker\":{\"colorbar\":{\"outlinewidth\":0,\"ticks\":\"\"}}}],\"scatter3d\":[{\"type\":\"scatter3d\",\"line\":{\"colorbar\":{\"outlinewidth\":0,\"ticks\":\"\"}},\"marker\":{\"colorbar\":{\"outlinewidth\":0,\"ticks\":\"\"}}}],\"scattermapbox\":[{\"type\":\"scattermapbox\",\"marker\":{\"colorbar\":{\"outlinewidth\":0,\"ticks\":\"\"}}}],\"scatterternary\":[{\"type\":\"scatterternary\",\"marker\":{\"colorbar\":{\"outlinewidth\":0,\"ticks\":\"\"}}}],\"scattercarpet\":[{\"type\":\"scattercarpet\",\"marker\":{\"colorbar\":{\"outlinewidth\":0,\"ticks\":\"\"}}}],\"carpet\":[{\"aaxis\":{\"endlinecolor\":\"#2a3f5f\",\"gridcolor\":\"white\",\"linecolor\":\"white\",\"minorgridcolor\":\"white\",\"startlinecolor\":\"#2a3f5f\"},\"baxis\":{\"endlinecolor\":\"#2a3f5f\",\"gridcolor\":\"white\",\"linecolor\":\"white\",\"minorgridcolor\":\"white\",\"startlinecolor\":\"#2a3f5f\"},\"type\":\"carpet\"}],\"table\":[{\"cells\":{\"fill\":{\"color\":\"#EBF0F8\"},\"line\":{\"color\":\"white\"}},\"header\":{\"fill\":{\"color\":\"#C8D4E3\"},\"line\":{\"color\":\"white\"}},\"type\":\"table\"}],\"barpolar\":[{\"marker\":{\"line\":{\"color\":\"#E5ECF6\",\"width\":0.5},\"pattern\":{\"fillmode\":\"overlay\",\"size\":10,\"solidity\":0.2}},\"type\":\"barpolar\"}],\"pie\":[{\"automargin\":true,\"type\":\"pie\"}]},\"layout\":{\"autotypenumbers\":\"strict\",\"colorway\":[\"#636efa\",\"#EF553B\",\"#00cc96\",\"#ab63fa\",\"#FFA15A\",\"#19d3f3\",\"#FF6692\",\"#B6E880\",\"#FF97FF\",\"#FECB52\"],\"font\":{\"color\":\"#2a3f5f\"},\"hovermode\":\"closest\",\"hoverlabel\":{\"align\":\"left\"},\"paper_bgcolor\":\"white\",\"plot_bgcolor\":\"#E5ECF6\",\"polar\":{\"bgcolor\":\"#E5ECF6\",\"angularaxis\":{\"gridcolor\":\"white\",\"linecolor\":\"white\",\"ticks\":\"\"},\"radialaxis\":{\"gridcolor\":\"white\",\"linecolor\":\"white\",\"ticks\":\"\"}},\"ternary\":{\"bgcolor\":\"#E5ECF6\",\"aaxis\":{\"gridcolor\":\"white\",\"linecolor\":\"white\",\"ticks\":\"\"},\"baxis\":{\"gridcolor\":\"white\",\"linecolor\":\"white\",\"ticks\":\"\"},\"caxis\":{\"gridcolor\":\"white\",\"linecolor\":\"white\",\"ticks\":\"\"}},\"coloraxis\":{\"colorbar\":{\"outlinewidth\":0,\"ticks\":\"\"}},\"colorscale\":{\"sequential\":[[0.0,\"#0d0887\"],[0.1111111111111111,\"#46039f\"],[0.2222222222222222,\"#7201a8\"],[0.3333333333333333,\"#9c179e\"],[0.4444444444444444,\"#bd3786\"],[0.5555555555555556,\"#d8576b\"],[0.6666666666666666,\"#ed7953\"],[0.7777777777777778,\"#fb9f3a\"],[0.8888888888888888,\"#fdca26\"],[1.0,\"#f0f921\"]],\"sequentialminus\":[[0.0,\"#0d0887\"],[0.1111111111111111,\"#46039f\"],[0.2222222222222222,\"#7201a8\"],[0.3333333333333333,\"#9c179e\"],[0.4444444444444444,\"#bd3786\"],[0.5555555555555556,\"#d8576b\"],[0.6666666666666666,\"#ed7953\"],[0.7777777777777778,\"#fb9f3a\"],[0.8888888888888888,\"#fdca26\"],[1.0,\"#f0f921\"]],\"diverging\":[[0,\"#8e0152\"],[0.1,\"#c51b7d\"],[0.2,\"#de77ae\"],[0.3,\"#f1b6da\"],[0.4,\"#fde0ef\"],[0.5,\"#f7f7f7\"],[0.6,\"#e6f5d0\"],[0.7,\"#b8e186\"],[0.8,\"#7fbc41\"],[0.9,\"#4d9221\"],[1,\"#276419\"]]},\"xaxis\":{\"gridcolor\":\"white\",\"linecolor\":\"white\",\"ticks\":\"\",\"title\":{\"standoff\":15},\"zerolinecolor\":\"white\",\"automargin\":true,\"zerolinewidth\":2},\"yaxis\":{\"gridcolor\":\"white\",\"linecolor\":\"white\",\"ticks\":\"\",\"title\":{\"standoff\":15},\"zerolinecolor\":\"white\",\"automargin\":true,\"zerolinewidth\":2},\"scene\":{\"xaxis\":{\"backgroundcolor\":\"#E5ECF6\",\"gridcolor\":\"white\",\"linecolor\":\"white\",\"showbackground\":true,\"ticks\":\"\",\"zerolinecolor\":\"white\",\"gridwidth\":2},\"yaxis\":{\"backgroundcolor\":\"#E5ECF6\",\"gridcolor\":\"white\",\"linecolor\":\"white\",\"showbackground\":true,\"ticks\":\"\",\"zerolinecolor\":\"white\",\"gridwidth\":2},\"zaxis\":{\"backgroundcolor\":\"#E5ECF6\",\"gridcolor\":\"white\",\"linecolor\":\"white\",\"showbackground\":true,\"ticks\":\"\",\"zerolinecolor\":\"white\",\"gridwidth\":2}},\"shapedefaults\":{\"line\":{\"color\":\"#2a3f5f\"}},\"annotationdefaults\":{\"arrowcolor\":\"#2a3f5f\",\"arrowhead\":0,\"arrowwidth\":1},\"geo\":{\"bgcolor\":\"white\",\"landcolor\":\"#E5ECF6\",\"subunitcolor\":\"white\",\"showland\":true,\"showlakes\":true,\"lakecolor\":\"white\"},\"title\":{\"x\":0.05},\"mapbox\":{\"style\":\"light\"}}},\"mapbox\":{\"domain\":{\"x\":[0.0,1.0],\"y\":[0.0,1.0]},\"center\":{\"lat\":33.196365730923695,\"lon\":-97.13001544979919},\"zoom\":10,\"style\":\"open-street-map\"},\"coloraxis\":{\"colorbar\":{\"title\":{\"text\":\"delivery_route\"}},\"colorscale\":[[0.0,\"#000000\"],[0.0625,\"#001f4d\"],[0.125,\"#003786\"],[0.1875,\"#0e58a8\"],[0.25,\"#217eb8\"],[0.3125,\"#30a4ca\"],[0.375,\"#54c8df\"],[0.4375,\"#9be4ef\"],[0.5,\"#e1e9d1\"],[0.5625,\"#f3d573\"],[0.625,\"#e7b000\"],[0.6875,\"#da8200\"],[0.75,\"#c65400\"],[0.8125,\"#ac2301\"],[0.875,\"#820000\"],[0.9375,\"#4c0000\"],[1.0,\"#000000\"]]},\"legend\":{\"tracegroupgap\":0,\"itemsizing\":\"constant\"},\"margin\":{\"t\":0,\"r\":0,\"l\":0,\"b\":0}},                        {\"responsive\": true}                    ).then(function(){\n",
       "                            \n",
       "var gd = document.getElementById('be2380f3-5d76-48e9-9796-3261925aad58');\n",
       "var x = new MutationObserver(function (mutations, observer) {{\n",
       "        var display = window.getComputedStyle(gd).display;\n",
       "        if (!display || display === 'none') {{\n",
       "            console.log([gd, 'removed!']);\n",
       "            Plotly.purge(gd);\n",
       "            observer.disconnect();\n",
       "        }}\n",
       "}});\n",
       "\n",
       "// Listen for the removal of the full notebook cells\n",
       "var notebookContainer = gd.closest('#notebook-container');\n",
       "if (notebookContainer) {{\n",
       "    x.observe(notebookContainer, {childList: true});\n",
       "}}\n",
       "\n",
       "// Listen for the clearing of the current output cell\n",
       "var outputEl = gd.closest('.output');\n",
       "if (outputEl) {{\n",
       "    x.observe(outputEl, {childList: true});\n",
       "}}\n",
       "\n",
       "                        })                };                });            </script>        </div>"
      ]
     },
     "metadata": {},
     "output_type": "display_data"
    }
   ],
   "source": [
    "import plotly.express as px\n",
    "fig = px.scatter_mapbox(\n",
    "                        df2, \n",
    "                        lat=\"lat\", \n",
    "                        lon=\"lng\", \n",
    "                        color=\"delivery_route\", \n",
    "                        color_continuous_scale=px.colors.cyclical.IceFire,\n",
    "                        size_max=10, \n",
    "                        size=\"lat\", \n",
    "                        zoom=10\n",
    "                       ) \n",
    "fig.update_layout(mapbox_style=\"open-street-map\")\n",
    "fig.update_layout(margin={\"r\":0,\"t\":0,\"l\":0,\"b\":0})\n",
    "fig.show()"
   ]
  },
  {
   "cell_type": "markdown",
   "metadata": {},
   "source": [
    "### Kmeans Constrained\n",
    "\n",
    "Let's try utilyzing Kmeans Constrained which allows us to set the number of clusters as well as the max size and minimum size of the clusters. I used the same no_of_clusters variable and then dynamically set the max to the desired list size and minimum to be a relatively arbitrary number of -3 as to keep the variance to a minimum."
   ]
  },
  {
   "cell_type": "code",
   "execution_count": null,
   "metadata": {},
   "outputs": [
    {
     "data": {
      "text/html": [
       "<div>\n",
       "<style scoped>\n",
       "    .dataframe tbody tr th:only-of-type {\n",
       "        vertical-align: middle;\n",
       "    }\n",
       "\n",
       "    .dataframe tbody tr th {\n",
       "        vertical-align: top;\n",
       "    }\n",
       "\n",
       "    .dataframe thead th {\n",
       "        text-align: right;\n",
       "    }\n",
       "</style>\n",
       "<table border=\"1\" class=\"dataframe\">\n",
       "  <thead>\n",
       "    <tr style=\"text-align: right;\">\n",
       "      <th></th>\n",
       "      <th>Voter File VANID</th>\n",
       "      <th>lat</th>\n",
       "      <th>lng</th>\n",
       "      <th>delivery_route</th>\n",
       "    </tr>\n",
       "  </thead>\n",
       "  <tbody>\n",
       "    <tr>\n",
       "      <th>0</th>\n",
       "      <td>302815</td>\n",
       "      <td>33.142602</td>\n",
       "      <td>-97.258254</td>\n",
       "      <td>23</td>\n",
       "    </tr>\n",
       "    <tr>\n",
       "      <th>1</th>\n",
       "      <td>575048</td>\n",
       "      <td>33.144572</td>\n",
       "      <td>-97.121205</td>\n",
       "      <td>7</td>\n",
       "    </tr>\n",
       "    <tr>\n",
       "      <th>2</th>\n",
       "      <td>640440</td>\n",
       "      <td>33.214540</td>\n",
       "      <td>-97.053138</td>\n",
       "      <td>11</td>\n",
       "    </tr>\n",
       "    <tr>\n",
       "      <th>3</th>\n",
       "      <td>689001</td>\n",
       "      <td>33.227924</td>\n",
       "      <td>-97.132361</td>\n",
       "      <td>1</td>\n",
       "    </tr>\n",
       "    <tr>\n",
       "      <th>4</th>\n",
       "      <td>1025558</td>\n",
       "      <td>33.175101</td>\n",
       "      <td>-97.060067</td>\n",
       "      <td>21</td>\n",
       "    </tr>\n",
       "    <tr>\n",
       "      <th>5</th>\n",
       "      <td>1705627</td>\n",
       "      <td>33.170617</td>\n",
       "      <td>-97.131506</td>\n",
       "      <td>30</td>\n",
       "    </tr>\n",
       "    <tr>\n",
       "      <th>6</th>\n",
       "      <td>1712651</td>\n",
       "      <td>33.217498</td>\n",
       "      <td>-97.118838</td>\n",
       "      <td>13</td>\n",
       "    </tr>\n",
       "    <tr>\n",
       "      <th>7</th>\n",
       "      <td>2075916</td>\n",
       "      <td>33.181524</td>\n",
       "      <td>-97.121579</td>\n",
       "      <td>32</td>\n",
       "    </tr>\n",
       "    <tr>\n",
       "      <th>8</th>\n",
       "      <td>2342933</td>\n",
       "      <td>33.142835</td>\n",
       "      <td>-97.241081</td>\n",
       "      <td>2</td>\n",
       "    </tr>\n",
       "    <tr>\n",
       "      <th>9</th>\n",
       "      <td>2510307</td>\n",
       "      <td>33.156595</td>\n",
       "      <td>-97.128796</td>\n",
       "      <td>26</td>\n",
       "    </tr>\n",
       "  </tbody>\n",
       "</table>\n",
       "</div>"
      ],
      "text/plain": [
       "   Voter File VANID        lat        lng  delivery_route\n",
       "0            302815  33.142602 -97.258254              23\n",
       "1            575048  33.144572 -97.121205               7\n",
       "2            640440  33.214540 -97.053138              11\n",
       "3            689001  33.227924 -97.132361               1\n",
       "4           1025558  33.175101 -97.060067              21\n",
       "5           1705627  33.170617 -97.131506              30\n",
       "6           1712651  33.217498 -97.118838              13\n",
       "7           2075916  33.181524 -97.121579              32\n",
       "8           2342933  33.142835 -97.241081               2\n",
       "9           2510307  33.156595 -97.128796              26"
      ]
     },
     "execution_count": 148,
     "metadata": {},
     "output_type": "execute_result"
    }
   ],
   "source": [
    "kmeans = KMeansConstrained(\n",
    "    n_clusters=no_of_clusters,\n",
    "    size_min=desired_list_size - 3,\n",
    "    size_max=desired_list_size,\n",
    "    random_state=0)\n",
    "kmeans.fit(df2[df2.columns[1:3]]) # Compute k-means clustering.\n",
    "df['delivery_route'] = kmeans.fit_predict(df2[df2.columns[1:3]])\n",
    "centers = kmeans.cluster_centers_ # Coordinates of cluster centers.\n",
    "labels = kmeans.predict(df2[df2.columns[1:3]]) # Labels of each point\n",
    "df2.head(10)"
   ]
  },
  {
   "cell_type": "markdown",
   "metadata": {},
   "source": [
    "Now you can see below that we have the same number of clusters but they are within 12 - 15 addresses per cluster."
   ]
  },
  {
   "cell_type": "code",
   "execution_count": null,
   "metadata": {},
   "outputs": [
    {
     "data": {
      "text/html": [
       "<div>\n",
       "<style scoped>\n",
       "    .dataframe tbody tr th:only-of-type {\n",
       "        vertical-align: middle;\n",
       "    }\n",
       "\n",
       "    .dataframe tbody tr th {\n",
       "        vertical-align: top;\n",
       "    }\n",
       "\n",
       "    .dataframe thead th {\n",
       "        text-align: right;\n",
       "    }\n",
       "</style>\n",
       "<table border=\"1\" class=\"dataframe\">\n",
       "  <thead>\n",
       "    <tr style=\"text-align: right;\">\n",
       "      <th></th>\n",
       "      <th>Voter File VANID</th>\n",
       "      <th>lat</th>\n",
       "      <th>lng</th>\n",
       "    </tr>\n",
       "    <tr>\n",
       "      <th>delivery_route</th>\n",
       "      <th></th>\n",
       "      <th></th>\n",
       "      <th></th>\n",
       "    </tr>\n",
       "  </thead>\n",
       "  <tbody>\n",
       "    <tr>\n",
       "      <th>0</th>\n",
       "      <td>15</td>\n",
       "      <td>15</td>\n",
       "      <td>15</td>\n",
       "    </tr>\n",
       "    <tr>\n",
       "      <th>1</th>\n",
       "      <td>15</td>\n",
       "      <td>15</td>\n",
       "      <td>15</td>\n",
       "    </tr>\n",
       "    <tr>\n",
       "      <th>2</th>\n",
       "      <td>15</td>\n",
       "      <td>15</td>\n",
       "      <td>15</td>\n",
       "    </tr>\n",
       "    <tr>\n",
       "      <th>3</th>\n",
       "      <td>15</td>\n",
       "      <td>15</td>\n",
       "      <td>15</td>\n",
       "    </tr>\n",
       "    <tr>\n",
       "      <th>4</th>\n",
       "      <td>14</td>\n",
       "      <td>14</td>\n",
       "      <td>14</td>\n",
       "    </tr>\n",
       "    <tr>\n",
       "      <th>5</th>\n",
       "      <td>15</td>\n",
       "      <td>15</td>\n",
       "      <td>15</td>\n",
       "    </tr>\n",
       "    <tr>\n",
       "      <th>6</th>\n",
       "      <td>15</td>\n",
       "      <td>15</td>\n",
       "      <td>15</td>\n",
       "    </tr>\n",
       "    <tr>\n",
       "      <th>7</th>\n",
       "      <td>13</td>\n",
       "      <td>13</td>\n",
       "      <td>13</td>\n",
       "    </tr>\n",
       "    <tr>\n",
       "      <th>8</th>\n",
       "      <td>15</td>\n",
       "      <td>15</td>\n",
       "      <td>15</td>\n",
       "    </tr>\n",
       "    <tr>\n",
       "      <th>9</th>\n",
       "      <td>15</td>\n",
       "      <td>15</td>\n",
       "      <td>15</td>\n",
       "    </tr>\n",
       "    <tr>\n",
       "      <th>10</th>\n",
       "      <td>15</td>\n",
       "      <td>15</td>\n",
       "      <td>15</td>\n",
       "    </tr>\n",
       "    <tr>\n",
       "      <th>11</th>\n",
       "      <td>12</td>\n",
       "      <td>12</td>\n",
       "      <td>12</td>\n",
       "    </tr>\n",
       "    <tr>\n",
       "      <th>12</th>\n",
       "      <td>15</td>\n",
       "      <td>15</td>\n",
       "      <td>15</td>\n",
       "    </tr>\n",
       "    <tr>\n",
       "      <th>13</th>\n",
       "      <td>15</td>\n",
       "      <td>15</td>\n",
       "      <td>15</td>\n",
       "    </tr>\n",
       "    <tr>\n",
       "      <th>14</th>\n",
       "      <td>12</td>\n",
       "      <td>12</td>\n",
       "      <td>12</td>\n",
       "    </tr>\n",
       "    <tr>\n",
       "      <th>15</th>\n",
       "      <td>13</td>\n",
       "      <td>13</td>\n",
       "      <td>13</td>\n",
       "    </tr>\n",
       "    <tr>\n",
       "      <th>16</th>\n",
       "      <td>15</td>\n",
       "      <td>15</td>\n",
       "      <td>15</td>\n",
       "    </tr>\n",
       "    <tr>\n",
       "      <th>17</th>\n",
       "      <td>15</td>\n",
       "      <td>15</td>\n",
       "      <td>15</td>\n",
       "    </tr>\n",
       "    <tr>\n",
       "      <th>18</th>\n",
       "      <td>12</td>\n",
       "      <td>12</td>\n",
       "      <td>12</td>\n",
       "    </tr>\n",
       "    <tr>\n",
       "      <th>19</th>\n",
       "      <td>15</td>\n",
       "      <td>15</td>\n",
       "      <td>15</td>\n",
       "    </tr>\n",
       "    <tr>\n",
       "      <th>20</th>\n",
       "      <td>15</td>\n",
       "      <td>15</td>\n",
       "      <td>15</td>\n",
       "    </tr>\n",
       "    <tr>\n",
       "      <th>21</th>\n",
       "      <td>13</td>\n",
       "      <td>13</td>\n",
       "      <td>13</td>\n",
       "    </tr>\n",
       "    <tr>\n",
       "      <th>22</th>\n",
       "      <td>15</td>\n",
       "      <td>15</td>\n",
       "      <td>15</td>\n",
       "    </tr>\n",
       "    <tr>\n",
       "      <th>23</th>\n",
       "      <td>15</td>\n",
       "      <td>15</td>\n",
       "      <td>15</td>\n",
       "    </tr>\n",
       "    <tr>\n",
       "      <th>24</th>\n",
       "      <td>15</td>\n",
       "      <td>15</td>\n",
       "      <td>15</td>\n",
       "    </tr>\n",
       "    <tr>\n",
       "      <th>25</th>\n",
       "      <td>15</td>\n",
       "      <td>15</td>\n",
       "      <td>15</td>\n",
       "    </tr>\n",
       "    <tr>\n",
       "      <th>26</th>\n",
       "      <td>14</td>\n",
       "      <td>14</td>\n",
       "      <td>14</td>\n",
       "    </tr>\n",
       "    <tr>\n",
       "      <th>27</th>\n",
       "      <td>15</td>\n",
       "      <td>15</td>\n",
       "      <td>15</td>\n",
       "    </tr>\n",
       "    <tr>\n",
       "      <th>28</th>\n",
       "      <td>15</td>\n",
       "      <td>15</td>\n",
       "      <td>15</td>\n",
       "    </tr>\n",
       "    <tr>\n",
       "      <th>29</th>\n",
       "      <td>12</td>\n",
       "      <td>12</td>\n",
       "      <td>12</td>\n",
       "    </tr>\n",
       "    <tr>\n",
       "      <th>30</th>\n",
       "      <td>12</td>\n",
       "      <td>12</td>\n",
       "      <td>12</td>\n",
       "    </tr>\n",
       "    <tr>\n",
       "      <th>31</th>\n",
       "      <td>15</td>\n",
       "      <td>15</td>\n",
       "      <td>15</td>\n",
       "    </tr>\n",
       "    <tr>\n",
       "      <th>32</th>\n",
       "      <td>15</td>\n",
       "      <td>15</td>\n",
       "      <td>15</td>\n",
       "    </tr>\n",
       "    <tr>\n",
       "      <th>33</th>\n",
       "      <td>12</td>\n",
       "      <td>12</td>\n",
       "      <td>12</td>\n",
       "    </tr>\n",
       "    <tr>\n",
       "      <th>34</th>\n",
       "      <td>14</td>\n",
       "      <td>14</td>\n",
       "      <td>14</td>\n",
       "    </tr>\n",
       "  </tbody>\n",
       "</table>\n",
       "</div>"
      ],
      "text/plain": [
       "                Voter File VANID  lat  lng\n",
       "delivery_route                            \n",
       "0                             15   15   15\n",
       "1                             15   15   15\n",
       "2                             15   15   15\n",
       "3                             15   15   15\n",
       "4                             14   14   14\n",
       "5                             15   15   15\n",
       "6                             15   15   15\n",
       "7                             13   13   13\n",
       "8                             15   15   15\n",
       "9                             15   15   15\n",
       "10                            15   15   15\n",
       "11                            12   12   12\n",
       "12                            15   15   15\n",
       "13                            15   15   15\n",
       "14                            12   12   12\n",
       "15                            13   13   13\n",
       "16                            15   15   15\n",
       "17                            15   15   15\n",
       "18                            12   12   12\n",
       "19                            15   15   15\n",
       "20                            15   15   15\n",
       "21                            13   13   13\n",
       "22                            15   15   15\n",
       "23                            15   15   15\n",
       "24                            15   15   15\n",
       "25                            15   15   15\n",
       "26                            14   14   14\n",
       "27                            15   15   15\n",
       "28                            15   15   15\n",
       "29                            12   12   12\n",
       "30                            12   12   12\n",
       "31                            15   15   15\n",
       "32                            15   15   15\n",
       "33                            12   12   12\n",
       "34                            14   14   14"
      ]
     },
     "execution_count": 149,
     "metadata": {},
     "output_type": "execute_result"
    }
   ],
   "source": [
    "df2.groupby(by=[\"delivery_route\"]).count()"
   ]
  },
  {
   "cell_type": "code",
   "execution_count": null,
   "metadata": {},
   "outputs": [
    {
     "data": {
      "application/vnd.plotly.v1+json": {
       "config": {
        "plotlyServerURL": "https://plot.ly"
       },
       "data": [
        {
         "hovertemplate": "lat=%{lat}<br>lng=%{lon}<br>delivery_route=%{marker.color}<extra></extra>",
         "lat": [
          33.142602,
          33.144572,
          33.21454,
          33.227924,
          33.175101,
          33.170617,
          33.217498,
          33.181524,
          33.142835,
          33.156595,
          33.245651,
          33.245835,
          33.143679,
          33.13358,
          33.153207,
          33.179446,
          33.184746,
          33.250509,
          33.234495,
          33.17119,
          33.167561,
          33.172871,
          33.217191,
          33.193916,
          33.246511,
          33.244658,
          33.18276,
          33.155776,
          33.155833,
          33.145191,
          33.202011,
          33.193166,
          33.223567,
          33.223567,
          33.168403,
          33.196263,
          33.224063,
          33.203425,
          33.230431,
          33.251036,
          33.140786,
          33.211433,
          33.162649,
          33.256585,
          33.233145,
          33.226369,
          33.238866,
          33.234481,
          33.223383,
          33.236691,
          33.167223,
          33.250628,
          33.188048,
          33.222637,
          33.23877,
          33.221748,
          33.180743,
          33.252926,
          33.213704,
          33.162917,
          33.239225,
          33.198418,
          33.180509,
          33.184327,
          33.184746,
          33.237063,
          33.140338,
          33.177534,
          33.196816,
          33.158637,
          33.223735,
          33.141867,
          33.169954,
          33.142809,
          33.13458,
          33.16956,
          33.239076,
          33.226025,
          33.238178,
          33.219517,
          33.250394,
          33.234971,
          33.161054,
          33.161054,
          33.206187,
          33.217974,
          33.185148,
          33.222602,
          33.221033,
          33.250784,
          33.224987,
          33.237833,
          33.188019,
          33.209873,
          33.131973,
          33.180953,
          33.168103,
          33.140675,
          33.178423,
          33.210947,
          33.23321,
          33.249986,
          33.171562,
          33.135777,
          33.138073,
          33.178387,
          33.177995,
          33.135756,
          33.142787,
          33.174348,
          33.253328,
          33.137491,
          33.140847,
          33.137189,
          33.176193,
          33.14455,
          33.172187,
          33.163143,
          33.223827,
          33.238278,
          33.250948,
          33.221912,
          33.177802,
          33.15466,
          33.135397,
          33.239757,
          33.21799,
          33.170923,
          33.250517,
          33.215541,
          33.138029,
          33.177707,
          33.150522,
          33.152935,
          33.17077,
          33.146353,
          33.144199,
          33.133537,
          33.155904,
          33.17173,
          33.258587,
          33.172805,
          33.150422,
          33.167818,
          33.25185,
          33.180619,
          33.1773,
          33.19037,
          33.143353,
          33.18222,
          33.156353,
          33.242023,
          33.173106,
          33.253475,
          33.228854,
          33.156024,
          33.181981,
          33.154004,
          33.224379,
          33.156351,
          33.143383,
          33.143414,
          33.158327,
          33.139163,
          33.247849,
          33.239586,
          33.212353,
          33.155841,
          33.143642,
          33.142767,
          33.134441,
          33.216806,
          33.167631,
          33.152413,
          33.232505,
          33.250699,
          33.176576,
          33.22537,
          33.225634,
          33.220741,
          33.161054,
          33.23321,
          33.170338,
          33.215483,
          33.136213,
          33.252516,
          33.202387,
          33.139838,
          33.139333,
          33.237657,
          33.246527,
          33.230475,
          33.218213,
          33.157715,
          33.171409,
          33.1745,
          33.258587,
          33.152814,
          33.240639,
          33.239328,
          33.136601,
          33.178837,
          33.153051,
          33.223291,
          33.180998,
          33.156931,
          33.25071,
          33.138648,
          33.221615,
          33.25391,
          33.179836,
          33.240774,
          33.137707,
          33.258378,
          33.295077,
          33.144938,
          33.166003,
          33.1682,
          33.205792,
          33.137151,
          33.177937,
          33.191062,
          33.221277,
          33.15491,
          33.173011,
          33.184346,
          33.196085,
          33.208358,
          33.184363,
          33.259625,
          33.183266,
          33.223763,
          33.177083,
          33.159407,
          33.140643,
          33.18005,
          33.163463,
          33.142909,
          33.227762,
          33.213649,
          33.243704,
          33.185069,
          33.248587,
          33.165497,
          33.205518,
          33.239831,
          33.230475,
          33.258313,
          33.140059,
          33.215442,
          33.210539,
          33.171412,
          33.25844,
          33.1745,
          33.242207,
          33.193126,
          33.251871,
          33.219524,
          33.190462,
          33.202823,
          33.217848,
          33.215263,
          33.241272,
          33.227311,
          33.15198,
          33.22383,
          33.174537,
          33.230532,
          33.150887,
          33.1818,
          33.206383,
          33.166277,
          33.248022,
          33.173827,
          33.213793,
          33.231114,
          33.203252,
          33.226757,
          33.154603,
          33.152872,
          33.169063,
          33.220143,
          33.223013,
          33.196841,
          33.247958,
          33.212992,
          33.250176,
          33.214208,
          33.189787,
          33.191217,
          33.238349,
          33.196265,
          33.197577,
          33.226636,
          33.238321,
          33.176842,
          33.265999,
          33.222654,
          33.214465,
          33.25209,
          33.219523,
          33.250352,
          33.220949,
          33.248339,
          33.163337,
          33.178712,
          33.210947,
          33.18373,
          33.201258,
          33.258401,
          33.239103,
          33.1595,
          33.231097,
          33.231288,
          33.208126,
          33.223826,
          33.198547,
          33.169611,
          33.140581,
          33.14552,
          33.171948,
          33.186592,
          33.190067,
          33.253444,
          33.215553,
          33.185788,
          33.177533,
          33.21735,
          33.210827,
          33.160143,
          33.239757,
          33.218402,
          33.206544,
          33.175274,
          33.147103,
          33.197677,
          33.210678,
          33.150377,
          33.25466,
          33.166795,
          33.145995,
          33.146015,
          33.212898,
          33.180342,
          33.191261,
          33.197577,
          33.214924,
          33.229888,
          33.16097,
          33.21178,
          33.170748,
          33.207979,
          33.17864,
          33.203747,
          33.223619,
          33.207288,
          33.169831,
          33.251505,
          33.170587,
          33.174267,
          33.219889,
          33.146796,
          33.146065,
          33.1745,
          33.173453,
          33.181353,
          33.190468,
          33.221558,
          33.180885,
          33.186592,
          33.20829,
          33.208143,
          33.212015,
          33.238917,
          33.212015,
          33.208143,
          33.226,
          33.1905,
          33.23325,
          33.215553,
          33.177937,
          33.186592,
          33.204614,
          33.205651,
          33.265091,
          33.211404,
          33.212898,
          33.208115,
          33.206438,
          33.171449,
          33.251505,
          33.178712,
          33.196945,
          33.236629,
          33.208143,
          33.25567,
          33.173719,
          33.238675,
          33.193721,
          33.196841,
          33.14366,
          33.217987,
          33.252161,
          33.208143,
          33.206438,
          33.210481,
          33.179296,
          33.165994,
          33.201641,
          33.134818,
          33.212898,
          33.180394,
          33.248033,
          33.233102,
          33.227812,
          33.138768,
          33.174355,
          33.227782,
          33.161745,
          33.136399,
          33.197577,
          33.185069,
          33.212015,
          33.215596,
          33.206544,
          33.202867,
          33.142691,
          33.164455,
          33.210467,
          33.195217,
          33.228957,
          33.214445,
          33.227493,
          33.144387,
          33.208143,
          33.206437,
          33.207979,
          33.204134,
          33.222571,
          33.141522,
          33.237463,
          33.169938,
          33.164461,
          33.215553,
          33.244135,
          33.219026,
          33.173573,
          33.229888,
          33.173184,
          33.201258,
          33.256363,
          33.138029,
          33.210188,
          33.208115,
          33.151928,
          33.211731,
          33.230034,
          33.215543,
          33.218257,
          33.210947,
          33.245042,
          33.223847,
          33.189783,
          33.140106,
          33.131785,
          33.158636,
          33.215563,
          33.136705,
          33.214924,
          33.167544,
          33.210967,
          33.132342,
          33.221128,
          33.193721,
          33.208103,
          33.23117,
          33.225519,
          33.177933,
          33.154687,
          33.213319,
          33.247708,
          33.195563,
          33.22484,
          33.160969,
          33.236563,
          33.155852,
          33.217252,
          33.208115,
          33.198672,
          33.228543,
          33.144627,
          33.197601,
          33.247996,
          33.211693,
          33.196054,
          33.167879,
          33.155833,
          33.14634
         ],
         "legendgroup": "",
         "lon": [
          -97.258254,
          -97.121205,
          -97.053138,
          -97.132361,
          -97.060067,
          -97.131506,
          -97.118838,
          -97.121579,
          -97.241081,
          -97.128796,
          -97.100048,
          -97.109119,
          -97.104182,
          -97.247083,
          -97.156836,
          -97.113491,
          -97.092274,
          -97.103323,
          -97.120526,
          -97.100934,
          -97.075065,
          -97.116082,
          -97.094457,
          -97.159154,
          -97.126718,
          -97.098944,
          -97.121722,
          -97.13007,
          -97.12571,
          -97.163165,
          -97.152123,
          -97.144771,
          -97.144774,
          -97.144774,
          -97.106777,
          -97.118091,
          -97.102332,
          -97.151759,
          -97.110496,
          -97.113807,
          -97.243108,
          -97.135043,
          -97.11836,
          -97.114286,
          -97.107936,
          -97.093811,
          -97.109713,
          -97.152778,
          -97.106265,
          -97.174044,
          -97.131073,
          -97.128547,
          -97.117451,
          -97.147537,
          -97.098655,
          -97.158496,
          -97.11285,
          -97.139854,
          -97.140512,
          -97.11592,
          -97.170824,
          -97.120046,
          -97.112677,
          -97.112822,
          -97.092274,
          -97.11662,
          -97.19275,
          -97.057253,
          -97.110392,
          -97.127025,
          -97.160005,
          -97.246325,
          -97.101716,
          -97.244034,
          -97.240977,
          -97.068606,
          -97.114496,
          -97.135033,
          -97.099234,
          -97.110245,
          -97.090981,
          -97.113587,
          -97.105952,
          -97.105952,
          -97.076703,
          -97.105244,
          -97.12363,
          -97.099274,
          -97.101919,
          -97.103319,
          -97.151687,
          -97.134581,
          -97.117211,
          -97.119747,
          -97.254639,
          -97.111734,
          -97.076212,
          -97.246767,
          -97.053468,
          -97.163928,
          -97.115156,
          -97.105174,
          -97.171216,
          -97.189194,
          -97.231227,
          -97.120191,
          -97.111375,
          -97.230841,
          -97.109056,
          -97.108595,
          -97.104132,
          -97.25371,
          -97.115543,
          -97.257508,
          -97.103863,
          -97.118346,
          -97.143694,
          -97.111642,
          -97.151094,
          -97.141287,
          -97.108936,
          -97.117694,
          -97.056287,
          -97.124326,
          -97.231007,
          -97.128239,
          -97.117656,
          -97.146027,
          -97.103485,
          -97.143357,
          -97.114965,
          -97.076133,
          -97.120107,
          -97.124794,
          -97.14826,
          -97.254402,
          -97.239,
          -97.23341,
          -97.106247,
          -97.124318,
          -97.131497,
          -97.06337,
          -97.096307,
          -97.102948,
          -97.110207,
          -97.119618,
          -97.101523,
          -97.124684,
          -97.191925,
          -97.122625,
          -97.108007,
          -97.120434,
          -97.074166,
          -97.103579,
          -97.141114,
          -97.158005,
          -97.121886,
          -97.100786,
          -97.140329,
          -97.108335,
          -97.100594,
          -97.239949,
          -97.128941,
          -97.232113,
          -97.154991,
          -97.129154,
          -97.131321,
          -97.094918,
          -97.23465,
          -97.106045,
          -97.188641,
          -97.141746,
          -97.113891,
          -97.093481,
          -97.14829,
          -97.115775,
          -97.057139,
          -97.086996,
          -97.150426,
          -97.215406,
          -97.105952,
          -97.115156,
          -97.134254,
          -97.138273,
          -97.187661,
          -97.13711,
          -97.117238,
          -97.189383,
          -97.192884,
          -97.134593,
          -97.141328,
          -97.095874,
          -97.058953,
          -97.095371,
          -97.079359,
          -97.099869,
          -97.131497,
          -97.124462,
          -97.126814,
          -97.109148,
          -97.113872,
          -97.109747,
          -97.103291,
          -97.11151,
          -97.123954,
          -97.095767,
          -97.136574,
          -97.186634,
          -97.146481,
          -97.122982,
          -97.066476,
          -97.110297,
          -97.257402,
          -97.12152,
          -97.07857,
          -97.116862,
          -97.10543,
          -97.147176,
          -97.076655,
          -97.182276,
          -97.10395,
          -97.131404,
          -97.129515,
          -97.127862,
          -97.173744,
          -97.116413,
          -97.145957,
          -97.128959,
          -97.09388,
          -97.120299,
          -97.1123,
          -97.117706,
          -97.108122,
          -97.125793,
          -97.246436,
          -97.123315,
          -97.115904,
          -97.230097,
          -97.098938,
          -97.158501,
          -97.136243,
          -97.093934,
          -97.140486,
          -97.102723,
          -97.125456,
          -97.118934,
          -97.095874,
          -97.131483,
          -97.190826,
          -97.104247,
          -97.143301,
          -97.079425,
          -97.118528,
          -97.099869,
          -97.131671,
          -97.144772,
          -97.146837,
          -97.124924,
          -97.129766,
          -97.07574,
          -97.11799,
          -97.165594,
          -97.143808,
          -97.132374,
          -97.091398,
          -97.134779,
          -97.13097,
          -97.129128,
          -97.092446,
          -97.057313,
          -97.13789,
          -97.105346,
          -97.140815,
          -97.108446,
          -97.161544,
          -97.147465,
          -97.14138,
          -97.147549,
          -97.099006,
          -97.093599,
          -97.163,
          -97.130084,
          -97.122965,
          -97.121459,
          -97.138495,
          -97.128525,
          -97.156879,
          -97.100863,
          -97.164472,
          -97.147063,
          -97.15012,
          -97.118154,
          -97.129326,
          -97.086343,
          -97.17186,
          -97.074782,
          -97.123357,
          -97.148559,
          -97.140448,
          -97.14299,
          -97.141452,
          -97.128486,
          -97.151506,
          -97.108816,
          -97.067943,
          -97.098006,
          -97.163928,
          -97.138994,
          -97.161311,
          -97.117561,
          -97.173786,
          -97.096264,
          -97.145088,
          -97.110498,
          -97.150991,
          -97.133405,
          -97.128811,
          -97.117143,
          -97.186282,
          -97.116586,
          -97.145716,
          -97.101435,
          -97.12306,
          -97.146503,
          -97.14512,
          -97.091891,
          -97.121905,
          -97.105177,
          -97.131453,
          -97.090446,
          -97.128239,
          -97.056451,
          -97.0722,
          -97.14198,
          -97.100409,
          -97.14525,
          -97.132316,
          -97.11221,
          -97.122214,
          -97.107247,
          -97.249752,
          -97.234077,
          -97.154876,
          -97.1088,
          -97.127682,
          -97.129326,
          -97.103404,
          -97.127434,
          -97.090327,
          -97.150165,
          -97.142683,
          -97.150008,
          -97.110126,
          -97.115283,
          -97.127126,
          -97.125002,
          -97.10441,
          -97.154419,
          -97.07635,
          -97.064351,
          -97.124604,
          -97.24855,
          -97.11184,
          -97.099869,
          -97.173314,
          -97.107546,
          -97.124684,
          -97.138831,
          -97.061592,
          -97.101435,
          -97.141344,
          -97.15218,
          -97.155217,
          -97.18501,
          -97.155217,
          -97.15218,
          -97.159676,
          -97.124684,
          -97.100352,
          -97.14512,
          -97.10395,
          -97.101435,
          -97.138054,
          -97.137726,
          -97.125976,
          -97.144495,
          -97.154876,
          -97.150125,
          -97.142158,
          -97.129156,
          -97.154419,
          -97.098006,
          -97.117707,
          -97.117554,
          -97.15218,
          -97.119636,
          -97.105338,
          -97.166377,
          -97.131323,
          -97.121459,
          -97.101746,
          -97.14656,
          -97.134719,
          -97.15218,
          -97.142158,
          -97.088067,
          -97.053799,
          -97.104196,
          -97.060518,
          -97.250314,
          -97.154876,
          -97.059845,
          -97.103664,
          -97.153298,
          -97.142896,
          -97.258028,
          -97.072789,
          -97.124825,
          -97.092377,
          -97.184639,
          -97.129326,
          -97.093934,
          -97.155217,
          -97.162627,
          -97.0722,
          -97.125218,
          -97.256436,
          -97.132463,
          -97.125386,
          -97.088949,
          -97.100274,
          -97.138305,
          -97.140726,
          -97.112012,
          -97.15218,
          -97.11799,
          -97.150008,
          -97.116479,
          -97.102749,
          -97.254615,
          -97.169954,
          -97.078499,
          -97.102051,
          -97.14512,
          -97.120615,
          -97.110179,
          -97.067566,
          -97.127434,
          -97.074161,
          -97.161311,
          -97.122753,
          -97.114965,
          -97.112146,
          -97.150125,
          -97.095512,
          -97.060263,
          -97.100641,
          -97.11013,
          -97.095496,
          -97.163928,
          -97.098178,
          -97.151714,
          -97.121683,
          -97.240163,
          -97.257163,
          -97.12693,
          -97.10996,
          -97.191412,
          -97.103404,
          -97.103059,
          -97.157424,
          -97.200553,
          -97.130936,
          -97.131323,
          -97.14731,
          -97.117445,
          -97.100086,
          -97.065444,
          -97.09887,
          -97.05094,
          -97.140826,
          -97.119812,
          -97.110229,
          -97.096264,
          -97.119808,
          -97.095246,
          -97.053379,
          -97.150125,
          -97.137878,
          -97.139308,
          -97.102582,
          -97.124062,
          -97.117967,
          -97.158426,
          -97.143731,
          -97.145212,
          -97.125595,
          -97.112696
         ],
         "marker": {
          "color": [
           23,
           7,
           11,
           1,
           21,
           30,
           13,
           32,
           2,
           26,
           24,
           10,
           15,
           23,
           29,
           25,
           33,
           24,
           20,
           8,
           4,
           25,
           5,
           18,
           3,
           24,
           32,
           26,
           26,
           29,
           18,
           18,
           16,
           16,
           0,
           17,
           5,
           18,
           10,
           34,
           2,
           27,
           26,
           34,
           10,
           5,
           10,
           22,
           31,
           14,
           30,
           3,
           32,
           16,
           10,
           14,
           25,
           3,
           27,
           0,
           14,
           17,
           25,
           25,
           33,
           10,
           6,
           21,
           33,
           26,
           14,
           2,
           8,
           2,
           2,
           4,
           10,
           1,
           10,
           31,
           24,
           10,
           0,
           0,
           11,
           31,
           32,
           5,
           5,
           24,
           16,
           3,
           32,
           13,
           23,
           25,
           4,
           2,
           21,
           9,
           10,
           24,
           29,
           6,
           2,
           32,
           25,
           6,
           7,
           25,
           24,
           23,
           7,
           23,
           8,
           7,
           30,
           0,
           16,
           22,
           24,
           31,
           21,
           26,
           2,
           20,
           13,
           29,
           24,
           27,
           7,
           4,
           26,
           26,
           29,
           23,
           2,
           2,
           15,
           30,
           3,
           21,
           15,
           8,
           24,
           32,
           8,
           17,
           6,
           32,
           15,
           20,
           4,
           24,
           1,
           29,
           32,
           15,
           1,
           15,
           15,
           2,
           26,
           2,
           22,
           20,
           13,
           19,
           2,
           15,
           6,
           27,
           0,
           19,
           16,
           34,
           21,
           5,
           16,
           14,
           0,
           10,
           30,
           27,
           6,
           3,
           17,
           6,
           6,
           3,
           22,
           5,
           11,
           19,
           4,
           8,
           3,
           26,
           20,
           10,
           7,
           25,
           15,
           31,
           32,
           19,
           3,
           6,
           16,
           34,
           21,
           10,
           23,
           34,
           24,
           7,
           0,
           29,
           11,
           29,
           8,
           17,
           1,
           26,
           29,
           32,
           18,
           12,
           33,
           34,
           25,
           31,
           25,
           26,
           23,
           32,
           0,
           6,
           5,
           9,
           3,
           33,
           22,
           0,
           13,
           20,
           5,
           3,
           6,
           31,
           27,
           4,
           34,
           8,
           3,
           18,
           22,
           13,
           17,
           11,
           13,
           9,
           22,
           1,
           19,
           1,
           30,
           20,
           19,
           21,
           12,
           0,
           22,
           25,
           9,
           16,
           12,
           16,
           15,
           19,
           29,
           1,
           1,
           17,
           3,
           13,
           22,
           31,
           18,
           18,
           22,
           17,
           12,
           5,
           14,
           4,
           34,
           16,
           27,
           22,
           27,
           3,
           16,
           24,
           4,
           8,
           9,
           30,
           18,
           34,
           14,
           19,
           16,
           10,
           28,
           1,
           12,
           0,
           6,
           7,
           30,
           33,
           32,
           22,
           27,
           33,
           32,
           31,
           12,
           19,
           20,
           11,
           11,
           30,
           15,
           18,
           12,
           7,
           34,
           0,
           23,
           2,
           9,
           25,
           17,
           12,
           31,
           20,
           19,
           28,
           30,
           28,
           25,
           13,
           1,
           13,
           8,
           22,
           4,
           21,
           13,
           23,
           7,
           8,
           29,
           25,
           17,
           1,
           21,
           33,
           27,
           28,
           9,
           14,
           9,
           28,
           14,
           17,
           10,
           27,
           8,
           33,
           12,
           12,
           34,
           27,
           9,
           28,
           28,
           30,
           22,
           8,
           17,
           20,
           28,
           34,
           8,
           14,
           12,
           17,
           15,
           27,
           3,
           28,
           28,
           33,
           21,
           0,
           11,
           23,
           9,
           21,
           24,
           14,
           16,
           23,
           4,
           20,
           19,
           6,
           12,
           33,
           9,
           9,
           11,
           12,
           23,
           30,
           13,
           33,
           5,
           27,
           1,
           7,
           28,
           13,
           28,
           13,
           5,
           23,
           14,
           4,
           0,
           27,
           20,
           31,
           4,
           20,
           4,
           18,
           34,
           7,
           13,
           28,
           19,
           11,
           5,
           31,
           5,
           9,
           24,
           16,
           32,
           2,
           23,
           26,
           31,
           6,
           31,
           8,
           9,
           6,
           1,
           12,
           28,
           20,
           5,
           21,
           19,
           11,
           22,
           17,
           31,
           19,
           20,
           19,
           11,
           28,
           12,
           1,
           15,
           17,
           34,
           9,
           18,
           29,
           26,
           7
          ],
          "coloraxis": "coloraxis",
          "size": [
           33.142602,
           33.144572,
           33.21454,
           33.227924,
           33.175101,
           33.170617,
           33.217498,
           33.181524,
           33.142835,
           33.156595,
           33.245651,
           33.245835,
           33.143679,
           33.13358,
           33.153207,
           33.179446,
           33.184746,
           33.250509,
           33.234495,
           33.17119,
           33.167561,
           33.172871,
           33.217191,
           33.193916,
           33.246511,
           33.244658,
           33.18276,
           33.155776,
           33.155833,
           33.145191,
           33.202011,
           33.193166,
           33.223567,
           33.223567,
           33.168403,
           33.196263,
           33.224063,
           33.203425,
           33.230431,
           33.251036,
           33.140786,
           33.211433,
           33.162649,
           33.256585,
           33.233145,
           33.226369,
           33.238866,
           33.234481,
           33.223383,
           33.236691,
           33.167223,
           33.250628,
           33.188048,
           33.222637,
           33.23877,
           33.221748,
           33.180743,
           33.252926,
           33.213704,
           33.162917,
           33.239225,
           33.198418,
           33.180509,
           33.184327,
           33.184746,
           33.237063,
           33.140338,
           33.177534,
           33.196816,
           33.158637,
           33.223735,
           33.141867,
           33.169954,
           33.142809,
           33.13458,
           33.16956,
           33.239076,
           33.226025,
           33.238178,
           33.219517,
           33.250394,
           33.234971,
           33.161054,
           33.161054,
           33.206187,
           33.217974,
           33.185148,
           33.222602,
           33.221033,
           33.250784,
           33.224987,
           33.237833,
           33.188019,
           33.209873,
           33.131973,
           33.180953,
           33.168103,
           33.140675,
           33.178423,
           33.210947,
           33.23321,
           33.249986,
           33.171562,
           33.135777,
           33.138073,
           33.178387,
           33.177995,
           33.135756,
           33.142787,
           33.174348,
           33.253328,
           33.137491,
           33.140847,
           33.137189,
           33.176193,
           33.14455,
           33.172187,
           33.163143,
           33.223827,
           33.238278,
           33.250948,
           33.221912,
           33.177802,
           33.15466,
           33.135397,
           33.239757,
           33.21799,
           33.170923,
           33.250517,
           33.215541,
           33.138029,
           33.177707,
           33.150522,
           33.152935,
           33.17077,
           33.146353,
           33.144199,
           33.133537,
           33.155904,
           33.17173,
           33.258587,
           33.172805,
           33.150422,
           33.167818,
           33.25185,
           33.180619,
           33.1773,
           33.19037,
           33.143353,
           33.18222,
           33.156353,
           33.242023,
           33.173106,
           33.253475,
           33.228854,
           33.156024,
           33.181981,
           33.154004,
           33.224379,
           33.156351,
           33.143383,
           33.143414,
           33.158327,
           33.139163,
           33.247849,
           33.239586,
           33.212353,
           33.155841,
           33.143642,
           33.142767,
           33.134441,
           33.216806,
           33.167631,
           33.152413,
           33.232505,
           33.250699,
           33.176576,
           33.22537,
           33.225634,
           33.220741,
           33.161054,
           33.23321,
           33.170338,
           33.215483,
           33.136213,
           33.252516,
           33.202387,
           33.139838,
           33.139333,
           33.237657,
           33.246527,
           33.230475,
           33.218213,
           33.157715,
           33.171409,
           33.1745,
           33.258587,
           33.152814,
           33.240639,
           33.239328,
           33.136601,
           33.178837,
           33.153051,
           33.223291,
           33.180998,
           33.156931,
           33.25071,
           33.138648,
           33.221615,
           33.25391,
           33.179836,
           33.240774,
           33.137707,
           33.258378,
           33.295077,
           33.144938,
           33.166003,
           33.1682,
           33.205792,
           33.137151,
           33.177937,
           33.191062,
           33.221277,
           33.15491,
           33.173011,
           33.184346,
           33.196085,
           33.208358,
           33.184363,
           33.259625,
           33.183266,
           33.223763,
           33.177083,
           33.159407,
           33.140643,
           33.18005,
           33.163463,
           33.142909,
           33.227762,
           33.213649,
           33.243704,
           33.185069,
           33.248587,
           33.165497,
           33.205518,
           33.239831,
           33.230475,
           33.258313,
           33.140059,
           33.215442,
           33.210539,
           33.171412,
           33.25844,
           33.1745,
           33.242207,
           33.193126,
           33.251871,
           33.219524,
           33.190462,
           33.202823,
           33.217848,
           33.215263,
           33.241272,
           33.227311,
           33.15198,
           33.22383,
           33.174537,
           33.230532,
           33.150887,
           33.1818,
           33.206383,
           33.166277,
           33.248022,
           33.173827,
           33.213793,
           33.231114,
           33.203252,
           33.226757,
           33.154603,
           33.152872,
           33.169063,
           33.220143,
           33.223013,
           33.196841,
           33.247958,
           33.212992,
           33.250176,
           33.214208,
           33.189787,
           33.191217,
           33.238349,
           33.196265,
           33.197577,
           33.226636,
           33.238321,
           33.176842,
           33.265999,
           33.222654,
           33.214465,
           33.25209,
           33.219523,
           33.250352,
           33.220949,
           33.248339,
           33.163337,
           33.178712,
           33.210947,
           33.18373,
           33.201258,
           33.258401,
           33.239103,
           33.1595,
           33.231097,
           33.231288,
           33.208126,
           33.223826,
           33.198547,
           33.169611,
           33.140581,
           33.14552,
           33.171948,
           33.186592,
           33.190067,
           33.253444,
           33.215553,
           33.185788,
           33.177533,
           33.21735,
           33.210827,
           33.160143,
           33.239757,
           33.218402,
           33.206544,
           33.175274,
           33.147103,
           33.197677,
           33.210678,
           33.150377,
           33.25466,
           33.166795,
           33.145995,
           33.146015,
           33.212898,
           33.180342,
           33.191261,
           33.197577,
           33.214924,
           33.229888,
           33.16097,
           33.21178,
           33.170748,
           33.207979,
           33.17864,
           33.203747,
           33.223619,
           33.207288,
           33.169831,
           33.251505,
           33.170587,
           33.174267,
           33.219889,
           33.146796,
           33.146065,
           33.1745,
           33.173453,
           33.181353,
           33.190468,
           33.221558,
           33.180885,
           33.186592,
           33.20829,
           33.208143,
           33.212015,
           33.238917,
           33.212015,
           33.208143,
           33.226,
           33.1905,
           33.23325,
           33.215553,
           33.177937,
           33.186592,
           33.204614,
           33.205651,
           33.265091,
           33.211404,
           33.212898,
           33.208115,
           33.206438,
           33.171449,
           33.251505,
           33.178712,
           33.196945,
           33.236629,
           33.208143,
           33.25567,
           33.173719,
           33.238675,
           33.193721,
           33.196841,
           33.14366,
           33.217987,
           33.252161,
           33.208143,
           33.206438,
           33.210481,
           33.179296,
           33.165994,
           33.201641,
           33.134818,
           33.212898,
           33.180394,
           33.248033,
           33.233102,
           33.227812,
           33.138768,
           33.174355,
           33.227782,
           33.161745,
           33.136399,
           33.197577,
           33.185069,
           33.212015,
           33.215596,
           33.206544,
           33.202867,
           33.142691,
           33.164455,
           33.210467,
           33.195217,
           33.228957,
           33.214445,
           33.227493,
           33.144387,
           33.208143,
           33.206437,
           33.207979,
           33.204134,
           33.222571,
           33.141522,
           33.237463,
           33.169938,
           33.164461,
           33.215553,
           33.244135,
           33.219026,
           33.173573,
           33.229888,
           33.173184,
           33.201258,
           33.256363,
           33.138029,
           33.210188,
           33.208115,
           33.151928,
           33.211731,
           33.230034,
           33.215543,
           33.218257,
           33.210947,
           33.245042,
           33.223847,
           33.189783,
           33.140106,
           33.131785,
           33.158636,
           33.215563,
           33.136705,
           33.214924,
           33.167544,
           33.210967,
           33.132342,
           33.221128,
           33.193721,
           33.208103,
           33.23117,
           33.225519,
           33.177933,
           33.154687,
           33.213319,
           33.247708,
           33.195563,
           33.22484,
           33.160969,
           33.236563,
           33.155852,
           33.217252,
           33.208115,
           33.198672,
           33.228543,
           33.144627,
           33.197601,
           33.247996,
           33.211693,
           33.196054,
           33.167879,
           33.155833,
           33.14634
          ],
          "sizemode": "area",
          "sizeref": 0.33295077
         },
         "mode": "markers",
         "name": "",
         "showlegend": false,
         "subplot": "mapbox",
         "type": "scattermapbox"
        }
       ],
       "layout": {
        "coloraxis": {
         "colorbar": {
          "title": {
           "text": "delivery_route"
          }
         },
         "colorscale": [
          [
           0,
           "rgb(12,51,131)"
          ],
          [
           0.25,
           "rgb(10,136,186)"
          ],
          [
           0.5,
           "rgb(242,211,56)"
          ],
          [
           0.75,
           "rgb(242,143,56)"
          ],
          [
           1,
           "rgb(217,30,30)"
          ]
         ]
        },
        "legend": {
         "itemsizing": "constant",
         "tracegroupgap": 0
        },
        "mapbox": {
         "center": {
          "lat": 33.196365730923695,
          "lon": -97.13001544979919
         },
         "domain": {
          "x": [
           0,
           1
          ],
          "y": [
           0,
           1
          ]
         },
         "style": "open-street-map",
         "zoom": 10
        },
        "margin": {
         "b": 0,
         "l": 0,
         "r": 0,
         "t": 0
        },
        "template": {
         "data": {
          "bar": [
           {
            "error_x": {
             "color": "#2a3f5f"
            },
            "error_y": {
             "color": "#2a3f5f"
            },
            "marker": {
             "line": {
              "color": "#E5ECF6",
              "width": 0.5
             },
             "pattern": {
              "fillmode": "overlay",
              "size": 10,
              "solidity": 0.2
             }
            },
            "type": "bar"
           }
          ],
          "barpolar": [
           {
            "marker": {
             "line": {
              "color": "#E5ECF6",
              "width": 0.5
             },
             "pattern": {
              "fillmode": "overlay",
              "size": 10,
              "solidity": 0.2
             }
            },
            "type": "barpolar"
           }
          ],
          "carpet": [
           {
            "aaxis": {
             "endlinecolor": "#2a3f5f",
             "gridcolor": "white",
             "linecolor": "white",
             "minorgridcolor": "white",
             "startlinecolor": "#2a3f5f"
            },
            "baxis": {
             "endlinecolor": "#2a3f5f",
             "gridcolor": "white",
             "linecolor": "white",
             "minorgridcolor": "white",
             "startlinecolor": "#2a3f5f"
            },
            "type": "carpet"
           }
          ],
          "choropleth": [
           {
            "colorbar": {
             "outlinewidth": 0,
             "ticks": ""
            },
            "type": "choropleth"
           }
          ],
          "contour": [
           {
            "colorbar": {
             "outlinewidth": 0,
             "ticks": ""
            },
            "colorscale": [
             [
              0,
              "#0d0887"
             ],
             [
              0.1111111111111111,
              "#46039f"
             ],
             [
              0.2222222222222222,
              "#7201a8"
             ],
             [
              0.3333333333333333,
              "#9c179e"
             ],
             [
              0.4444444444444444,
              "#bd3786"
             ],
             [
              0.5555555555555556,
              "#d8576b"
             ],
             [
              0.6666666666666666,
              "#ed7953"
             ],
             [
              0.7777777777777778,
              "#fb9f3a"
             ],
             [
              0.8888888888888888,
              "#fdca26"
             ],
             [
              1,
              "#f0f921"
             ]
            ],
            "type": "contour"
           }
          ],
          "contourcarpet": [
           {
            "colorbar": {
             "outlinewidth": 0,
             "ticks": ""
            },
            "type": "contourcarpet"
           }
          ],
          "heatmap": [
           {
            "colorbar": {
             "outlinewidth": 0,
             "ticks": ""
            },
            "colorscale": [
             [
              0,
              "#0d0887"
             ],
             [
              0.1111111111111111,
              "#46039f"
             ],
             [
              0.2222222222222222,
              "#7201a8"
             ],
             [
              0.3333333333333333,
              "#9c179e"
             ],
             [
              0.4444444444444444,
              "#bd3786"
             ],
             [
              0.5555555555555556,
              "#d8576b"
             ],
             [
              0.6666666666666666,
              "#ed7953"
             ],
             [
              0.7777777777777778,
              "#fb9f3a"
             ],
             [
              0.8888888888888888,
              "#fdca26"
             ],
             [
              1,
              "#f0f921"
             ]
            ],
            "type": "heatmap"
           }
          ],
          "heatmapgl": [
           {
            "colorbar": {
             "outlinewidth": 0,
             "ticks": ""
            },
            "colorscale": [
             [
              0,
              "#0d0887"
             ],
             [
              0.1111111111111111,
              "#46039f"
             ],
             [
              0.2222222222222222,
              "#7201a8"
             ],
             [
              0.3333333333333333,
              "#9c179e"
             ],
             [
              0.4444444444444444,
              "#bd3786"
             ],
             [
              0.5555555555555556,
              "#d8576b"
             ],
             [
              0.6666666666666666,
              "#ed7953"
             ],
             [
              0.7777777777777778,
              "#fb9f3a"
             ],
             [
              0.8888888888888888,
              "#fdca26"
             ],
             [
              1,
              "#f0f921"
             ]
            ],
            "type": "heatmapgl"
           }
          ],
          "histogram": [
           {
            "marker": {
             "pattern": {
              "fillmode": "overlay",
              "size": 10,
              "solidity": 0.2
             }
            },
            "type": "histogram"
           }
          ],
          "histogram2d": [
           {
            "colorbar": {
             "outlinewidth": 0,
             "ticks": ""
            },
            "colorscale": [
             [
              0,
              "#0d0887"
             ],
             [
              0.1111111111111111,
              "#46039f"
             ],
             [
              0.2222222222222222,
              "#7201a8"
             ],
             [
              0.3333333333333333,
              "#9c179e"
             ],
             [
              0.4444444444444444,
              "#bd3786"
             ],
             [
              0.5555555555555556,
              "#d8576b"
             ],
             [
              0.6666666666666666,
              "#ed7953"
             ],
             [
              0.7777777777777778,
              "#fb9f3a"
             ],
             [
              0.8888888888888888,
              "#fdca26"
             ],
             [
              1,
              "#f0f921"
             ]
            ],
            "type": "histogram2d"
           }
          ],
          "histogram2dcontour": [
           {
            "colorbar": {
             "outlinewidth": 0,
             "ticks": ""
            },
            "colorscale": [
             [
              0,
              "#0d0887"
             ],
             [
              0.1111111111111111,
              "#46039f"
             ],
             [
              0.2222222222222222,
              "#7201a8"
             ],
             [
              0.3333333333333333,
              "#9c179e"
             ],
             [
              0.4444444444444444,
              "#bd3786"
             ],
             [
              0.5555555555555556,
              "#d8576b"
             ],
             [
              0.6666666666666666,
              "#ed7953"
             ],
             [
              0.7777777777777778,
              "#fb9f3a"
             ],
             [
              0.8888888888888888,
              "#fdca26"
             ],
             [
              1,
              "#f0f921"
             ]
            ],
            "type": "histogram2dcontour"
           }
          ],
          "mesh3d": [
           {
            "colorbar": {
             "outlinewidth": 0,
             "ticks": ""
            },
            "type": "mesh3d"
           }
          ],
          "parcoords": [
           {
            "line": {
             "colorbar": {
              "outlinewidth": 0,
              "ticks": ""
             }
            },
            "type": "parcoords"
           }
          ],
          "pie": [
           {
            "automargin": true,
            "type": "pie"
           }
          ],
          "scatter": [
           {
            "fillpattern": {
             "fillmode": "overlay",
             "size": 10,
             "solidity": 0.2
            },
            "type": "scatter"
           }
          ],
          "scatter3d": [
           {
            "line": {
             "colorbar": {
              "outlinewidth": 0,
              "ticks": ""
             }
            },
            "marker": {
             "colorbar": {
              "outlinewidth": 0,
              "ticks": ""
             }
            },
            "type": "scatter3d"
           }
          ],
          "scattercarpet": [
           {
            "marker": {
             "colorbar": {
              "outlinewidth": 0,
              "ticks": ""
             }
            },
            "type": "scattercarpet"
           }
          ],
          "scattergeo": [
           {
            "marker": {
             "colorbar": {
              "outlinewidth": 0,
              "ticks": ""
             }
            },
            "type": "scattergeo"
           }
          ],
          "scattergl": [
           {
            "marker": {
             "colorbar": {
              "outlinewidth": 0,
              "ticks": ""
             }
            },
            "type": "scattergl"
           }
          ],
          "scattermapbox": [
           {
            "marker": {
             "colorbar": {
              "outlinewidth": 0,
              "ticks": ""
             }
            },
            "type": "scattermapbox"
           }
          ],
          "scatterpolar": [
           {
            "marker": {
             "colorbar": {
              "outlinewidth": 0,
              "ticks": ""
             }
            },
            "type": "scatterpolar"
           }
          ],
          "scatterpolargl": [
           {
            "marker": {
             "colorbar": {
              "outlinewidth": 0,
              "ticks": ""
             }
            },
            "type": "scatterpolargl"
           }
          ],
          "scatterternary": [
           {
            "marker": {
             "colorbar": {
              "outlinewidth": 0,
              "ticks": ""
             }
            },
            "type": "scatterternary"
           }
          ],
          "surface": [
           {
            "colorbar": {
             "outlinewidth": 0,
             "ticks": ""
            },
            "colorscale": [
             [
              0,
              "#0d0887"
             ],
             [
              0.1111111111111111,
              "#46039f"
             ],
             [
              0.2222222222222222,
              "#7201a8"
             ],
             [
              0.3333333333333333,
              "#9c179e"
             ],
             [
              0.4444444444444444,
              "#bd3786"
             ],
             [
              0.5555555555555556,
              "#d8576b"
             ],
             [
              0.6666666666666666,
              "#ed7953"
             ],
             [
              0.7777777777777778,
              "#fb9f3a"
             ],
             [
              0.8888888888888888,
              "#fdca26"
             ],
             [
              1,
              "#f0f921"
             ]
            ],
            "type": "surface"
           }
          ],
          "table": [
           {
            "cells": {
             "fill": {
              "color": "#EBF0F8"
             },
             "line": {
              "color": "white"
             }
            },
            "header": {
             "fill": {
              "color": "#C8D4E3"
             },
             "line": {
              "color": "white"
             }
            },
            "type": "table"
           }
          ]
         },
         "layout": {
          "annotationdefaults": {
           "arrowcolor": "#2a3f5f",
           "arrowhead": 0,
           "arrowwidth": 1
          },
          "autotypenumbers": "strict",
          "coloraxis": {
           "colorbar": {
            "outlinewidth": 0,
            "ticks": ""
           }
          },
          "colorscale": {
           "diverging": [
            [
             0,
             "#8e0152"
            ],
            [
             0.1,
             "#c51b7d"
            ],
            [
             0.2,
             "#de77ae"
            ],
            [
             0.3,
             "#f1b6da"
            ],
            [
             0.4,
             "#fde0ef"
            ],
            [
             0.5,
             "#f7f7f7"
            ],
            [
             0.6,
             "#e6f5d0"
            ],
            [
             0.7,
             "#b8e186"
            ],
            [
             0.8,
             "#7fbc41"
            ],
            [
             0.9,
             "#4d9221"
            ],
            [
             1,
             "#276419"
            ]
           ],
           "sequential": [
            [
             0,
             "#0d0887"
            ],
            [
             0.1111111111111111,
             "#46039f"
            ],
            [
             0.2222222222222222,
             "#7201a8"
            ],
            [
             0.3333333333333333,
             "#9c179e"
            ],
            [
             0.4444444444444444,
             "#bd3786"
            ],
            [
             0.5555555555555556,
             "#d8576b"
            ],
            [
             0.6666666666666666,
             "#ed7953"
            ],
            [
             0.7777777777777778,
             "#fb9f3a"
            ],
            [
             0.8888888888888888,
             "#fdca26"
            ],
            [
             1,
             "#f0f921"
            ]
           ],
           "sequentialminus": [
            [
             0,
             "#0d0887"
            ],
            [
             0.1111111111111111,
             "#46039f"
            ],
            [
             0.2222222222222222,
             "#7201a8"
            ],
            [
             0.3333333333333333,
             "#9c179e"
            ],
            [
             0.4444444444444444,
             "#bd3786"
            ],
            [
             0.5555555555555556,
             "#d8576b"
            ],
            [
             0.6666666666666666,
             "#ed7953"
            ],
            [
             0.7777777777777778,
             "#fb9f3a"
            ],
            [
             0.8888888888888888,
             "#fdca26"
            ],
            [
             1,
             "#f0f921"
            ]
           ]
          },
          "colorway": [
           "#636efa",
           "#EF553B",
           "#00cc96",
           "#ab63fa",
           "#FFA15A",
           "#19d3f3",
           "#FF6692",
           "#B6E880",
           "#FF97FF",
           "#FECB52"
          ],
          "font": {
           "color": "#2a3f5f"
          },
          "geo": {
           "bgcolor": "white",
           "lakecolor": "white",
           "landcolor": "#E5ECF6",
           "showlakes": true,
           "showland": true,
           "subunitcolor": "white"
          },
          "hoverlabel": {
           "align": "left"
          },
          "hovermode": "closest",
          "mapbox": {
           "style": "light"
          },
          "paper_bgcolor": "white",
          "plot_bgcolor": "#E5ECF6",
          "polar": {
           "angularaxis": {
            "gridcolor": "white",
            "linecolor": "white",
            "ticks": ""
           },
           "bgcolor": "#E5ECF6",
           "radialaxis": {
            "gridcolor": "white",
            "linecolor": "white",
            "ticks": ""
           }
          },
          "scene": {
           "xaxis": {
            "backgroundcolor": "#E5ECF6",
            "gridcolor": "white",
            "gridwidth": 2,
            "linecolor": "white",
            "showbackground": true,
            "ticks": "",
            "zerolinecolor": "white"
           },
           "yaxis": {
            "backgroundcolor": "#E5ECF6",
            "gridcolor": "white",
            "gridwidth": 2,
            "linecolor": "white",
            "showbackground": true,
            "ticks": "",
            "zerolinecolor": "white"
           },
           "zaxis": {
            "backgroundcolor": "#E5ECF6",
            "gridcolor": "white",
            "gridwidth": 2,
            "linecolor": "white",
            "showbackground": true,
            "ticks": "",
            "zerolinecolor": "white"
           }
          },
          "shapedefaults": {
           "line": {
            "color": "#2a3f5f"
           }
          },
          "ternary": {
           "aaxis": {
            "gridcolor": "white",
            "linecolor": "white",
            "ticks": ""
           },
           "baxis": {
            "gridcolor": "white",
            "linecolor": "white",
            "ticks": ""
           },
           "bgcolor": "#E5ECF6",
           "caxis": {
            "gridcolor": "white",
            "linecolor": "white",
            "ticks": ""
           }
          },
          "title": {
           "x": 0.05
          },
          "xaxis": {
           "automargin": true,
           "gridcolor": "white",
           "linecolor": "white",
           "ticks": "",
           "title": {
            "standoff": 15
           },
           "zerolinecolor": "white",
           "zerolinewidth": 2
          },
          "yaxis": {
           "automargin": true,
           "gridcolor": "white",
           "linecolor": "white",
           "ticks": "",
           "title": {
            "standoff": 15
           },
           "zerolinecolor": "white",
           "zerolinewidth": 2
          }
         }
        }
       }
      },
      "text/html": [
       "<div>                            <div id=\"1e8416d6-4a6a-4648-bf25-8f64cd2bafb6\" class=\"plotly-graph-div\" style=\"height:525px; width:100%;\"></div>            <script type=\"text/javascript\">                require([\"plotly\"], function(Plotly) {                    window.PLOTLYENV=window.PLOTLYENV || {};                                    if (document.getElementById(\"1e8416d6-4a6a-4648-bf25-8f64cd2bafb6\")) {                    Plotly.newPlot(                        \"1e8416d6-4a6a-4648-bf25-8f64cd2bafb6\",                        [{\"hovertemplate\":\"lat=%{lat}<br>lng=%{lon}<br>delivery_route=%{marker.color}<extra></extra>\",\"lat\":[33.142602,33.144572,33.21454,33.227924,33.175101,33.170617,33.217498,33.181524,33.142835,33.156595,33.245651,33.245835,33.143679,33.13358,33.153207,33.179446,33.184746,33.250509,33.234495,33.17119,33.167561,33.172871,33.217191,33.193916,33.246511,33.244658,33.18276,33.155776,33.155833,33.145191,33.202011,33.193166,33.223567,33.223567,33.168403,33.196263,33.224063,33.203425,33.230431,33.251036,33.140786,33.211433,33.162649,33.256585,33.233145,33.226369,33.238866,33.234481,33.223383,33.236691,33.167223,33.250628,33.188048,33.222637,33.23877,33.221748,33.180743,33.252926,33.213704,33.162917,33.239225,33.198418,33.180509,33.184327,33.184746,33.237063,33.140338,33.177534,33.196816,33.158637,33.223735,33.141867,33.169954,33.142809,33.13458,33.16956,33.239076,33.226025,33.238178,33.219517,33.250394,33.234971,33.161054,33.161054,33.206187,33.217974,33.185148,33.222602,33.221033,33.250784,33.224987,33.237833,33.188019,33.209873,33.131973,33.180953,33.168103,33.140675,33.178423,33.210947,33.23321,33.249986,33.171562,33.135777,33.138073,33.178387,33.177995,33.135756,33.142787,33.174348,33.253328,33.137491,33.140847,33.137189,33.176193,33.14455,33.172187,33.163143,33.223827,33.238278,33.250948,33.221912,33.177802,33.15466,33.135397,33.239757,33.21799,33.170923,33.250517,33.215541,33.138029,33.177707,33.150522,33.152935,33.17077,33.146353,33.144199,33.133537,33.155904,33.17173,33.258587,33.172805,33.150422,33.167818,33.25185,33.180619,33.1773,33.19037,33.143353,33.18222,33.156353,33.242023,33.173106,33.253475,33.228854,33.156024,33.181981,33.154004,33.224379,33.156351,33.143383,33.143414,33.158327,33.139163,33.247849,33.239586,33.212353,33.155841,33.143642,33.142767,33.134441,33.216806,33.167631,33.152413,33.232505,33.250699,33.176576,33.22537,33.225634,33.220741,33.161054,33.23321,33.170338,33.215483,33.136213,33.252516,33.202387,33.139838,33.139333,33.237657,33.246527,33.230475,33.218213,33.157715,33.171409,33.1745,33.258587,33.152814,33.240639,33.239328,33.136601,33.178837,33.153051,33.223291,33.180998,33.156931,33.25071,33.138648,33.221615,33.25391,33.179836,33.240774,33.137707,33.258378,33.295077,33.144938,33.166003,33.1682,33.205792,33.137151,33.177937,33.191062,33.221277,33.15491,33.173011,33.184346,33.196085,33.208358,33.184363,33.259625,33.183266,33.223763,33.177083,33.159407,33.140643,33.18005,33.163463,33.142909,33.227762,33.213649,33.243704,33.185069,33.248587,33.165497,33.205518,33.239831,33.230475,33.258313,33.140059,33.215442,33.210539,33.171412,33.25844,33.1745,33.242207,33.193126,33.251871,33.219524,33.190462,33.202823,33.217848,33.215263,33.241272,33.227311,33.15198,33.22383,33.174537,33.230532,33.150887,33.1818,33.206383,33.166277,33.248022,33.173827,33.213793,33.231114,33.203252,33.226757,33.154603,33.152872,33.169063,33.220143,33.223013,33.196841,33.247958,33.212992,33.250176,33.214208,33.189787,33.191217,33.238349,33.196265,33.197577,33.226636,33.238321,33.176842,33.265999,33.222654,33.214465,33.25209,33.219523,33.250352,33.220949,33.248339,33.163337,33.178712,33.210947,33.18373,33.201258,33.258401,33.239103,33.1595,33.231097,33.231288,33.208126,33.223826,33.198547,33.169611,33.140581,33.14552,33.171948,33.186592,33.190067,33.253444,33.215553,33.185788,33.177533,33.21735,33.210827,33.160143,33.239757,33.218402,33.206544,33.175274,33.147103,33.197677,33.210678,33.150377,33.25466,33.166795,33.145995,33.146015,33.212898,33.180342,33.191261,33.197577,33.214924,33.229888,33.16097,33.21178,33.170748,33.207979,33.17864,33.203747,33.223619,33.207288,33.169831,33.251505,33.170587,33.174267,33.219889,33.146796,33.146065,33.1745,33.173453,33.181353,33.190468,33.221558,33.180885,33.186592,33.20829,33.208143,33.212015,33.238917,33.212015,33.208143,33.226,33.1905,33.23325,33.215553,33.177937,33.186592,33.204614,33.205651,33.265091,33.211404,33.212898,33.208115,33.206438,33.171449,33.251505,33.178712,33.196945,33.236629,33.208143,33.25567,33.173719,33.238675,33.193721,33.196841,33.14366,33.217987,33.252161,33.208143,33.206438,33.210481,33.179296,33.165994,33.201641,33.134818,33.212898,33.180394,33.248033,33.233102,33.227812,33.138768,33.174355,33.227782,33.161745,33.136399,33.197577,33.185069,33.212015,33.215596,33.206544,33.202867,33.142691,33.164455,33.210467,33.195217,33.228957,33.214445,33.227493,33.144387,33.208143,33.206437,33.207979,33.204134,33.222571,33.141522,33.237463,33.169938,33.164461,33.215553,33.244135,33.219026,33.173573,33.229888,33.173184,33.201258,33.256363,33.138029,33.210188,33.208115,33.151928,33.211731,33.230034,33.215543,33.218257,33.210947,33.245042,33.223847,33.189783,33.140106,33.131785,33.158636,33.215563,33.136705,33.214924,33.167544,33.210967,33.132342,33.221128,33.193721,33.208103,33.23117,33.225519,33.177933,33.154687,33.213319,33.247708,33.195563,33.22484,33.160969,33.236563,33.155852,33.217252,33.208115,33.198672,33.228543,33.144627,33.197601,33.247996,33.211693,33.196054,33.167879,33.155833,33.14634],\"legendgroup\":\"\",\"lon\":[-97.258254,-97.121205,-97.053138,-97.132361,-97.060067,-97.131506,-97.118838,-97.121579,-97.241081,-97.128796,-97.100048,-97.109119,-97.104182,-97.247083,-97.156836,-97.113491,-97.092274,-97.103323,-97.120526,-97.100934,-97.075065,-97.116082,-97.094457,-97.159154,-97.126718,-97.098944,-97.121722,-97.13007,-97.12571,-97.163165,-97.152123,-97.144771,-97.144774,-97.144774,-97.106777,-97.118091,-97.102332,-97.151759,-97.110496,-97.113807,-97.243108,-97.135043,-97.11836,-97.114286,-97.107936,-97.093811,-97.109713,-97.152778,-97.106265,-97.174044,-97.131073,-97.128547,-97.117451,-97.147537,-97.098655,-97.158496,-97.11285,-97.139854,-97.140512,-97.11592,-97.170824,-97.120046,-97.112677,-97.112822,-97.092274,-97.11662,-97.19275,-97.057253,-97.110392,-97.127025,-97.160005,-97.246325,-97.101716,-97.244034,-97.240977,-97.068606,-97.114496,-97.135033,-97.099234,-97.110245,-97.090981,-97.113587,-97.105952,-97.105952,-97.076703,-97.105244,-97.12363,-97.099274,-97.101919,-97.103319,-97.151687,-97.134581,-97.117211,-97.119747,-97.254639,-97.111734,-97.076212,-97.246767,-97.053468,-97.163928,-97.115156,-97.105174,-97.171216,-97.189194,-97.231227,-97.120191,-97.111375,-97.230841,-97.109056,-97.108595,-97.104132,-97.25371,-97.115543,-97.257508,-97.103863,-97.118346,-97.143694,-97.111642,-97.151094,-97.141287,-97.108936,-97.117694,-97.056287,-97.124326,-97.231007,-97.128239,-97.117656,-97.146027,-97.103485,-97.143357,-97.114965,-97.076133,-97.120107,-97.124794,-97.14826,-97.254402,-97.239,-97.23341,-97.106247,-97.124318,-97.131497,-97.06337,-97.096307,-97.102948,-97.110207,-97.119618,-97.101523,-97.124684,-97.191925,-97.122625,-97.108007,-97.120434,-97.074166,-97.103579,-97.141114,-97.158005,-97.121886,-97.100786,-97.140329,-97.108335,-97.100594,-97.239949,-97.128941,-97.232113,-97.154991,-97.129154,-97.131321,-97.094918,-97.23465,-97.106045,-97.188641,-97.141746,-97.113891,-97.093481,-97.14829,-97.115775,-97.057139,-97.086996,-97.150426,-97.215406,-97.105952,-97.115156,-97.134254,-97.138273,-97.187661,-97.13711,-97.117238,-97.189383,-97.192884,-97.134593,-97.141328,-97.095874,-97.058953,-97.095371,-97.079359,-97.099869,-97.131497,-97.124462,-97.126814,-97.109148,-97.113872,-97.109747,-97.103291,-97.11151,-97.123954,-97.095767,-97.136574,-97.186634,-97.146481,-97.122982,-97.066476,-97.110297,-97.257402,-97.12152,-97.07857,-97.116862,-97.10543,-97.147176,-97.076655,-97.182276,-97.10395,-97.131404,-97.129515,-97.127862,-97.173744,-97.116413,-97.145957,-97.128959,-97.09388,-97.120299,-97.1123,-97.117706,-97.108122,-97.125793,-97.246436,-97.123315,-97.115904,-97.230097,-97.098938,-97.158501,-97.136243,-97.093934,-97.140486,-97.102723,-97.125456,-97.118934,-97.095874,-97.131483,-97.190826,-97.104247,-97.143301,-97.079425,-97.118528,-97.099869,-97.131671,-97.144772,-97.146837,-97.124924,-97.129766,-97.07574,-97.11799,-97.165594,-97.143808,-97.132374,-97.091398,-97.134779,-97.13097,-97.129128,-97.092446,-97.057313,-97.13789,-97.105346,-97.140815,-97.108446,-97.161544,-97.147465,-97.14138,-97.147549,-97.099006,-97.093599,-97.163,-97.130084,-97.122965,-97.121459,-97.138495,-97.128525,-97.156879,-97.100863,-97.164472,-97.147063,-97.15012,-97.118154,-97.129326,-97.086343,-97.17186,-97.074782,-97.123357,-97.148559,-97.140448,-97.14299,-97.141452,-97.128486,-97.151506,-97.108816,-97.067943,-97.098006,-97.163928,-97.138994,-97.161311,-97.117561,-97.173786,-97.096264,-97.145088,-97.110498,-97.150991,-97.133405,-97.128811,-97.117143,-97.186282,-97.116586,-97.145716,-97.101435,-97.12306,-97.146503,-97.14512,-97.091891,-97.121905,-97.105177,-97.131453,-97.090446,-97.128239,-97.056451,-97.0722,-97.14198,-97.100409,-97.14525,-97.132316,-97.11221,-97.122214,-97.107247,-97.249752,-97.234077,-97.154876,-97.1088,-97.127682,-97.129326,-97.103404,-97.127434,-97.090327,-97.150165,-97.142683,-97.150008,-97.110126,-97.115283,-97.127126,-97.125002,-97.10441,-97.154419,-97.07635,-97.064351,-97.124604,-97.24855,-97.11184,-97.099869,-97.173314,-97.107546,-97.124684,-97.138831,-97.061592,-97.101435,-97.141344,-97.15218,-97.155217,-97.18501,-97.155217,-97.15218,-97.159676,-97.124684,-97.100352,-97.14512,-97.10395,-97.101435,-97.138054,-97.137726,-97.125976,-97.144495,-97.154876,-97.150125,-97.142158,-97.129156,-97.154419,-97.098006,-97.117707,-97.117554,-97.15218,-97.119636,-97.105338,-97.166377,-97.131323,-97.121459,-97.101746,-97.14656,-97.134719,-97.15218,-97.142158,-97.088067,-97.053799,-97.104196,-97.060518,-97.250314,-97.154876,-97.059845,-97.103664,-97.153298,-97.142896,-97.258028,-97.072789,-97.124825,-97.092377,-97.184639,-97.129326,-97.093934,-97.155217,-97.162627,-97.0722,-97.125218,-97.256436,-97.132463,-97.125386,-97.088949,-97.100274,-97.138305,-97.140726,-97.112012,-97.15218,-97.11799,-97.150008,-97.116479,-97.102749,-97.254615,-97.169954,-97.078499,-97.102051,-97.14512,-97.120615,-97.110179,-97.067566,-97.127434,-97.074161,-97.161311,-97.122753,-97.114965,-97.112146,-97.150125,-97.095512,-97.060263,-97.100641,-97.11013,-97.095496,-97.163928,-97.098178,-97.151714,-97.121683,-97.240163,-97.257163,-97.12693,-97.10996,-97.191412,-97.103404,-97.103059,-97.157424,-97.200553,-97.130936,-97.131323,-97.14731,-97.117445,-97.100086,-97.065444,-97.09887,-97.05094,-97.140826,-97.119812,-97.110229,-97.096264,-97.119808,-97.095246,-97.053379,-97.150125,-97.137878,-97.139308,-97.102582,-97.124062,-97.117967,-97.158426,-97.143731,-97.145212,-97.125595,-97.112696],\"marker\":{\"color\":[23,7,11,1,21,30,13,32,2,26,24,10,15,23,29,25,33,24,20,8,4,25,5,18,3,24,32,26,26,29,18,18,16,16,0,17,5,18,10,34,2,27,26,34,10,5,10,22,31,14,30,3,32,16,10,14,25,3,27,0,14,17,25,25,33,10,6,21,33,26,14,2,8,2,2,4,10,1,10,31,24,10,0,0,11,31,32,5,5,24,16,3,32,13,23,25,4,2,21,9,10,24,29,6,2,32,25,6,7,25,24,23,7,23,8,7,30,0,16,22,24,31,21,26,2,20,13,29,24,27,7,4,26,26,29,23,2,2,15,30,3,21,15,8,24,32,8,17,6,32,15,20,4,24,1,29,32,15,1,15,15,2,26,2,22,20,13,19,2,15,6,27,0,19,16,34,21,5,16,14,0,10,30,27,6,3,17,6,6,3,22,5,11,19,4,8,3,26,20,10,7,25,15,31,32,19,3,6,16,34,21,10,23,34,24,7,0,29,11,29,8,17,1,26,29,32,18,12,33,34,25,31,25,26,23,32,0,6,5,9,3,33,22,0,13,20,5,3,6,31,27,4,34,8,3,18,22,13,17,11,13,9,22,1,19,1,30,20,19,21,12,0,22,25,9,16,12,16,15,19,29,1,1,17,3,13,22,31,18,18,22,17,12,5,14,4,34,16,27,22,27,3,16,24,4,8,9,30,18,34,14,19,16,10,28,1,12,0,6,7,30,33,32,22,27,33,32,31,12,19,20,11,11,30,15,18,12,7,34,0,23,2,9,25,17,12,31,20,19,28,30,28,25,13,1,13,8,22,4,21,13,23,7,8,29,25,17,1,21,33,27,28,9,14,9,28,14,17,10,27,8,33,12,12,34,27,9,28,28,30,22,8,17,20,28,34,8,14,12,17,15,27,3,28,28,33,21,0,11,23,9,21,24,14,16,23,4,20,19,6,12,33,9,9,11,12,23,30,13,33,5,27,1,7,28,13,28,13,5,23,14,4,0,27,20,31,4,20,4,18,34,7,13,28,19,11,5,31,5,9,24,16,32,2,23,26,31,6,31,8,9,6,1,12,28,20,5,21,19,11,22,17,31,19,20,19,11,28,12,1,15,17,34,9,18,29,26,7],\"coloraxis\":\"coloraxis\",\"size\":[33.142602,33.144572,33.21454,33.227924,33.175101,33.170617,33.217498,33.181524,33.142835,33.156595,33.245651,33.245835,33.143679,33.13358,33.153207,33.179446,33.184746,33.250509,33.234495,33.17119,33.167561,33.172871,33.217191,33.193916,33.246511,33.244658,33.18276,33.155776,33.155833,33.145191,33.202011,33.193166,33.223567,33.223567,33.168403,33.196263,33.224063,33.203425,33.230431,33.251036,33.140786,33.211433,33.162649,33.256585,33.233145,33.226369,33.238866,33.234481,33.223383,33.236691,33.167223,33.250628,33.188048,33.222637,33.23877,33.221748,33.180743,33.252926,33.213704,33.162917,33.239225,33.198418,33.180509,33.184327,33.184746,33.237063,33.140338,33.177534,33.196816,33.158637,33.223735,33.141867,33.169954,33.142809,33.13458,33.16956,33.239076,33.226025,33.238178,33.219517,33.250394,33.234971,33.161054,33.161054,33.206187,33.217974,33.185148,33.222602,33.221033,33.250784,33.224987,33.237833,33.188019,33.209873,33.131973,33.180953,33.168103,33.140675,33.178423,33.210947,33.23321,33.249986,33.171562,33.135777,33.138073,33.178387,33.177995,33.135756,33.142787,33.174348,33.253328,33.137491,33.140847,33.137189,33.176193,33.14455,33.172187,33.163143,33.223827,33.238278,33.250948,33.221912,33.177802,33.15466,33.135397,33.239757,33.21799,33.170923,33.250517,33.215541,33.138029,33.177707,33.150522,33.152935,33.17077,33.146353,33.144199,33.133537,33.155904,33.17173,33.258587,33.172805,33.150422,33.167818,33.25185,33.180619,33.1773,33.19037,33.143353,33.18222,33.156353,33.242023,33.173106,33.253475,33.228854,33.156024,33.181981,33.154004,33.224379,33.156351,33.143383,33.143414,33.158327,33.139163,33.247849,33.239586,33.212353,33.155841,33.143642,33.142767,33.134441,33.216806,33.167631,33.152413,33.232505,33.250699,33.176576,33.22537,33.225634,33.220741,33.161054,33.23321,33.170338,33.215483,33.136213,33.252516,33.202387,33.139838,33.139333,33.237657,33.246527,33.230475,33.218213,33.157715,33.171409,33.1745,33.258587,33.152814,33.240639,33.239328,33.136601,33.178837,33.153051,33.223291,33.180998,33.156931,33.25071,33.138648,33.221615,33.25391,33.179836,33.240774,33.137707,33.258378,33.295077,33.144938,33.166003,33.1682,33.205792,33.137151,33.177937,33.191062,33.221277,33.15491,33.173011,33.184346,33.196085,33.208358,33.184363,33.259625,33.183266,33.223763,33.177083,33.159407,33.140643,33.18005,33.163463,33.142909,33.227762,33.213649,33.243704,33.185069,33.248587,33.165497,33.205518,33.239831,33.230475,33.258313,33.140059,33.215442,33.210539,33.171412,33.25844,33.1745,33.242207,33.193126,33.251871,33.219524,33.190462,33.202823,33.217848,33.215263,33.241272,33.227311,33.15198,33.22383,33.174537,33.230532,33.150887,33.1818,33.206383,33.166277,33.248022,33.173827,33.213793,33.231114,33.203252,33.226757,33.154603,33.152872,33.169063,33.220143,33.223013,33.196841,33.247958,33.212992,33.250176,33.214208,33.189787,33.191217,33.238349,33.196265,33.197577,33.226636,33.238321,33.176842,33.265999,33.222654,33.214465,33.25209,33.219523,33.250352,33.220949,33.248339,33.163337,33.178712,33.210947,33.18373,33.201258,33.258401,33.239103,33.1595,33.231097,33.231288,33.208126,33.223826,33.198547,33.169611,33.140581,33.14552,33.171948,33.186592,33.190067,33.253444,33.215553,33.185788,33.177533,33.21735,33.210827,33.160143,33.239757,33.218402,33.206544,33.175274,33.147103,33.197677,33.210678,33.150377,33.25466,33.166795,33.145995,33.146015,33.212898,33.180342,33.191261,33.197577,33.214924,33.229888,33.16097,33.21178,33.170748,33.207979,33.17864,33.203747,33.223619,33.207288,33.169831,33.251505,33.170587,33.174267,33.219889,33.146796,33.146065,33.1745,33.173453,33.181353,33.190468,33.221558,33.180885,33.186592,33.20829,33.208143,33.212015,33.238917,33.212015,33.208143,33.226,33.1905,33.23325,33.215553,33.177937,33.186592,33.204614,33.205651,33.265091,33.211404,33.212898,33.208115,33.206438,33.171449,33.251505,33.178712,33.196945,33.236629,33.208143,33.25567,33.173719,33.238675,33.193721,33.196841,33.14366,33.217987,33.252161,33.208143,33.206438,33.210481,33.179296,33.165994,33.201641,33.134818,33.212898,33.180394,33.248033,33.233102,33.227812,33.138768,33.174355,33.227782,33.161745,33.136399,33.197577,33.185069,33.212015,33.215596,33.206544,33.202867,33.142691,33.164455,33.210467,33.195217,33.228957,33.214445,33.227493,33.144387,33.208143,33.206437,33.207979,33.204134,33.222571,33.141522,33.237463,33.169938,33.164461,33.215553,33.244135,33.219026,33.173573,33.229888,33.173184,33.201258,33.256363,33.138029,33.210188,33.208115,33.151928,33.211731,33.230034,33.215543,33.218257,33.210947,33.245042,33.223847,33.189783,33.140106,33.131785,33.158636,33.215563,33.136705,33.214924,33.167544,33.210967,33.132342,33.221128,33.193721,33.208103,33.23117,33.225519,33.177933,33.154687,33.213319,33.247708,33.195563,33.22484,33.160969,33.236563,33.155852,33.217252,33.208115,33.198672,33.228543,33.144627,33.197601,33.247996,33.211693,33.196054,33.167879,33.155833,33.14634],\"sizemode\":\"area\",\"sizeref\":0.33295077},\"mode\":\"markers\",\"name\":\"\",\"showlegend\":false,\"subplot\":\"mapbox\",\"type\":\"scattermapbox\"}],                        {\"template\":{\"data\":{\"histogram2dcontour\":[{\"type\":\"histogram2dcontour\",\"colorbar\":{\"outlinewidth\":0,\"ticks\":\"\"},\"colorscale\":[[0.0,\"#0d0887\"],[0.1111111111111111,\"#46039f\"],[0.2222222222222222,\"#7201a8\"],[0.3333333333333333,\"#9c179e\"],[0.4444444444444444,\"#bd3786\"],[0.5555555555555556,\"#d8576b\"],[0.6666666666666666,\"#ed7953\"],[0.7777777777777778,\"#fb9f3a\"],[0.8888888888888888,\"#fdca26\"],[1.0,\"#f0f921\"]]}],\"choropleth\":[{\"type\":\"choropleth\",\"colorbar\":{\"outlinewidth\":0,\"ticks\":\"\"}}],\"histogram2d\":[{\"type\":\"histogram2d\",\"colorbar\":{\"outlinewidth\":0,\"ticks\":\"\"},\"colorscale\":[[0.0,\"#0d0887\"],[0.1111111111111111,\"#46039f\"],[0.2222222222222222,\"#7201a8\"],[0.3333333333333333,\"#9c179e\"],[0.4444444444444444,\"#bd3786\"],[0.5555555555555556,\"#d8576b\"],[0.6666666666666666,\"#ed7953\"],[0.7777777777777778,\"#fb9f3a\"],[0.8888888888888888,\"#fdca26\"],[1.0,\"#f0f921\"]]}],\"heatmap\":[{\"type\":\"heatmap\",\"colorbar\":{\"outlinewidth\":0,\"ticks\":\"\"},\"colorscale\":[[0.0,\"#0d0887\"],[0.1111111111111111,\"#46039f\"],[0.2222222222222222,\"#7201a8\"],[0.3333333333333333,\"#9c179e\"],[0.4444444444444444,\"#bd3786\"],[0.5555555555555556,\"#d8576b\"],[0.6666666666666666,\"#ed7953\"],[0.7777777777777778,\"#fb9f3a\"],[0.8888888888888888,\"#fdca26\"],[1.0,\"#f0f921\"]]}],\"heatmapgl\":[{\"type\":\"heatmapgl\",\"colorbar\":{\"outlinewidth\":0,\"ticks\":\"\"},\"colorscale\":[[0.0,\"#0d0887\"],[0.1111111111111111,\"#46039f\"],[0.2222222222222222,\"#7201a8\"],[0.3333333333333333,\"#9c179e\"],[0.4444444444444444,\"#bd3786\"],[0.5555555555555556,\"#d8576b\"],[0.6666666666666666,\"#ed7953\"],[0.7777777777777778,\"#fb9f3a\"],[0.8888888888888888,\"#fdca26\"],[1.0,\"#f0f921\"]]}],\"contourcarpet\":[{\"type\":\"contourcarpet\",\"colorbar\":{\"outlinewidth\":0,\"ticks\":\"\"}}],\"contour\":[{\"type\":\"contour\",\"colorbar\":{\"outlinewidth\":0,\"ticks\":\"\"},\"colorscale\":[[0.0,\"#0d0887\"],[0.1111111111111111,\"#46039f\"],[0.2222222222222222,\"#7201a8\"],[0.3333333333333333,\"#9c179e\"],[0.4444444444444444,\"#bd3786\"],[0.5555555555555556,\"#d8576b\"],[0.6666666666666666,\"#ed7953\"],[0.7777777777777778,\"#fb9f3a\"],[0.8888888888888888,\"#fdca26\"],[1.0,\"#f0f921\"]]}],\"surface\":[{\"type\":\"surface\",\"colorbar\":{\"outlinewidth\":0,\"ticks\":\"\"},\"colorscale\":[[0.0,\"#0d0887\"],[0.1111111111111111,\"#46039f\"],[0.2222222222222222,\"#7201a8\"],[0.3333333333333333,\"#9c179e\"],[0.4444444444444444,\"#bd3786\"],[0.5555555555555556,\"#d8576b\"],[0.6666666666666666,\"#ed7953\"],[0.7777777777777778,\"#fb9f3a\"],[0.8888888888888888,\"#fdca26\"],[1.0,\"#f0f921\"]]}],\"mesh3d\":[{\"type\":\"mesh3d\",\"colorbar\":{\"outlinewidth\":0,\"ticks\":\"\"}}],\"scatter\":[{\"fillpattern\":{\"fillmode\":\"overlay\",\"size\":10,\"solidity\":0.2},\"type\":\"scatter\"}],\"parcoords\":[{\"type\":\"parcoords\",\"line\":{\"colorbar\":{\"outlinewidth\":0,\"ticks\":\"\"}}}],\"scatterpolargl\":[{\"type\":\"scatterpolargl\",\"marker\":{\"colorbar\":{\"outlinewidth\":0,\"ticks\":\"\"}}}],\"bar\":[{\"error_x\":{\"color\":\"#2a3f5f\"},\"error_y\":{\"color\":\"#2a3f5f\"},\"marker\":{\"line\":{\"color\":\"#E5ECF6\",\"width\":0.5},\"pattern\":{\"fillmode\":\"overlay\",\"size\":10,\"solidity\":0.2}},\"type\":\"bar\"}],\"scattergeo\":[{\"type\":\"scattergeo\",\"marker\":{\"colorbar\":{\"outlinewidth\":0,\"ticks\":\"\"}}}],\"scatterpolar\":[{\"type\":\"scatterpolar\",\"marker\":{\"colorbar\":{\"outlinewidth\":0,\"ticks\":\"\"}}}],\"histogram\":[{\"marker\":{\"pattern\":{\"fillmode\":\"overlay\",\"size\":10,\"solidity\":0.2}},\"type\":\"histogram\"}],\"scattergl\":[{\"type\":\"scattergl\",\"marker\":{\"colorbar\":{\"outlinewidth\":0,\"ticks\":\"\"}}}],\"scatter3d\":[{\"type\":\"scatter3d\",\"line\":{\"colorbar\":{\"outlinewidth\":0,\"ticks\":\"\"}},\"marker\":{\"colorbar\":{\"outlinewidth\":0,\"ticks\":\"\"}}}],\"scattermapbox\":[{\"type\":\"scattermapbox\",\"marker\":{\"colorbar\":{\"outlinewidth\":0,\"ticks\":\"\"}}}],\"scatterternary\":[{\"type\":\"scatterternary\",\"marker\":{\"colorbar\":{\"outlinewidth\":0,\"ticks\":\"\"}}}],\"scattercarpet\":[{\"type\":\"scattercarpet\",\"marker\":{\"colorbar\":{\"outlinewidth\":0,\"ticks\":\"\"}}}],\"carpet\":[{\"aaxis\":{\"endlinecolor\":\"#2a3f5f\",\"gridcolor\":\"white\",\"linecolor\":\"white\",\"minorgridcolor\":\"white\",\"startlinecolor\":\"#2a3f5f\"},\"baxis\":{\"endlinecolor\":\"#2a3f5f\",\"gridcolor\":\"white\",\"linecolor\":\"white\",\"minorgridcolor\":\"white\",\"startlinecolor\":\"#2a3f5f\"},\"type\":\"carpet\"}],\"table\":[{\"cells\":{\"fill\":{\"color\":\"#EBF0F8\"},\"line\":{\"color\":\"white\"}},\"header\":{\"fill\":{\"color\":\"#C8D4E3\"},\"line\":{\"color\":\"white\"}},\"type\":\"table\"}],\"barpolar\":[{\"marker\":{\"line\":{\"color\":\"#E5ECF6\",\"width\":0.5},\"pattern\":{\"fillmode\":\"overlay\",\"size\":10,\"solidity\":0.2}},\"type\":\"barpolar\"}],\"pie\":[{\"automargin\":true,\"type\":\"pie\"}]},\"layout\":{\"autotypenumbers\":\"strict\",\"colorway\":[\"#636efa\",\"#EF553B\",\"#00cc96\",\"#ab63fa\",\"#FFA15A\",\"#19d3f3\",\"#FF6692\",\"#B6E880\",\"#FF97FF\",\"#FECB52\"],\"font\":{\"color\":\"#2a3f5f\"},\"hovermode\":\"closest\",\"hoverlabel\":{\"align\":\"left\"},\"paper_bgcolor\":\"white\",\"plot_bgcolor\":\"#E5ECF6\",\"polar\":{\"bgcolor\":\"#E5ECF6\",\"angularaxis\":{\"gridcolor\":\"white\",\"linecolor\":\"white\",\"ticks\":\"\"},\"radialaxis\":{\"gridcolor\":\"white\",\"linecolor\":\"white\",\"ticks\":\"\"}},\"ternary\":{\"bgcolor\":\"#E5ECF6\",\"aaxis\":{\"gridcolor\":\"white\",\"linecolor\":\"white\",\"ticks\":\"\"},\"baxis\":{\"gridcolor\":\"white\",\"linecolor\":\"white\",\"ticks\":\"\"},\"caxis\":{\"gridcolor\":\"white\",\"linecolor\":\"white\",\"ticks\":\"\"}},\"coloraxis\":{\"colorbar\":{\"outlinewidth\":0,\"ticks\":\"\"}},\"colorscale\":{\"sequential\":[[0.0,\"#0d0887\"],[0.1111111111111111,\"#46039f\"],[0.2222222222222222,\"#7201a8\"],[0.3333333333333333,\"#9c179e\"],[0.4444444444444444,\"#bd3786\"],[0.5555555555555556,\"#d8576b\"],[0.6666666666666666,\"#ed7953\"],[0.7777777777777778,\"#fb9f3a\"],[0.8888888888888888,\"#fdca26\"],[1.0,\"#f0f921\"]],\"sequentialminus\":[[0.0,\"#0d0887\"],[0.1111111111111111,\"#46039f\"],[0.2222222222222222,\"#7201a8\"],[0.3333333333333333,\"#9c179e\"],[0.4444444444444444,\"#bd3786\"],[0.5555555555555556,\"#d8576b\"],[0.6666666666666666,\"#ed7953\"],[0.7777777777777778,\"#fb9f3a\"],[0.8888888888888888,\"#fdca26\"],[1.0,\"#f0f921\"]],\"diverging\":[[0,\"#8e0152\"],[0.1,\"#c51b7d\"],[0.2,\"#de77ae\"],[0.3,\"#f1b6da\"],[0.4,\"#fde0ef\"],[0.5,\"#f7f7f7\"],[0.6,\"#e6f5d0\"],[0.7,\"#b8e186\"],[0.8,\"#7fbc41\"],[0.9,\"#4d9221\"],[1,\"#276419\"]]},\"xaxis\":{\"gridcolor\":\"white\",\"linecolor\":\"white\",\"ticks\":\"\",\"title\":{\"standoff\":15},\"zerolinecolor\":\"white\",\"automargin\":true,\"zerolinewidth\":2},\"yaxis\":{\"gridcolor\":\"white\",\"linecolor\":\"white\",\"ticks\":\"\",\"title\":{\"standoff\":15},\"zerolinecolor\":\"white\",\"automargin\":true,\"zerolinewidth\":2},\"scene\":{\"xaxis\":{\"backgroundcolor\":\"#E5ECF6\",\"gridcolor\":\"white\",\"linecolor\":\"white\",\"showbackground\":true,\"ticks\":\"\",\"zerolinecolor\":\"white\",\"gridwidth\":2},\"yaxis\":{\"backgroundcolor\":\"#E5ECF6\",\"gridcolor\":\"white\",\"linecolor\":\"white\",\"showbackground\":true,\"ticks\":\"\",\"zerolinecolor\":\"white\",\"gridwidth\":2},\"zaxis\":{\"backgroundcolor\":\"#E5ECF6\",\"gridcolor\":\"white\",\"linecolor\":\"white\",\"showbackground\":true,\"ticks\":\"\",\"zerolinecolor\":\"white\",\"gridwidth\":2}},\"shapedefaults\":{\"line\":{\"color\":\"#2a3f5f\"}},\"annotationdefaults\":{\"arrowcolor\":\"#2a3f5f\",\"arrowhead\":0,\"arrowwidth\":1},\"geo\":{\"bgcolor\":\"white\",\"landcolor\":\"#E5ECF6\",\"subunitcolor\":\"white\",\"showland\":true,\"showlakes\":true,\"lakecolor\":\"white\"},\"title\":{\"x\":0.05},\"mapbox\":{\"style\":\"light\"}}},\"mapbox\":{\"domain\":{\"x\":[0.0,1.0],\"y\":[0.0,1.0]},\"center\":{\"lat\":33.196365730923695,\"lon\":-97.13001544979919},\"zoom\":10,\"style\":\"open-street-map\"},\"coloraxis\":{\"colorbar\":{\"title\":{\"text\":\"delivery_route\"}},\"colorscale\":[[0.0,\"rgb(12,51,131)\"],[0.25,\"rgb(10,136,186)\"],[0.5,\"rgb(242,211,56)\"],[0.75,\"rgb(242,143,56)\"],[1.0,\"rgb(217,30,30)\"]]},\"legend\":{\"tracegroupgap\":0,\"itemsizing\":\"constant\"},\"margin\":{\"t\":0,\"r\":0,\"l\":0,\"b\":0}},                        {\"responsive\": true}                    ).then(function(){\n",
       "                            \n",
       "var gd = document.getElementById('1e8416d6-4a6a-4648-bf25-8f64cd2bafb6');\n",
       "var x = new MutationObserver(function (mutations, observer) {{\n",
       "        var display = window.getComputedStyle(gd).display;\n",
       "        if (!display || display === 'none') {{\n",
       "            console.log([gd, 'removed!']);\n",
       "            Plotly.purge(gd);\n",
       "            observer.disconnect();\n",
       "        }}\n",
       "}});\n",
       "\n",
       "// Listen for the removal of the full notebook cells\n",
       "var notebookContainer = gd.closest('#notebook-container');\n",
       "if (notebookContainer) {{\n",
       "    x.observe(notebookContainer, {childList: true});\n",
       "}}\n",
       "\n",
       "// Listen for the clearing of the current output cell\n",
       "var outputEl = gd.closest('.output');\n",
       "if (outputEl) {{\n",
       "    x.observe(outputEl, {childList: true});\n",
       "}}\n",
       "\n",
       "                        })                };                });            </script>        </div>"
      ]
     },
     "metadata": {},
     "output_type": "display_data"
    }
   ],
   "source": [
    "import plotly.express as px\n",
    "# px.set_mapbox_access_token(open(\".mapbox_token\").read())\n",
    "fig = px.scatter_mapbox(\n",
    "                        df2, \n",
    "                        lat=\"lat\", \n",
    "                        lon=\"lng\", \n",
    "                        color=\"delivery_route\", \n",
    "                        color_continuous_scale=px.colors.diverging.Portland, \n",
    "                        size_max=10, \n",
    "                        size=\"lat\", \n",
    "                        zoom=10\n",
    "                       ) \n",
    "fig.update_layout(mapbox_style=\"open-street-map\")\n",
    "fig.update_layout(margin={\"r\":0,\"t\":0,\"l\":0,\"b\":0})\n",
    "fig.show()"
   ]
  },
  {
   "cell_type": "code",
   "execution_count": null,
   "metadata": {},
   "outputs": [],
   "source": []
  },
  {
   "cell_type": "code",
   "execution_count": null,
   "metadata": {},
   "outputs": [
    {
     "data": {
      "application/vnd.plotly.v1+json": {
       "config": {
        "plotlyServerURL": "https://plot.ly"
       },
       "data": [
        {
         "hovertemplate": "delivery_route=23<br>lat=%{lat}<br>lng=%{lon}<extra></extra>",
         "lat": [
          33.142602,
          33.13358,
          33.131973,
          33.137491,
          33.137189,
          33.146353,
          33.137707,
          33.140643,
          33.145995,
          33.146796,
          33.134818,
          33.138768,
          33.142691,
          33.141522,
          33.131785
         ],
         "legendgroup": "23",
         "line": {
          "color": "rgb(12,51,131)"
         },
         "lon": [
          -97.258254,
          -97.247083,
          -97.254639,
          -97.25371,
          -97.257508,
          -97.254402,
          -97.257402,
          -97.246436,
          -97.249752,
          -97.24855,
          -97.250314,
          -97.258028,
          -97.256436,
          -97.254615,
          -97.257163
         ],
         "mode": "lines",
         "name": "23",
         "showlegend": true,
         "subplot": "mapbox",
         "type": "scattermapbox"
        },
        {
         "hovertemplate": "delivery_route=7<br>lat=%{lat}<br>lng=%{lon}<extra></extra>",
         "lat": [
          33.144572,
          33.142787,
          33.140847,
          33.14455,
          33.138029,
          33.136601,
          33.144938,
          33.14552,
          33.150377,
          33.146065,
          33.144387,
          33.138029,
          33.14634
         ],
         "legendgroup": "7",
         "line": {
          "color": "rgb(10,136,186)"
         },
         "lon": [
          -97.121205,
          -97.109056,
          -97.115543,
          -97.118346,
          -97.114965,
          -97.113872,
          -97.116862,
          -97.116586,
          -97.11221,
          -97.11184,
          -97.112012,
          -97.114965,
          -97.112696
         ],
         "mode": "lines",
         "name": "7",
         "showlegend": true,
         "subplot": "mapbox",
         "type": "scattermapbox"
        },
        {
         "hovertemplate": "delivery_route=11<br>lat=%{lat}<br>lng=%{lon}<extra></extra>",
         "lat": [
          33.21454,
          33.206187,
          33.218213,
          33.205792,
          33.202823,
          33.218402,
          33.206544,
          33.201641,
          33.206544,
          33.211731,
          33.213319,
          33.217252
         ],
         "legendgroup": "11",
         "line": {
          "color": "rgb(242,211,56)"
         },
         "lon": [
          -97.053138,
          -97.076703,
          -97.058953,
          -97.076655,
          -97.07574,
          -97.056451,
          -97.0722,
          -97.060518,
          -97.0722,
          -97.060263,
          -97.05094,
          -97.053379
         ],
         "mode": "lines",
         "name": "11",
         "showlegend": true,
         "subplot": "mapbox",
         "type": "scattermapbox"
        },
        {
         "hovertemplate": "delivery_route=1<br>lat=%{lat}<br>lng=%{lon}<extra></extra>",
         "lat": [
          33.227924,
          33.226025,
          33.228854,
          33.224379,
          33.221277,
          33.227311,
          33.22383,
          33.220143,
          33.223013,
          33.223826,
          33.223619,
          33.221558,
          33.227493,
          33.221128,
          33.228543
         ],
         "legendgroup": "1",
         "line": {
          "color": "rgb(242,143,56)"
         },
         "lon": [
          -97.132361,
          -97.135033,
          -97.141114,
          -97.140329,
          -97.129515,
          -97.132374,
          -97.134779,
          -97.130084,
          -97.122965,
          -97.133405,
          -97.127126,
          -97.138831,
          -97.140726,
          -97.130936,
          -97.139308
         ],
         "mode": "lines",
         "name": "1",
         "showlegend": true,
         "subplot": "mapbox",
         "type": "scattermapbox"
        },
        {
         "hovertemplate": "delivery_route=21<br>lat=%{lat}<br>lng=%{lon}<extra></extra>",
         "lat": [
          33.175101,
          33.177534,
          33.178423,
          33.177802,
          33.172805,
          33.176576,
          33.179836,
          33.1818,
          33.174267,
          33.180885,
          33.179296,
          33.180394,
          33.177933
         ],
         "legendgroup": "21",
         "line": {
          "color": "rgb(217,30,30)"
         },
         "lon": [
          -97.060067,
          -97.057253,
          -97.053468,
          -97.056287,
          -97.06337,
          -97.057139,
          -97.066476,
          -97.057313,
          -97.064351,
          -97.061592,
          -97.053799,
          -97.059845,
          -97.065444
         ],
         "mode": "lines",
         "name": "21",
         "showlegend": true,
         "subplot": "mapbox",
         "type": "scattermapbox"
        },
        {
         "hovertemplate": "delivery_route=30<br>lat=%{lat}<br>lng=%{lon}<extra></extra>",
         "lat": [
          33.170617,
          33.167223,
          33.172187,
          33.17173,
          33.170338,
          33.174537,
          33.18373,
          33.171948,
          33.175274,
          33.170748,
          33.171449,
          33.164455
         ],
         "legendgroup": "30",
         "line": {
          "color": "rgb(12,51,131)"
         },
         "lon": [
          -97.131506,
          -97.131073,
          -97.143694,
          -97.124318,
          -97.134254,
          -97.13097,
          -97.138994,
          -97.145716,
          -97.14198,
          -97.142683,
          -97.129156,
          -97.132463
         ],
         "mode": "lines",
         "name": "30",
         "showlegend": true,
         "subplot": "mapbox",
         "type": "scattermapbox"
        },
        {
         "hovertemplate": "delivery_route=13<br>lat=%{lat}<br>lng=%{lon}<extra></extra>",
         "lat": [
          33.217498,
          33.209873,
          33.21799,
          33.212353,
          33.205518,
          33.219524,
          33.217848,
          33.212992,
          33.203747,
          33.207288,
          33.219889,
          33.210467,
          33.206437,
          33.204134,
          33.210188
         ],
         "legendgroup": "13",
         "line": {
          "color": "rgb(10,136,186)"
         },
         "lon": [
          -97.118838,
          -97.119747,
          -97.117656,
          -97.131321,
          -97.125456,
          -97.124924,
          -97.11799,
          -97.128525,
          -97.115283,
          -97.125002,
          -97.124604,
          -97.125386,
          -97.11799,
          -97.116479,
          -97.112146
         ],
         "mode": "lines",
         "name": "13",
         "showlegend": true,
         "subplot": "mapbox",
         "type": "scattermapbox"
        },
        {
         "hovertemplate": "delivery_route=32<br>lat=%{lat}<br>lng=%{lon}<extra></extra>",
         "lat": [
          33.181524,
          33.18276,
          33.188048,
          33.185148,
          33.188019,
          33.178387,
          33.180619,
          33.18222,
          33.181981,
          33.180998,
          33.184346,
          33.18005,
          33.190067,
          33.177533,
          33.189783
         ],
         "legendgroup": "32",
         "line": {
          "color": "rgb(242,211,56)"
         },
         "lon": [
          -97.121579,
          -97.121722,
          -97.117451,
          -97.12363,
          -97.117211,
          -97.120191,
          -97.119618,
          -97.122625,
          -97.121886,
          -97.123954,
          -97.116413,
          -97.123315,
          -97.12306,
          -97.121905,
          -97.121683
         ],
         "mode": "lines",
         "name": "32",
         "showlegend": true,
         "subplot": "mapbox",
         "type": "scattermapbox"
        },
        {
         "hovertemplate": "delivery_route=2<br>lat=%{lat}<br>lng=%{lon}<extra></extra>",
         "lat": [
          33.142835,
          33.140786,
          33.141867,
          33.142809,
          33.13458,
          33.140675,
          33.138073,
          33.135397,
          33.144199,
          33.133537,
          33.143414,
          33.139163,
          33.143642,
          33.146015,
          33.140106
         ],
         "legendgroup": "2",
         "line": {
          "color": "rgb(242,143,56)"
         },
         "lon": [
          -97.241081,
          -97.243108,
          -97.246325,
          -97.244034,
          -97.240977,
          -97.246767,
          -97.231227,
          -97.231007,
          -97.239,
          -97.23341,
          -97.239949,
          -97.232113,
          -97.23465,
          -97.234077,
          -97.240163
         ],
         "mode": "lines",
         "name": "2",
         "showlegend": true,
         "subplot": "mapbox",
         "type": "scattermapbox"
        },
        {
         "hovertemplate": "delivery_route=26<br>lat=%{lat}<br>lng=%{lon}<extra></extra>",
         "lat": [
          33.156595,
          33.155776,
          33.155833,
          33.162649,
          33.158637,
          33.15466,
          33.150522,
          33.152935,
          33.158327,
          33.152814,
          33.15491,
          33.159407,
          33.158636,
          33.155833
         ],
         "legendgroup": "26",
         "line": {
          "color": "rgb(217,30,30)"
         },
         "lon": [
          -97.128796,
          -97.13007,
          -97.12571,
          -97.11836,
          -97.127025,
          -97.124326,
          -97.120107,
          -97.124794,
          -97.128941,
          -97.124462,
          -97.127862,
          -97.125793,
          -97.12693,
          -97.125595
         ],
         "mode": "lines",
         "name": "26",
         "showlegend": true,
         "subplot": "mapbox",
         "type": "scattermapbox"
        },
        {
         "hovertemplate": "delivery_route=24<br>lat=%{lat}<br>lng=%{lon}<extra></extra>",
         "lat": [
          33.245651,
          33.250509,
          33.244658,
          33.250394,
          33.250784,
          33.249986,
          33.253328,
          33.250948,
          33.250517,
          33.25185,
          33.253475,
          33.295077,
          33.248339,
          33.248033,
          33.245042
         ],
         "legendgroup": "24",
         "line": {
          "color": "rgb(12,51,131)"
         },
         "lon": [
          -97.100048,
          -97.103323,
          -97.098944,
          -97.090981,
          -97.103319,
          -97.105174,
          -97.104132,
          -97.108936,
          -97.103485,
          -97.110207,
          -97.103579,
          -97.07857,
          -97.108816,
          -97.103664,
          -97.098178
         ],
         "mode": "lines",
         "name": "24",
         "showlegend": true,
         "subplot": "mapbox",
         "type": "scattermapbox"
        },
        {
         "hovertemplate": "delivery_route=10<br>lat=%{lat}<br>lng=%{lon}<extra></extra>",
         "lat": [
          33.245835,
          33.230431,
          33.233145,
          33.238866,
          33.23877,
          33.237063,
          33.239076,
          33.238178,
          33.234971,
          33.23321,
          33.23321,
          33.239328,
          33.240774,
          33.231288,
          33.23325
         ],
         "legendgroup": "10",
         "line": {
          "color": "rgb(10,136,186)"
         },
         "lon": [
          -97.109119,
          -97.110496,
          -97.107936,
          -97.109713,
          -97.098655,
          -97.11662,
          -97.114496,
          -97.099234,
          -97.113587,
          -97.115156,
          -97.115156,
          -97.109148,
          -97.110297,
          -97.110498,
          -97.100352
         ],
         "mode": "lines",
         "name": "10",
         "showlegend": true,
         "subplot": "mapbox",
         "type": "scattermapbox"
        },
        {
         "hovertemplate": "delivery_route=15<br>lat=%{lat}<br>lng=%{lon}<extra></extra>",
         "lat": [
          33.143679,
          33.155904,
          33.150422,
          33.156353,
          33.154004,
          33.156351,
          33.143383,
          33.142767,
          33.153051,
          33.154603,
          33.147103,
          33.14366,
          33.144627
         ],
         "legendgroup": "15",
         "line": {
          "color": "rgb(242,211,56)"
         },
         "lon": [
          -97.104182,
          -97.106247,
          -97.096307,
          -97.108007,
          -97.100786,
          -97.108335,
          -97.100594,
          -97.106045,
          -97.103291,
          -97.099006,
          -97.100409,
          -97.101746,
          -97.102582
         ],
         "mode": "lines",
         "name": "15",
         "showlegend": true,
         "subplot": "mapbox",
         "type": "scattermapbox"
        },
        {
         "hovertemplate": "delivery_route=29<br>lat=%{lat}<br>lng=%{lon}<extra></extra>",
         "lat": [
          33.153207,
          33.145191,
          33.171562,
          33.170923,
          33.17077,
          33.156024,
          33.1682,
          33.137151,
          33.173011,
          33.169063,
          33.173453,
          33.167879
         ],
         "legendgroup": "29",
         "line": {
          "color": "rgb(242,143,56)"
         },
         "lon": [
          -97.156836,
          -97.163165,
          -97.171216,
          -97.146027,
          -97.14826,
          -97.158005,
          -97.147176,
          -97.182276,
          -97.173744,
          -97.163,
          -97.173314,
          -97.145212
         ],
         "mode": "lines",
         "name": "29",
         "showlegend": true,
         "subplot": "mapbox",
         "type": "scattermapbox"
        },
        {
         "hovertemplate": "delivery_route=25<br>lat=%{lat}<br>lng=%{lon}<extra></extra>",
         "lat": [
          33.179446,
          33.172871,
          33.180743,
          33.180509,
          33.184327,
          33.180953,
          33.177995,
          33.174348,
          33.178837,
          33.183266,
          33.177083,
          33.173827,
          33.180342,
          33.17864,
          33.181353
         ],
         "legendgroup": "25",
         "line": {
          "color": "rgb(217,30,30)"
         },
         "lon": [
          -97.113491,
          -97.116082,
          -97.11285,
          -97.112677,
          -97.112822,
          -97.111734,
          -97.111375,
          -97.108595,
          -97.109747,
          -97.1123,
          -97.108122,
          -97.108446,
          -97.1088,
          -97.110126,
          -97.107546
         ],
         "mode": "lines",
         "name": "25",
         "showlegend": true,
         "subplot": "mapbox",
         "type": "scattermapbox"
        },
        {
         "hovertemplate": "delivery_route=33<br>lat=%{lat}<br>lng=%{lon}<extra></extra>",
         "lat": [
          33.184746,
          33.184746,
          33.196816,
          33.184363,
          33.185069,
          33.186592,
          33.185788,
          33.186592,
          33.186592,
          33.210481,
          33.185069,
          33.195217
         ],
         "legendgroup": "33",
         "line": {
          "color": "rgb(12,51,131)"
         },
         "lon": [
          -97.092274,
          -97.092274,
          -97.110392,
          -97.09388,
          -97.093934,
          -97.101435,
          -97.091891,
          -97.101435,
          -97.101435,
          -97.088067,
          -97.093934,
          -97.088949
         ],
         "mode": "lines",
         "name": "33",
         "showlegend": true,
         "subplot": "mapbox",
         "type": "scattermapbox"
        },
        {
         "hovertemplate": "delivery_route=20<br>lat=%{lat}<br>lng=%{lon}<extra></extra>",
         "lat": [
          33.234495,
          33.239757,
          33.242023,
          33.239586,
          33.240639,
          33.239831,
          33.230532,
          33.239757,
          33.229888,
          33.236629,
          33.227782,
          33.244135,
          33.229888,
          33.23117,
          33.236563
         ],
         "legendgroup": "20",
         "line": {
          "color": "rgb(10,136,186)"
         },
         "lon": [
          -97.120526,
          -97.128239,
          -97.120434,
          -97.129154,
          -97.126814,
          -97.118934,
          -97.129128,
          -97.128239,
          -97.127434,
          -97.117554,
          -97.124825,
          -97.120615,
          -97.127434,
          -97.117445,
          -97.119808
         ],
         "mode": "lines",
         "name": "20",
         "showlegend": true,
         "subplot": "mapbox",
         "type": "scattermapbox"
        },
        {
         "hovertemplate": "delivery_route=8<br>lat=%{lat}<br>lng=%{lon}<extra></extra>",
         "lat": [
          33.17119,
          33.169954,
          33.176193,
          33.167818,
          33.1773,
          33.1745,
          33.177937,
          33.1745,
          33.178712,
          33.169831,
          33.1745,
          33.177937,
          33.178712,
          33.173719,
          33.167544
         ],
         "legendgroup": "8",
         "line": {
          "color": "rgb(242,211,56)"
         },
         "lon": [
          -97.100934,
          -97.101716,
          -97.103863,
          -97.102948,
          -97.101523,
          -97.099869,
          -97.10395,
          -97.099869,
          -97.098006,
          -97.10441,
          -97.099869,
          -97.10395,
          -97.098006,
          -97.105338,
          -97.103059
         ],
         "mode": "lines",
         "name": "8",
         "showlegend": true,
         "subplot": "mapbox",
         "type": "scattermapbox"
        },
        {
         "hovertemplate": "delivery_route=4<br>lat=%{lat}<br>lng=%{lon}<extra></extra>",
         "lat": [
          33.167561,
          33.16956,
          33.168103,
          33.177707,
          33.173106,
          33.171409,
          33.171412,
          33.176842,
          33.163337,
          33.170587,
          33.174355,
          33.169938,
          33.173573,
          33.173184
         ],
         "legendgroup": "4",
         "line": {
          "color": "rgb(242,143,56)"
         },
         "lon": [
          -97.075065,
          -97.068606,
          -97.076212,
          -97.076133,
          -97.074166,
          -97.079359,
          -97.079425,
          -97.074782,
          -97.067943,
          -97.07635,
          -97.072789,
          -97.078499,
          -97.067566,
          -97.074161
         ],
         "mode": "lines",
         "name": "4",
         "showlegend": true,
         "subplot": "mapbox",
         "type": "scattermapbox"
        },
        {
         "hovertemplate": "delivery_route=5<br>lat=%{lat}<br>lng=%{lon}<extra></extra>",
         "lat": [
          33.217191,
          33.224063,
          33.226369,
          33.222602,
          33.221033,
          33.22537,
          33.230475,
          33.227762,
          33.230475,
          33.226636,
          33.228957,
          33.222571,
          33.230034,
          33.218257,
          33.225519
         ],
         "legendgroup": "5",
         "line": {
          "color": "rgb(217,30,30)"
         },
         "lon": [
          -97.094457,
          -97.102332,
          -97.093811,
          -97.099274,
          -97.101919,
          -97.086996,
          -97.095874,
          -97.098938,
          -97.095874,
          -97.086343,
          -97.100274,
          -97.102749,
          -97.100641,
          -97.095496,
          -97.100086
         ],
         "mode": "lines",
         "name": "5",
         "showlegend": true,
         "subplot": "mapbox",
         "type": "scattermapbox"
        },
        {
         "hovertemplate": "delivery_route=18<br>lat=%{lat}<br>lng=%{lon}<extra></extra>",
         "lat": [
          33.193916,
          33.202011,
          33.193166,
          33.203425,
          33.196085,
          33.193126,
          33.189787,
          33.191217,
          33.201258,
          33.197677,
          33.201258,
          33.196054
         ],
         "legendgroup": "18",
         "line": {
          "color": "rgb(12,51,131)"
         },
         "lon": [
          -97.159154,
          -97.152123,
          -97.144771,
          -97.151759,
          -97.145957,
          -97.144772,
          -97.164472,
          -97.147063,
          -97.161311,
          -97.14525,
          -97.161311,
          -97.143731
         ],
         "mode": "lines",
         "name": "18",
         "showlegend": true,
         "subplot": "mapbox",
         "type": "scattermapbox"
        },
        {
         "hovertemplate": "delivery_route=3<br>lat=%{lat}<br>lng=%{lon}<extra></extra>",
         "lat": [
          33.246511,
          33.250628,
          33.252926,
          33.237833,
          33.258587,
          33.252516,
          33.237657,
          33.258587,
          33.25071,
          33.243704,
          33.258313,
          33.242207,
          33.247958,
          33.250352,
          33.252161
         ],
         "legendgroup": "3",
         "line": {
          "color": "rgb(10,136,186)"
         },
         "lon": [
          -97.126718,
          -97.128547,
          -97.139854,
          -97.134581,
          -97.131497,
          -97.13711,
          -97.134593,
          -97.131497,
          -97.136574,
          -97.136243,
          -97.131483,
          -97.131671,
          -97.138495,
          -97.128486,
          -97.134719
         ],
         "mode": "lines",
         "name": "3",
         "showlegend": true,
         "subplot": "mapbox",
         "type": "scattermapbox"
        },
        {
         "hovertemplate": "delivery_route=16<br>lat=%{lat}<br>lng=%{lon}<extra></extra>",
         "lat": [
          33.223567,
          33.223567,
          33.222637,
          33.224987,
          33.223827,
          33.232505,
          33.225634,
          33.221615,
          33.231114,
          33.226757,
          33.222654,
          33.220949,
          33.231097,
          33.227812,
          33.223847
         ],
         "legendgroup": "16",
         "line": {
          "color": "rgb(242,211,56)"
         },
         "lon": [
          -97.144774,
          -97.144774,
          -97.147537,
          -97.151687,
          -97.151094,
          -97.14829,
          -97.150426,
          -97.146481,
          -97.147465,
          -97.147549,
          -97.148559,
          -97.151506,
          -97.145088,
          -97.142896,
          -97.151714
         ],
         "mode": "lines",
         "name": "16",
         "showlegend": true,
         "subplot": "mapbox",
         "type": "scattermapbox"
        },
        {
         "hovertemplate": "delivery_route=0<br>lat=%{lat}<br>lng=%{lon}<extra></extra>",
         "lat": [
          33.168403,
          33.162917,
          33.161054,
          33.161054,
          33.163143,
          33.167631,
          33.161054,
          33.166003,
          33.163463,
          33.165497,
          33.166277,
          33.169611,
          33.166795,
          33.165994,
          33.164461
         ],
         "legendgroup": "0",
         "line": {
          "color": "rgb(242,143,56)"
         },
         "lon": [
          -97.106777,
          -97.11592,
          -97.105952,
          -97.105952,
          -97.111642,
          -97.113891,
          -97.105952,
          -97.10543,
          -97.115904,
          -97.102723,
          -97.105346,
          -97.117143,
          -97.107247,
          -97.104196,
          -97.102051
         ],
         "mode": "lines",
         "name": "0",
         "showlegend": true,
         "subplot": "mapbox",
         "type": "scattermapbox"
        },
        {
         "hovertemplate": "delivery_route=17<br>lat=%{lat}<br>lng=%{lon}<extra></extra>",
         "lat": [
          33.196263,
          33.198418,
          33.19037,
          33.202387,
          33.191062,
          33.190462,
          33.196841,
          33.196265,
          33.191261,
          33.190468,
          33.1905,
          33.196945,
          33.196841,
          33.195563,
          33.197601
         ],
         "legendgroup": "17",
         "line": {
          "color": "rgb(217,30,30)"
         },
         "lon": [
          -97.118091,
          -97.120046,
          -97.124684,
          -97.117238,
          -97.131404,
          -97.129766,
          -97.121459,
          -97.118154,
          -97.127682,
          -97.124684,
          -97.124684,
          -97.117707,
          -97.121459,
          -97.119812,
          -97.124062
         ],
         "mode": "lines",
         "name": "17",
         "showlegend": true,
         "subplot": "mapbox",
         "type": "scattermapbox"
        },
        {
         "hovertemplate": "delivery_route=34<br>lat=%{lat}<br>lng=%{lon}<extra></extra>",
         "lat": [
          33.251036,
          33.256585,
          33.250699,
          33.25391,
          33.258378,
          33.259625,
          33.25844,
          33.265999,
          33.258401,
          33.25466,
          33.265091,
          33.25567,
          33.256363,
          33.247996
         ],
         "legendgroup": "34",
         "line": {
          "color": "rgb(12,51,131)"
         },
         "lon": [
          -97.113807,
          -97.114286,
          -97.115775,
          -97.122982,
          -97.12152,
          -97.120299,
          -97.118528,
          -97.123357,
          -97.117561,
          -97.122214,
          -97.125976,
          -97.119636,
          -97.122753,
          -97.117967
         ],
         "mode": "lines",
         "name": "34",
         "showlegend": true,
         "subplot": "mapbox",
         "type": "scattermapbox"
        },
        {
         "hovertemplate": "delivery_route=27<br>lat=%{lat}<br>lng=%{lon}<extra></extra>",
         "lat": [
          33.211433,
          33.213704,
          33.215541,
          33.216806,
          33.215483,
          33.210539,
          33.214465,
          33.219523,
          33.215553,
          33.20829,
          33.215553,
          33.211404,
          33.217987,
          33.214445,
          33.215553
         ],
         "legendgroup": "27",
         "line": {
          "color": "rgb(10,136,186)"
         },
         "lon": [
          -97.135043,
          -97.140512,
          -97.143357,
          -97.141746,
          -97.138273,
          -97.143301,
          -97.140448,
          -97.141452,
          -97.14512,
          -97.141344,
          -97.14512,
          -97.144495,
          -97.14656,
          -97.138305,
          -97.14512
         ],
         "mode": "lines",
         "name": "27",
         "showlegend": true,
         "subplot": "mapbox",
         "type": "scattermapbox"
        },
        {
         "hovertemplate": "delivery_route=22<br>lat=%{lat}<br>lng=%{lon}<extra></extra>",
         "lat": [
          33.234481,
          33.238278,
          33.247849,
          33.246527,
          33.248587,
          33.251871,
          33.241272,
          33.248022,
          33.250176,
          33.238349,
          33.25209,
          33.253444,
          33.251505,
          33.251505,
          33.247708
         ],
         "legendgroup": "22",
         "line": {
          "color": "rgb(242,211,56)"
         },
         "lon": [
          -97.152778,
          -97.141287,
          -97.154991,
          -97.141328,
          -97.140486,
          -97.146837,
          -97.143808,
          -97.140815,
          -97.156879,
          -97.15012,
          -97.14299,
          -97.146503,
          -97.154419,
          -97.154419,
          -97.140826
         ],
         "mode": "lines",
         "name": "22",
         "showlegend": true,
         "subplot": "mapbox",
         "type": "scattermapbox"
        },
        {
         "hovertemplate": "delivery_route=31<br>lat=%{lat}<br>lng=%{lon}<extra></extra>",
         "lat": [
          33.223383,
          33.219517,
          33.217974,
          33.221912,
          33.223291,
          33.223763,
          33.215442,
          33.214208,
          33.21735,
          33.214924,
          33.219026,
          33.215543,
          33.215563,
          33.214924,
          33.22484
         ],
         "legendgroup": "31",
         "line": {
          "color": "rgb(242,143,56)"
         },
         "lon": [
          -97.106265,
          -97.110245,
          -97.105244,
          -97.117694,
          -97.11151,
          -97.117706,
          -97.104247,
          -97.100863,
          -97.105177,
          -97.103404,
          -97.110179,
          -97.11013,
          -97.10996,
          -97.103404,
          -97.110229
         ],
         "mode": "lines",
         "name": "31",
         "showlegend": true,
         "subplot": "mapbox",
         "type": "scattermapbox"
        },
        {
         "hovertemplate": "delivery_route=14<br>lat=%{lat}<br>lng=%{lon}<extra></extra>",
         "lat": [
          33.236691,
          33.221748,
          33.239225,
          33.223735,
          33.220741,
          33.238321,
          33.239103,
          33.238917,
          33.226,
          33.238675,
          33.233102,
          33.237463
         ],
         "legendgroup": "14",
         "line": {
          "color": "rgb(217,30,30)"
         },
         "lon": [
          -97.174044,
          -97.158496,
          -97.170824,
          -97.160005,
          -97.215406,
          -97.17186,
          -97.173786,
          -97.18501,
          -97.159676,
          -97.166377,
          -97.153298,
          -97.169954
         ],
         "mode": "lines",
         "name": "14",
         "showlegend": true,
         "subplot": "mapbox",
         "type": "scattermapbox"
        },
        {
         "hovertemplate": "delivery_route=6<br>lat=%{lat}<br>lng=%{lon}<extra></extra>",
         "lat": [
          33.140338,
          33.135777,
          33.135756,
          33.143353,
          33.134441,
          33.136213,
          33.139838,
          33.139333,
          33.138648,
          33.142909,
          33.140059,
          33.140581,
          33.136399,
          33.136705,
          33.132342
         ],
         "legendgroup": "6",
         "line": {
          "color": "rgb(12,51,131)"
         },
         "lon": [
          -97.19275,
          -97.189194,
          -97.230841,
          -97.191925,
          -97.188641,
          -97.187661,
          -97.189383,
          -97.192884,
          -97.186634,
          -97.230097,
          -97.190826,
          -97.186282,
          -97.184639,
          -97.191412,
          -97.200553
         ],
         "mode": "lines",
         "name": "6",
         "showlegend": true,
         "subplot": "mapbox",
         "type": "scattermapbox"
        },
        {
         "hovertemplate": "delivery_route=9<br>lat=%{lat}<br>lng=%{lon}<extra></extra>",
         "lat": [
          33.210947,
          33.213649,
          33.215263,
          33.213793,
          33.210947,
          33.212898,
          33.212015,
          33.212015,
          33.212898,
          33.212898,
          33.212015,
          33.215596,
          33.210947,
          33.210967,
          33.211693
         ],
         "legendgroup": "9",
         "line": {
          "color": "rgb(10,136,186)"
         },
         "lon": [
          -97.163928,
          -97.158501,
          -97.165594,
          -97.161544,
          -97.163928,
          -97.154876,
          -97.155217,
          -97.155217,
          -97.154876,
          -97.154876,
          -97.155217,
          -97.162627,
          -97.163928,
          -97.157424,
          -97.158426
         ],
         "mode": "lines",
         "name": "9",
         "showlegend": true,
         "subplot": "mapbox",
         "type": "scattermapbox"
        },
        {
         "hovertemplate": "delivery_route=19<br>lat=%{lat}<br>lng=%{lon}<extra></extra>",
         "lat": [
          33.155841,
          33.152413,
          33.157715,
          33.156931,
          33.15198,
          33.150887,
          33.152872,
          33.1595,
          33.160143,
          33.16097,
          33.161745,
          33.151928,
          33.154687,
          33.160969,
          33.155852
         ],
         "legendgroup": "19",
         "line": {
          "color": "rgb(242,211,56)"
         },
         "lon": [
          -97.094918,
          -97.093481,
          -97.095371,
          -97.095767,
          -97.091398,
          -97.092446,
          -97.093599,
          -97.096264,
          -97.090446,
          -97.090327,
          -97.092377,
          -97.095512,
          -97.09887,
          -97.096264,
          -97.095246
         ],
         "mode": "lines",
         "name": "19",
         "showlegend": true,
         "subplot": "mapbox",
         "type": "scattermapbox"
        },
        {
         "hovertemplate": "delivery_route=12<br>lat=%{lat}<br>lng=%{lon}<extra></extra>",
         "lat": [
          33.208358,
          33.206383,
          33.203252,
          33.197577,
          33.198547,
          33.210827,
          33.210678,
          33.197577,
          33.204614,
          33.205651,
          33.193721,
          33.197577,
          33.202867,
          33.193721,
          33.198672
         ],
         "legendgroup": "12",
         "line": {
          "color": "rgb(242,143,56)"
         },
         "lon": [
          -97.128959,
          -97.13789,
          -97.14138,
          -97.129326,
          -97.128811,
          -97.131453,
          -97.132316,
          -97.129326,
          -97.138054,
          -97.137726,
          -97.131323,
          -97.129326,
          -97.125218,
          -97.131323,
          -97.137878
         ],
         "mode": "lines",
         "name": "12",
         "showlegend": true,
         "subplot": "mapbox",
         "type": "scattermapbox"
        },
        {
         "hovertemplate": "delivery_route=28<br>lat=%{lat}<br>lng=%{lon}<extra></extra>",
         "lat": [
          33.208126,
          33.21178,
          33.207979,
          33.208143,
          33.208143,
          33.208115,
          33.206438,
          33.208143,
          33.208143,
          33.206438,
          33.208143,
          33.207979,
          33.208115,
          33.208103,
          33.208115
         ],
         "legendgroup": "28",
         "line": {
          "color": "rgb(217,30,30)"
         },
         "lon": [
          -97.150991,
          -97.150165,
          -97.150008,
          -97.15218,
          -97.15218,
          -97.150125,
          -97.142158,
          -97.15218,
          -97.15218,
          -97.142158,
          -97.15218,
          -97.150008,
          -97.150125,
          -97.14731,
          -97.150125
         ],
         "mode": "lines",
         "name": "28",
         "showlegend": true,
         "subplot": "mapbox",
         "type": "scattermapbox"
        }
       ],
       "layout": {
        "legend": {
         "title": {
          "text": "delivery_route"
         },
         "tracegroupgap": 0
        },
        "mapbox": {
         "center": {
          "lat": 33.196365730923695,
          "lon": -97.13001544979919
         },
         "domain": {
          "x": [
           0,
           1
          ],
          "y": [
           0,
           1
          ]
         },
         "style": "open-street-map",
         "zoom": 10
        },
        "margin": {
         "b": 0,
         "l": 0,
         "r": 0,
         "t": 0
        },
        "template": {
         "data": {
          "bar": [
           {
            "error_x": {
             "color": "#2a3f5f"
            },
            "error_y": {
             "color": "#2a3f5f"
            },
            "marker": {
             "line": {
              "color": "#E5ECF6",
              "width": 0.5
             },
             "pattern": {
              "fillmode": "overlay",
              "size": 10,
              "solidity": 0.2
             }
            },
            "type": "bar"
           }
          ],
          "barpolar": [
           {
            "marker": {
             "line": {
              "color": "#E5ECF6",
              "width": 0.5
             },
             "pattern": {
              "fillmode": "overlay",
              "size": 10,
              "solidity": 0.2
             }
            },
            "type": "barpolar"
           }
          ],
          "carpet": [
           {
            "aaxis": {
             "endlinecolor": "#2a3f5f",
             "gridcolor": "white",
             "linecolor": "white",
             "minorgridcolor": "white",
             "startlinecolor": "#2a3f5f"
            },
            "baxis": {
             "endlinecolor": "#2a3f5f",
             "gridcolor": "white",
             "linecolor": "white",
             "minorgridcolor": "white",
             "startlinecolor": "#2a3f5f"
            },
            "type": "carpet"
           }
          ],
          "choropleth": [
           {
            "colorbar": {
             "outlinewidth": 0,
             "ticks": ""
            },
            "type": "choropleth"
           }
          ],
          "contour": [
           {
            "colorbar": {
             "outlinewidth": 0,
             "ticks": ""
            },
            "colorscale": [
             [
              0,
              "#0d0887"
             ],
             [
              0.1111111111111111,
              "#46039f"
             ],
             [
              0.2222222222222222,
              "#7201a8"
             ],
             [
              0.3333333333333333,
              "#9c179e"
             ],
             [
              0.4444444444444444,
              "#bd3786"
             ],
             [
              0.5555555555555556,
              "#d8576b"
             ],
             [
              0.6666666666666666,
              "#ed7953"
             ],
             [
              0.7777777777777778,
              "#fb9f3a"
             ],
             [
              0.8888888888888888,
              "#fdca26"
             ],
             [
              1,
              "#f0f921"
             ]
            ],
            "type": "contour"
           }
          ],
          "contourcarpet": [
           {
            "colorbar": {
             "outlinewidth": 0,
             "ticks": ""
            },
            "type": "contourcarpet"
           }
          ],
          "heatmap": [
           {
            "colorbar": {
             "outlinewidth": 0,
             "ticks": ""
            },
            "colorscale": [
             [
              0,
              "#0d0887"
             ],
             [
              0.1111111111111111,
              "#46039f"
             ],
             [
              0.2222222222222222,
              "#7201a8"
             ],
             [
              0.3333333333333333,
              "#9c179e"
             ],
             [
              0.4444444444444444,
              "#bd3786"
             ],
             [
              0.5555555555555556,
              "#d8576b"
             ],
             [
              0.6666666666666666,
              "#ed7953"
             ],
             [
              0.7777777777777778,
              "#fb9f3a"
             ],
             [
              0.8888888888888888,
              "#fdca26"
             ],
             [
              1,
              "#f0f921"
             ]
            ],
            "type": "heatmap"
           }
          ],
          "heatmapgl": [
           {
            "colorbar": {
             "outlinewidth": 0,
             "ticks": ""
            },
            "colorscale": [
             [
              0,
              "#0d0887"
             ],
             [
              0.1111111111111111,
              "#46039f"
             ],
             [
              0.2222222222222222,
              "#7201a8"
             ],
             [
              0.3333333333333333,
              "#9c179e"
             ],
             [
              0.4444444444444444,
              "#bd3786"
             ],
             [
              0.5555555555555556,
              "#d8576b"
             ],
             [
              0.6666666666666666,
              "#ed7953"
             ],
             [
              0.7777777777777778,
              "#fb9f3a"
             ],
             [
              0.8888888888888888,
              "#fdca26"
             ],
             [
              1,
              "#f0f921"
             ]
            ],
            "type": "heatmapgl"
           }
          ],
          "histogram": [
           {
            "marker": {
             "pattern": {
              "fillmode": "overlay",
              "size": 10,
              "solidity": 0.2
             }
            },
            "type": "histogram"
           }
          ],
          "histogram2d": [
           {
            "colorbar": {
             "outlinewidth": 0,
             "ticks": ""
            },
            "colorscale": [
             [
              0,
              "#0d0887"
             ],
             [
              0.1111111111111111,
              "#46039f"
             ],
             [
              0.2222222222222222,
              "#7201a8"
             ],
             [
              0.3333333333333333,
              "#9c179e"
             ],
             [
              0.4444444444444444,
              "#bd3786"
             ],
             [
              0.5555555555555556,
              "#d8576b"
             ],
             [
              0.6666666666666666,
              "#ed7953"
             ],
             [
              0.7777777777777778,
              "#fb9f3a"
             ],
             [
              0.8888888888888888,
              "#fdca26"
             ],
             [
              1,
              "#f0f921"
             ]
            ],
            "type": "histogram2d"
           }
          ],
          "histogram2dcontour": [
           {
            "colorbar": {
             "outlinewidth": 0,
             "ticks": ""
            },
            "colorscale": [
             [
              0,
              "#0d0887"
             ],
             [
              0.1111111111111111,
              "#46039f"
             ],
             [
              0.2222222222222222,
              "#7201a8"
             ],
             [
              0.3333333333333333,
              "#9c179e"
             ],
             [
              0.4444444444444444,
              "#bd3786"
             ],
             [
              0.5555555555555556,
              "#d8576b"
             ],
             [
              0.6666666666666666,
              "#ed7953"
             ],
             [
              0.7777777777777778,
              "#fb9f3a"
             ],
             [
              0.8888888888888888,
              "#fdca26"
             ],
             [
              1,
              "#f0f921"
             ]
            ],
            "type": "histogram2dcontour"
           }
          ],
          "mesh3d": [
           {
            "colorbar": {
             "outlinewidth": 0,
             "ticks": ""
            },
            "type": "mesh3d"
           }
          ],
          "parcoords": [
           {
            "line": {
             "colorbar": {
              "outlinewidth": 0,
              "ticks": ""
             }
            },
            "type": "parcoords"
           }
          ],
          "pie": [
           {
            "automargin": true,
            "type": "pie"
           }
          ],
          "scatter": [
           {
            "fillpattern": {
             "fillmode": "overlay",
             "size": 10,
             "solidity": 0.2
            },
            "type": "scatter"
           }
          ],
          "scatter3d": [
           {
            "line": {
             "colorbar": {
              "outlinewidth": 0,
              "ticks": ""
             }
            },
            "marker": {
             "colorbar": {
              "outlinewidth": 0,
              "ticks": ""
             }
            },
            "type": "scatter3d"
           }
          ],
          "scattercarpet": [
           {
            "marker": {
             "colorbar": {
              "outlinewidth": 0,
              "ticks": ""
             }
            },
            "type": "scattercarpet"
           }
          ],
          "scattergeo": [
           {
            "marker": {
             "colorbar": {
              "outlinewidth": 0,
              "ticks": ""
             }
            },
            "type": "scattergeo"
           }
          ],
          "scattergl": [
           {
            "marker": {
             "colorbar": {
              "outlinewidth": 0,
              "ticks": ""
             }
            },
            "type": "scattergl"
           }
          ],
          "scattermapbox": [
           {
            "marker": {
             "colorbar": {
              "outlinewidth": 0,
              "ticks": ""
             }
            },
            "type": "scattermapbox"
           }
          ],
          "scatterpolar": [
           {
            "marker": {
             "colorbar": {
              "outlinewidth": 0,
              "ticks": ""
             }
            },
            "type": "scatterpolar"
           }
          ],
          "scatterpolargl": [
           {
            "marker": {
             "colorbar": {
              "outlinewidth": 0,
              "ticks": ""
             }
            },
            "type": "scatterpolargl"
           }
          ],
          "scatterternary": [
           {
            "marker": {
             "colorbar": {
              "outlinewidth": 0,
              "ticks": ""
             }
            },
            "type": "scatterternary"
           }
          ],
          "surface": [
           {
            "colorbar": {
             "outlinewidth": 0,
             "ticks": ""
            },
            "colorscale": [
             [
              0,
              "#0d0887"
             ],
             [
              0.1111111111111111,
              "#46039f"
             ],
             [
              0.2222222222222222,
              "#7201a8"
             ],
             [
              0.3333333333333333,
              "#9c179e"
             ],
             [
              0.4444444444444444,
              "#bd3786"
             ],
             [
              0.5555555555555556,
              "#d8576b"
             ],
             [
              0.6666666666666666,
              "#ed7953"
             ],
             [
              0.7777777777777778,
              "#fb9f3a"
             ],
             [
              0.8888888888888888,
              "#fdca26"
             ],
             [
              1,
              "#f0f921"
             ]
            ],
            "type": "surface"
           }
          ],
          "table": [
           {
            "cells": {
             "fill": {
              "color": "#EBF0F8"
             },
             "line": {
              "color": "white"
             }
            },
            "header": {
             "fill": {
              "color": "#C8D4E3"
             },
             "line": {
              "color": "white"
             }
            },
            "type": "table"
           }
          ]
         },
         "layout": {
          "annotationdefaults": {
           "arrowcolor": "#2a3f5f",
           "arrowhead": 0,
           "arrowwidth": 1
          },
          "autotypenumbers": "strict",
          "coloraxis": {
           "colorbar": {
            "outlinewidth": 0,
            "ticks": ""
           }
          },
          "colorscale": {
           "diverging": [
            [
             0,
             "#8e0152"
            ],
            [
             0.1,
             "#c51b7d"
            ],
            [
             0.2,
             "#de77ae"
            ],
            [
             0.3,
             "#f1b6da"
            ],
            [
             0.4,
             "#fde0ef"
            ],
            [
             0.5,
             "#f7f7f7"
            ],
            [
             0.6,
             "#e6f5d0"
            ],
            [
             0.7,
             "#b8e186"
            ],
            [
             0.8,
             "#7fbc41"
            ],
            [
             0.9,
             "#4d9221"
            ],
            [
             1,
             "#276419"
            ]
           ],
           "sequential": [
            [
             0,
             "#0d0887"
            ],
            [
             0.1111111111111111,
             "#46039f"
            ],
            [
             0.2222222222222222,
             "#7201a8"
            ],
            [
             0.3333333333333333,
             "#9c179e"
            ],
            [
             0.4444444444444444,
             "#bd3786"
            ],
            [
             0.5555555555555556,
             "#d8576b"
            ],
            [
             0.6666666666666666,
             "#ed7953"
            ],
            [
             0.7777777777777778,
             "#fb9f3a"
            ],
            [
             0.8888888888888888,
             "#fdca26"
            ],
            [
             1,
             "#f0f921"
            ]
           ],
           "sequentialminus": [
            [
             0,
             "#0d0887"
            ],
            [
             0.1111111111111111,
             "#46039f"
            ],
            [
             0.2222222222222222,
             "#7201a8"
            ],
            [
             0.3333333333333333,
             "#9c179e"
            ],
            [
             0.4444444444444444,
             "#bd3786"
            ],
            [
             0.5555555555555556,
             "#d8576b"
            ],
            [
             0.6666666666666666,
             "#ed7953"
            ],
            [
             0.7777777777777778,
             "#fb9f3a"
            ],
            [
             0.8888888888888888,
             "#fdca26"
            ],
            [
             1,
             "#f0f921"
            ]
           ]
          },
          "colorway": [
           "#636efa",
           "#EF553B",
           "#00cc96",
           "#ab63fa",
           "#FFA15A",
           "#19d3f3",
           "#FF6692",
           "#B6E880",
           "#FF97FF",
           "#FECB52"
          ],
          "font": {
           "color": "#2a3f5f"
          },
          "geo": {
           "bgcolor": "white",
           "lakecolor": "white",
           "landcolor": "#E5ECF6",
           "showlakes": true,
           "showland": true,
           "subunitcolor": "white"
          },
          "hoverlabel": {
           "align": "left"
          },
          "hovermode": "closest",
          "mapbox": {
           "style": "light"
          },
          "paper_bgcolor": "white",
          "plot_bgcolor": "#E5ECF6",
          "polar": {
           "angularaxis": {
            "gridcolor": "white",
            "linecolor": "white",
            "ticks": ""
           },
           "bgcolor": "#E5ECF6",
           "radialaxis": {
            "gridcolor": "white",
            "linecolor": "white",
            "ticks": ""
           }
          },
          "scene": {
           "xaxis": {
            "backgroundcolor": "#E5ECF6",
            "gridcolor": "white",
            "gridwidth": 2,
            "linecolor": "white",
            "showbackground": true,
            "ticks": "",
            "zerolinecolor": "white"
           },
           "yaxis": {
            "backgroundcolor": "#E5ECF6",
            "gridcolor": "white",
            "gridwidth": 2,
            "linecolor": "white",
            "showbackground": true,
            "ticks": "",
            "zerolinecolor": "white"
           },
           "zaxis": {
            "backgroundcolor": "#E5ECF6",
            "gridcolor": "white",
            "gridwidth": 2,
            "linecolor": "white",
            "showbackground": true,
            "ticks": "",
            "zerolinecolor": "white"
           }
          },
          "shapedefaults": {
           "line": {
            "color": "#2a3f5f"
           }
          },
          "ternary": {
           "aaxis": {
            "gridcolor": "white",
            "linecolor": "white",
            "ticks": ""
           },
           "baxis": {
            "gridcolor": "white",
            "linecolor": "white",
            "ticks": ""
           },
           "bgcolor": "#E5ECF6",
           "caxis": {
            "gridcolor": "white",
            "linecolor": "white",
            "ticks": ""
           }
          },
          "title": {
           "x": 0.05
          },
          "xaxis": {
           "automargin": true,
           "gridcolor": "white",
           "linecolor": "white",
           "ticks": "",
           "title": {
            "standoff": 15
           },
           "zerolinecolor": "white",
           "zerolinewidth": 2
          },
          "yaxis": {
           "automargin": true,
           "gridcolor": "white",
           "linecolor": "white",
           "ticks": "",
           "title": {
            "standoff": 15
           },
           "zerolinecolor": "white",
           "zerolinewidth": 2
          }
         }
        }
       }
      },
      "text/html": [
       "<div>                            <div id=\"cde1786c-dc80-40f6-b294-cef252289203\" class=\"plotly-graph-div\" style=\"height:525px; width:100%;\"></div>            <script type=\"text/javascript\">                require([\"plotly\"], function(Plotly) {                    window.PLOTLYENV=window.PLOTLYENV || {};                                    if (document.getElementById(\"cde1786c-dc80-40f6-b294-cef252289203\")) {                    Plotly.newPlot(                        \"cde1786c-dc80-40f6-b294-cef252289203\",                        [{\"hovertemplate\":\"delivery_route=23<br>lat=%{lat}<br>lng=%{lon}<extra></extra>\",\"lat\":[33.142602,33.13358,33.131973,33.137491,33.137189,33.146353,33.137707,33.140643,33.145995,33.146796,33.134818,33.138768,33.142691,33.141522,33.131785],\"legendgroup\":\"23\",\"line\":{\"color\":\"rgb(12,51,131)\"},\"lon\":[-97.258254,-97.247083,-97.254639,-97.25371,-97.257508,-97.254402,-97.257402,-97.246436,-97.249752,-97.24855,-97.250314,-97.258028,-97.256436,-97.254615,-97.257163],\"mode\":\"lines\",\"name\":\"23\",\"showlegend\":true,\"subplot\":\"mapbox\",\"type\":\"scattermapbox\"},{\"hovertemplate\":\"delivery_route=7<br>lat=%{lat}<br>lng=%{lon}<extra></extra>\",\"lat\":[33.144572,33.142787,33.140847,33.14455,33.138029,33.136601,33.144938,33.14552,33.150377,33.146065,33.144387,33.138029,33.14634],\"legendgroup\":\"7\",\"line\":{\"color\":\"rgb(10,136,186)\"},\"lon\":[-97.121205,-97.109056,-97.115543,-97.118346,-97.114965,-97.113872,-97.116862,-97.116586,-97.11221,-97.11184,-97.112012,-97.114965,-97.112696],\"mode\":\"lines\",\"name\":\"7\",\"showlegend\":true,\"subplot\":\"mapbox\",\"type\":\"scattermapbox\"},{\"hovertemplate\":\"delivery_route=11<br>lat=%{lat}<br>lng=%{lon}<extra></extra>\",\"lat\":[33.21454,33.206187,33.218213,33.205792,33.202823,33.218402,33.206544,33.201641,33.206544,33.211731,33.213319,33.217252],\"legendgroup\":\"11\",\"line\":{\"color\":\"rgb(242,211,56)\"},\"lon\":[-97.053138,-97.076703,-97.058953,-97.076655,-97.07574,-97.056451,-97.0722,-97.060518,-97.0722,-97.060263,-97.05094,-97.053379],\"mode\":\"lines\",\"name\":\"11\",\"showlegend\":true,\"subplot\":\"mapbox\",\"type\":\"scattermapbox\"},{\"hovertemplate\":\"delivery_route=1<br>lat=%{lat}<br>lng=%{lon}<extra></extra>\",\"lat\":[33.227924,33.226025,33.228854,33.224379,33.221277,33.227311,33.22383,33.220143,33.223013,33.223826,33.223619,33.221558,33.227493,33.221128,33.228543],\"legendgroup\":\"1\",\"line\":{\"color\":\"rgb(242,143,56)\"},\"lon\":[-97.132361,-97.135033,-97.141114,-97.140329,-97.129515,-97.132374,-97.134779,-97.130084,-97.122965,-97.133405,-97.127126,-97.138831,-97.140726,-97.130936,-97.139308],\"mode\":\"lines\",\"name\":\"1\",\"showlegend\":true,\"subplot\":\"mapbox\",\"type\":\"scattermapbox\"},{\"hovertemplate\":\"delivery_route=21<br>lat=%{lat}<br>lng=%{lon}<extra></extra>\",\"lat\":[33.175101,33.177534,33.178423,33.177802,33.172805,33.176576,33.179836,33.1818,33.174267,33.180885,33.179296,33.180394,33.177933],\"legendgroup\":\"21\",\"line\":{\"color\":\"rgb(217,30,30)\"},\"lon\":[-97.060067,-97.057253,-97.053468,-97.056287,-97.06337,-97.057139,-97.066476,-97.057313,-97.064351,-97.061592,-97.053799,-97.059845,-97.065444],\"mode\":\"lines\",\"name\":\"21\",\"showlegend\":true,\"subplot\":\"mapbox\",\"type\":\"scattermapbox\"},{\"hovertemplate\":\"delivery_route=30<br>lat=%{lat}<br>lng=%{lon}<extra></extra>\",\"lat\":[33.170617,33.167223,33.172187,33.17173,33.170338,33.174537,33.18373,33.171948,33.175274,33.170748,33.171449,33.164455],\"legendgroup\":\"30\",\"line\":{\"color\":\"rgb(12,51,131)\"},\"lon\":[-97.131506,-97.131073,-97.143694,-97.124318,-97.134254,-97.13097,-97.138994,-97.145716,-97.14198,-97.142683,-97.129156,-97.132463],\"mode\":\"lines\",\"name\":\"30\",\"showlegend\":true,\"subplot\":\"mapbox\",\"type\":\"scattermapbox\"},{\"hovertemplate\":\"delivery_route=13<br>lat=%{lat}<br>lng=%{lon}<extra></extra>\",\"lat\":[33.217498,33.209873,33.21799,33.212353,33.205518,33.219524,33.217848,33.212992,33.203747,33.207288,33.219889,33.210467,33.206437,33.204134,33.210188],\"legendgroup\":\"13\",\"line\":{\"color\":\"rgb(10,136,186)\"},\"lon\":[-97.118838,-97.119747,-97.117656,-97.131321,-97.125456,-97.124924,-97.11799,-97.128525,-97.115283,-97.125002,-97.124604,-97.125386,-97.11799,-97.116479,-97.112146],\"mode\":\"lines\",\"name\":\"13\",\"showlegend\":true,\"subplot\":\"mapbox\",\"type\":\"scattermapbox\"},{\"hovertemplate\":\"delivery_route=32<br>lat=%{lat}<br>lng=%{lon}<extra></extra>\",\"lat\":[33.181524,33.18276,33.188048,33.185148,33.188019,33.178387,33.180619,33.18222,33.181981,33.180998,33.184346,33.18005,33.190067,33.177533,33.189783],\"legendgroup\":\"32\",\"line\":{\"color\":\"rgb(242,211,56)\"},\"lon\":[-97.121579,-97.121722,-97.117451,-97.12363,-97.117211,-97.120191,-97.119618,-97.122625,-97.121886,-97.123954,-97.116413,-97.123315,-97.12306,-97.121905,-97.121683],\"mode\":\"lines\",\"name\":\"32\",\"showlegend\":true,\"subplot\":\"mapbox\",\"type\":\"scattermapbox\"},{\"hovertemplate\":\"delivery_route=2<br>lat=%{lat}<br>lng=%{lon}<extra></extra>\",\"lat\":[33.142835,33.140786,33.141867,33.142809,33.13458,33.140675,33.138073,33.135397,33.144199,33.133537,33.143414,33.139163,33.143642,33.146015,33.140106],\"legendgroup\":\"2\",\"line\":{\"color\":\"rgb(242,143,56)\"},\"lon\":[-97.241081,-97.243108,-97.246325,-97.244034,-97.240977,-97.246767,-97.231227,-97.231007,-97.239,-97.23341,-97.239949,-97.232113,-97.23465,-97.234077,-97.240163],\"mode\":\"lines\",\"name\":\"2\",\"showlegend\":true,\"subplot\":\"mapbox\",\"type\":\"scattermapbox\"},{\"hovertemplate\":\"delivery_route=26<br>lat=%{lat}<br>lng=%{lon}<extra></extra>\",\"lat\":[33.156595,33.155776,33.155833,33.162649,33.158637,33.15466,33.150522,33.152935,33.158327,33.152814,33.15491,33.159407,33.158636,33.155833],\"legendgroup\":\"26\",\"line\":{\"color\":\"rgb(217,30,30)\"},\"lon\":[-97.128796,-97.13007,-97.12571,-97.11836,-97.127025,-97.124326,-97.120107,-97.124794,-97.128941,-97.124462,-97.127862,-97.125793,-97.12693,-97.125595],\"mode\":\"lines\",\"name\":\"26\",\"showlegend\":true,\"subplot\":\"mapbox\",\"type\":\"scattermapbox\"},{\"hovertemplate\":\"delivery_route=24<br>lat=%{lat}<br>lng=%{lon}<extra></extra>\",\"lat\":[33.245651,33.250509,33.244658,33.250394,33.250784,33.249986,33.253328,33.250948,33.250517,33.25185,33.253475,33.295077,33.248339,33.248033,33.245042],\"legendgroup\":\"24\",\"line\":{\"color\":\"rgb(12,51,131)\"},\"lon\":[-97.100048,-97.103323,-97.098944,-97.090981,-97.103319,-97.105174,-97.104132,-97.108936,-97.103485,-97.110207,-97.103579,-97.07857,-97.108816,-97.103664,-97.098178],\"mode\":\"lines\",\"name\":\"24\",\"showlegend\":true,\"subplot\":\"mapbox\",\"type\":\"scattermapbox\"},{\"hovertemplate\":\"delivery_route=10<br>lat=%{lat}<br>lng=%{lon}<extra></extra>\",\"lat\":[33.245835,33.230431,33.233145,33.238866,33.23877,33.237063,33.239076,33.238178,33.234971,33.23321,33.23321,33.239328,33.240774,33.231288,33.23325],\"legendgroup\":\"10\",\"line\":{\"color\":\"rgb(10,136,186)\"},\"lon\":[-97.109119,-97.110496,-97.107936,-97.109713,-97.098655,-97.11662,-97.114496,-97.099234,-97.113587,-97.115156,-97.115156,-97.109148,-97.110297,-97.110498,-97.100352],\"mode\":\"lines\",\"name\":\"10\",\"showlegend\":true,\"subplot\":\"mapbox\",\"type\":\"scattermapbox\"},{\"hovertemplate\":\"delivery_route=15<br>lat=%{lat}<br>lng=%{lon}<extra></extra>\",\"lat\":[33.143679,33.155904,33.150422,33.156353,33.154004,33.156351,33.143383,33.142767,33.153051,33.154603,33.147103,33.14366,33.144627],\"legendgroup\":\"15\",\"line\":{\"color\":\"rgb(242,211,56)\"},\"lon\":[-97.104182,-97.106247,-97.096307,-97.108007,-97.100786,-97.108335,-97.100594,-97.106045,-97.103291,-97.099006,-97.100409,-97.101746,-97.102582],\"mode\":\"lines\",\"name\":\"15\",\"showlegend\":true,\"subplot\":\"mapbox\",\"type\":\"scattermapbox\"},{\"hovertemplate\":\"delivery_route=29<br>lat=%{lat}<br>lng=%{lon}<extra></extra>\",\"lat\":[33.153207,33.145191,33.171562,33.170923,33.17077,33.156024,33.1682,33.137151,33.173011,33.169063,33.173453,33.167879],\"legendgroup\":\"29\",\"line\":{\"color\":\"rgb(242,143,56)\"},\"lon\":[-97.156836,-97.163165,-97.171216,-97.146027,-97.14826,-97.158005,-97.147176,-97.182276,-97.173744,-97.163,-97.173314,-97.145212],\"mode\":\"lines\",\"name\":\"29\",\"showlegend\":true,\"subplot\":\"mapbox\",\"type\":\"scattermapbox\"},{\"hovertemplate\":\"delivery_route=25<br>lat=%{lat}<br>lng=%{lon}<extra></extra>\",\"lat\":[33.179446,33.172871,33.180743,33.180509,33.184327,33.180953,33.177995,33.174348,33.178837,33.183266,33.177083,33.173827,33.180342,33.17864,33.181353],\"legendgroup\":\"25\",\"line\":{\"color\":\"rgb(217,30,30)\"},\"lon\":[-97.113491,-97.116082,-97.11285,-97.112677,-97.112822,-97.111734,-97.111375,-97.108595,-97.109747,-97.1123,-97.108122,-97.108446,-97.1088,-97.110126,-97.107546],\"mode\":\"lines\",\"name\":\"25\",\"showlegend\":true,\"subplot\":\"mapbox\",\"type\":\"scattermapbox\"},{\"hovertemplate\":\"delivery_route=33<br>lat=%{lat}<br>lng=%{lon}<extra></extra>\",\"lat\":[33.184746,33.184746,33.196816,33.184363,33.185069,33.186592,33.185788,33.186592,33.186592,33.210481,33.185069,33.195217],\"legendgroup\":\"33\",\"line\":{\"color\":\"rgb(12,51,131)\"},\"lon\":[-97.092274,-97.092274,-97.110392,-97.09388,-97.093934,-97.101435,-97.091891,-97.101435,-97.101435,-97.088067,-97.093934,-97.088949],\"mode\":\"lines\",\"name\":\"33\",\"showlegend\":true,\"subplot\":\"mapbox\",\"type\":\"scattermapbox\"},{\"hovertemplate\":\"delivery_route=20<br>lat=%{lat}<br>lng=%{lon}<extra></extra>\",\"lat\":[33.234495,33.239757,33.242023,33.239586,33.240639,33.239831,33.230532,33.239757,33.229888,33.236629,33.227782,33.244135,33.229888,33.23117,33.236563],\"legendgroup\":\"20\",\"line\":{\"color\":\"rgb(10,136,186)\"},\"lon\":[-97.120526,-97.128239,-97.120434,-97.129154,-97.126814,-97.118934,-97.129128,-97.128239,-97.127434,-97.117554,-97.124825,-97.120615,-97.127434,-97.117445,-97.119808],\"mode\":\"lines\",\"name\":\"20\",\"showlegend\":true,\"subplot\":\"mapbox\",\"type\":\"scattermapbox\"},{\"hovertemplate\":\"delivery_route=8<br>lat=%{lat}<br>lng=%{lon}<extra></extra>\",\"lat\":[33.17119,33.169954,33.176193,33.167818,33.1773,33.1745,33.177937,33.1745,33.178712,33.169831,33.1745,33.177937,33.178712,33.173719,33.167544],\"legendgroup\":\"8\",\"line\":{\"color\":\"rgb(242,211,56)\"},\"lon\":[-97.100934,-97.101716,-97.103863,-97.102948,-97.101523,-97.099869,-97.10395,-97.099869,-97.098006,-97.10441,-97.099869,-97.10395,-97.098006,-97.105338,-97.103059],\"mode\":\"lines\",\"name\":\"8\",\"showlegend\":true,\"subplot\":\"mapbox\",\"type\":\"scattermapbox\"},{\"hovertemplate\":\"delivery_route=4<br>lat=%{lat}<br>lng=%{lon}<extra></extra>\",\"lat\":[33.167561,33.16956,33.168103,33.177707,33.173106,33.171409,33.171412,33.176842,33.163337,33.170587,33.174355,33.169938,33.173573,33.173184],\"legendgroup\":\"4\",\"line\":{\"color\":\"rgb(242,143,56)\"},\"lon\":[-97.075065,-97.068606,-97.076212,-97.076133,-97.074166,-97.079359,-97.079425,-97.074782,-97.067943,-97.07635,-97.072789,-97.078499,-97.067566,-97.074161],\"mode\":\"lines\",\"name\":\"4\",\"showlegend\":true,\"subplot\":\"mapbox\",\"type\":\"scattermapbox\"},{\"hovertemplate\":\"delivery_route=5<br>lat=%{lat}<br>lng=%{lon}<extra></extra>\",\"lat\":[33.217191,33.224063,33.226369,33.222602,33.221033,33.22537,33.230475,33.227762,33.230475,33.226636,33.228957,33.222571,33.230034,33.218257,33.225519],\"legendgroup\":\"5\",\"line\":{\"color\":\"rgb(217,30,30)\"},\"lon\":[-97.094457,-97.102332,-97.093811,-97.099274,-97.101919,-97.086996,-97.095874,-97.098938,-97.095874,-97.086343,-97.100274,-97.102749,-97.100641,-97.095496,-97.100086],\"mode\":\"lines\",\"name\":\"5\",\"showlegend\":true,\"subplot\":\"mapbox\",\"type\":\"scattermapbox\"},{\"hovertemplate\":\"delivery_route=18<br>lat=%{lat}<br>lng=%{lon}<extra></extra>\",\"lat\":[33.193916,33.202011,33.193166,33.203425,33.196085,33.193126,33.189787,33.191217,33.201258,33.197677,33.201258,33.196054],\"legendgroup\":\"18\",\"line\":{\"color\":\"rgb(12,51,131)\"},\"lon\":[-97.159154,-97.152123,-97.144771,-97.151759,-97.145957,-97.144772,-97.164472,-97.147063,-97.161311,-97.14525,-97.161311,-97.143731],\"mode\":\"lines\",\"name\":\"18\",\"showlegend\":true,\"subplot\":\"mapbox\",\"type\":\"scattermapbox\"},{\"hovertemplate\":\"delivery_route=3<br>lat=%{lat}<br>lng=%{lon}<extra></extra>\",\"lat\":[33.246511,33.250628,33.252926,33.237833,33.258587,33.252516,33.237657,33.258587,33.25071,33.243704,33.258313,33.242207,33.247958,33.250352,33.252161],\"legendgroup\":\"3\",\"line\":{\"color\":\"rgb(10,136,186)\"},\"lon\":[-97.126718,-97.128547,-97.139854,-97.134581,-97.131497,-97.13711,-97.134593,-97.131497,-97.136574,-97.136243,-97.131483,-97.131671,-97.138495,-97.128486,-97.134719],\"mode\":\"lines\",\"name\":\"3\",\"showlegend\":true,\"subplot\":\"mapbox\",\"type\":\"scattermapbox\"},{\"hovertemplate\":\"delivery_route=16<br>lat=%{lat}<br>lng=%{lon}<extra></extra>\",\"lat\":[33.223567,33.223567,33.222637,33.224987,33.223827,33.232505,33.225634,33.221615,33.231114,33.226757,33.222654,33.220949,33.231097,33.227812,33.223847],\"legendgroup\":\"16\",\"line\":{\"color\":\"rgb(242,211,56)\"},\"lon\":[-97.144774,-97.144774,-97.147537,-97.151687,-97.151094,-97.14829,-97.150426,-97.146481,-97.147465,-97.147549,-97.148559,-97.151506,-97.145088,-97.142896,-97.151714],\"mode\":\"lines\",\"name\":\"16\",\"showlegend\":true,\"subplot\":\"mapbox\",\"type\":\"scattermapbox\"},{\"hovertemplate\":\"delivery_route=0<br>lat=%{lat}<br>lng=%{lon}<extra></extra>\",\"lat\":[33.168403,33.162917,33.161054,33.161054,33.163143,33.167631,33.161054,33.166003,33.163463,33.165497,33.166277,33.169611,33.166795,33.165994,33.164461],\"legendgroup\":\"0\",\"line\":{\"color\":\"rgb(242,143,56)\"},\"lon\":[-97.106777,-97.11592,-97.105952,-97.105952,-97.111642,-97.113891,-97.105952,-97.10543,-97.115904,-97.102723,-97.105346,-97.117143,-97.107247,-97.104196,-97.102051],\"mode\":\"lines\",\"name\":\"0\",\"showlegend\":true,\"subplot\":\"mapbox\",\"type\":\"scattermapbox\"},{\"hovertemplate\":\"delivery_route=17<br>lat=%{lat}<br>lng=%{lon}<extra></extra>\",\"lat\":[33.196263,33.198418,33.19037,33.202387,33.191062,33.190462,33.196841,33.196265,33.191261,33.190468,33.1905,33.196945,33.196841,33.195563,33.197601],\"legendgroup\":\"17\",\"line\":{\"color\":\"rgb(217,30,30)\"},\"lon\":[-97.118091,-97.120046,-97.124684,-97.117238,-97.131404,-97.129766,-97.121459,-97.118154,-97.127682,-97.124684,-97.124684,-97.117707,-97.121459,-97.119812,-97.124062],\"mode\":\"lines\",\"name\":\"17\",\"showlegend\":true,\"subplot\":\"mapbox\",\"type\":\"scattermapbox\"},{\"hovertemplate\":\"delivery_route=34<br>lat=%{lat}<br>lng=%{lon}<extra></extra>\",\"lat\":[33.251036,33.256585,33.250699,33.25391,33.258378,33.259625,33.25844,33.265999,33.258401,33.25466,33.265091,33.25567,33.256363,33.247996],\"legendgroup\":\"34\",\"line\":{\"color\":\"rgb(12,51,131)\"},\"lon\":[-97.113807,-97.114286,-97.115775,-97.122982,-97.12152,-97.120299,-97.118528,-97.123357,-97.117561,-97.122214,-97.125976,-97.119636,-97.122753,-97.117967],\"mode\":\"lines\",\"name\":\"34\",\"showlegend\":true,\"subplot\":\"mapbox\",\"type\":\"scattermapbox\"},{\"hovertemplate\":\"delivery_route=27<br>lat=%{lat}<br>lng=%{lon}<extra></extra>\",\"lat\":[33.211433,33.213704,33.215541,33.216806,33.215483,33.210539,33.214465,33.219523,33.215553,33.20829,33.215553,33.211404,33.217987,33.214445,33.215553],\"legendgroup\":\"27\",\"line\":{\"color\":\"rgb(10,136,186)\"},\"lon\":[-97.135043,-97.140512,-97.143357,-97.141746,-97.138273,-97.143301,-97.140448,-97.141452,-97.14512,-97.141344,-97.14512,-97.144495,-97.14656,-97.138305,-97.14512],\"mode\":\"lines\",\"name\":\"27\",\"showlegend\":true,\"subplot\":\"mapbox\",\"type\":\"scattermapbox\"},{\"hovertemplate\":\"delivery_route=22<br>lat=%{lat}<br>lng=%{lon}<extra></extra>\",\"lat\":[33.234481,33.238278,33.247849,33.246527,33.248587,33.251871,33.241272,33.248022,33.250176,33.238349,33.25209,33.253444,33.251505,33.251505,33.247708],\"legendgroup\":\"22\",\"line\":{\"color\":\"rgb(242,211,56)\"},\"lon\":[-97.152778,-97.141287,-97.154991,-97.141328,-97.140486,-97.146837,-97.143808,-97.140815,-97.156879,-97.15012,-97.14299,-97.146503,-97.154419,-97.154419,-97.140826],\"mode\":\"lines\",\"name\":\"22\",\"showlegend\":true,\"subplot\":\"mapbox\",\"type\":\"scattermapbox\"},{\"hovertemplate\":\"delivery_route=31<br>lat=%{lat}<br>lng=%{lon}<extra></extra>\",\"lat\":[33.223383,33.219517,33.217974,33.221912,33.223291,33.223763,33.215442,33.214208,33.21735,33.214924,33.219026,33.215543,33.215563,33.214924,33.22484],\"legendgroup\":\"31\",\"line\":{\"color\":\"rgb(242,143,56)\"},\"lon\":[-97.106265,-97.110245,-97.105244,-97.117694,-97.11151,-97.117706,-97.104247,-97.100863,-97.105177,-97.103404,-97.110179,-97.11013,-97.10996,-97.103404,-97.110229],\"mode\":\"lines\",\"name\":\"31\",\"showlegend\":true,\"subplot\":\"mapbox\",\"type\":\"scattermapbox\"},{\"hovertemplate\":\"delivery_route=14<br>lat=%{lat}<br>lng=%{lon}<extra></extra>\",\"lat\":[33.236691,33.221748,33.239225,33.223735,33.220741,33.238321,33.239103,33.238917,33.226,33.238675,33.233102,33.237463],\"legendgroup\":\"14\",\"line\":{\"color\":\"rgb(217,30,30)\"},\"lon\":[-97.174044,-97.158496,-97.170824,-97.160005,-97.215406,-97.17186,-97.173786,-97.18501,-97.159676,-97.166377,-97.153298,-97.169954],\"mode\":\"lines\",\"name\":\"14\",\"showlegend\":true,\"subplot\":\"mapbox\",\"type\":\"scattermapbox\"},{\"hovertemplate\":\"delivery_route=6<br>lat=%{lat}<br>lng=%{lon}<extra></extra>\",\"lat\":[33.140338,33.135777,33.135756,33.143353,33.134441,33.136213,33.139838,33.139333,33.138648,33.142909,33.140059,33.140581,33.136399,33.136705,33.132342],\"legendgroup\":\"6\",\"line\":{\"color\":\"rgb(12,51,131)\"},\"lon\":[-97.19275,-97.189194,-97.230841,-97.191925,-97.188641,-97.187661,-97.189383,-97.192884,-97.186634,-97.230097,-97.190826,-97.186282,-97.184639,-97.191412,-97.200553],\"mode\":\"lines\",\"name\":\"6\",\"showlegend\":true,\"subplot\":\"mapbox\",\"type\":\"scattermapbox\"},{\"hovertemplate\":\"delivery_route=9<br>lat=%{lat}<br>lng=%{lon}<extra></extra>\",\"lat\":[33.210947,33.213649,33.215263,33.213793,33.210947,33.212898,33.212015,33.212015,33.212898,33.212898,33.212015,33.215596,33.210947,33.210967,33.211693],\"legendgroup\":\"9\",\"line\":{\"color\":\"rgb(10,136,186)\"},\"lon\":[-97.163928,-97.158501,-97.165594,-97.161544,-97.163928,-97.154876,-97.155217,-97.155217,-97.154876,-97.154876,-97.155217,-97.162627,-97.163928,-97.157424,-97.158426],\"mode\":\"lines\",\"name\":\"9\",\"showlegend\":true,\"subplot\":\"mapbox\",\"type\":\"scattermapbox\"},{\"hovertemplate\":\"delivery_route=19<br>lat=%{lat}<br>lng=%{lon}<extra></extra>\",\"lat\":[33.155841,33.152413,33.157715,33.156931,33.15198,33.150887,33.152872,33.1595,33.160143,33.16097,33.161745,33.151928,33.154687,33.160969,33.155852],\"legendgroup\":\"19\",\"line\":{\"color\":\"rgb(242,211,56)\"},\"lon\":[-97.094918,-97.093481,-97.095371,-97.095767,-97.091398,-97.092446,-97.093599,-97.096264,-97.090446,-97.090327,-97.092377,-97.095512,-97.09887,-97.096264,-97.095246],\"mode\":\"lines\",\"name\":\"19\",\"showlegend\":true,\"subplot\":\"mapbox\",\"type\":\"scattermapbox\"},{\"hovertemplate\":\"delivery_route=12<br>lat=%{lat}<br>lng=%{lon}<extra></extra>\",\"lat\":[33.208358,33.206383,33.203252,33.197577,33.198547,33.210827,33.210678,33.197577,33.204614,33.205651,33.193721,33.197577,33.202867,33.193721,33.198672],\"legendgroup\":\"12\",\"line\":{\"color\":\"rgb(242,143,56)\"},\"lon\":[-97.128959,-97.13789,-97.14138,-97.129326,-97.128811,-97.131453,-97.132316,-97.129326,-97.138054,-97.137726,-97.131323,-97.129326,-97.125218,-97.131323,-97.137878],\"mode\":\"lines\",\"name\":\"12\",\"showlegend\":true,\"subplot\":\"mapbox\",\"type\":\"scattermapbox\"},{\"hovertemplate\":\"delivery_route=28<br>lat=%{lat}<br>lng=%{lon}<extra></extra>\",\"lat\":[33.208126,33.21178,33.207979,33.208143,33.208143,33.208115,33.206438,33.208143,33.208143,33.206438,33.208143,33.207979,33.208115,33.208103,33.208115],\"legendgroup\":\"28\",\"line\":{\"color\":\"rgb(217,30,30)\"},\"lon\":[-97.150991,-97.150165,-97.150008,-97.15218,-97.15218,-97.150125,-97.142158,-97.15218,-97.15218,-97.142158,-97.15218,-97.150008,-97.150125,-97.14731,-97.150125],\"mode\":\"lines\",\"name\":\"28\",\"showlegend\":true,\"subplot\":\"mapbox\",\"type\":\"scattermapbox\"}],                        {\"template\":{\"data\":{\"histogram2dcontour\":[{\"type\":\"histogram2dcontour\",\"colorbar\":{\"outlinewidth\":0,\"ticks\":\"\"},\"colorscale\":[[0.0,\"#0d0887\"],[0.1111111111111111,\"#46039f\"],[0.2222222222222222,\"#7201a8\"],[0.3333333333333333,\"#9c179e\"],[0.4444444444444444,\"#bd3786\"],[0.5555555555555556,\"#d8576b\"],[0.6666666666666666,\"#ed7953\"],[0.7777777777777778,\"#fb9f3a\"],[0.8888888888888888,\"#fdca26\"],[1.0,\"#f0f921\"]]}],\"choropleth\":[{\"type\":\"choropleth\",\"colorbar\":{\"outlinewidth\":0,\"ticks\":\"\"}}],\"histogram2d\":[{\"type\":\"histogram2d\",\"colorbar\":{\"outlinewidth\":0,\"ticks\":\"\"},\"colorscale\":[[0.0,\"#0d0887\"],[0.1111111111111111,\"#46039f\"],[0.2222222222222222,\"#7201a8\"],[0.3333333333333333,\"#9c179e\"],[0.4444444444444444,\"#bd3786\"],[0.5555555555555556,\"#d8576b\"],[0.6666666666666666,\"#ed7953\"],[0.7777777777777778,\"#fb9f3a\"],[0.8888888888888888,\"#fdca26\"],[1.0,\"#f0f921\"]]}],\"heatmap\":[{\"type\":\"heatmap\",\"colorbar\":{\"outlinewidth\":0,\"ticks\":\"\"},\"colorscale\":[[0.0,\"#0d0887\"],[0.1111111111111111,\"#46039f\"],[0.2222222222222222,\"#7201a8\"],[0.3333333333333333,\"#9c179e\"],[0.4444444444444444,\"#bd3786\"],[0.5555555555555556,\"#d8576b\"],[0.6666666666666666,\"#ed7953\"],[0.7777777777777778,\"#fb9f3a\"],[0.8888888888888888,\"#fdca26\"],[1.0,\"#f0f921\"]]}],\"heatmapgl\":[{\"type\":\"heatmapgl\",\"colorbar\":{\"outlinewidth\":0,\"ticks\":\"\"},\"colorscale\":[[0.0,\"#0d0887\"],[0.1111111111111111,\"#46039f\"],[0.2222222222222222,\"#7201a8\"],[0.3333333333333333,\"#9c179e\"],[0.4444444444444444,\"#bd3786\"],[0.5555555555555556,\"#d8576b\"],[0.6666666666666666,\"#ed7953\"],[0.7777777777777778,\"#fb9f3a\"],[0.8888888888888888,\"#fdca26\"],[1.0,\"#f0f921\"]]}],\"contourcarpet\":[{\"type\":\"contourcarpet\",\"colorbar\":{\"outlinewidth\":0,\"ticks\":\"\"}}],\"contour\":[{\"type\":\"contour\",\"colorbar\":{\"outlinewidth\":0,\"ticks\":\"\"},\"colorscale\":[[0.0,\"#0d0887\"],[0.1111111111111111,\"#46039f\"],[0.2222222222222222,\"#7201a8\"],[0.3333333333333333,\"#9c179e\"],[0.4444444444444444,\"#bd3786\"],[0.5555555555555556,\"#d8576b\"],[0.6666666666666666,\"#ed7953\"],[0.7777777777777778,\"#fb9f3a\"],[0.8888888888888888,\"#fdca26\"],[1.0,\"#f0f921\"]]}],\"surface\":[{\"type\":\"surface\",\"colorbar\":{\"outlinewidth\":0,\"ticks\":\"\"},\"colorscale\":[[0.0,\"#0d0887\"],[0.1111111111111111,\"#46039f\"],[0.2222222222222222,\"#7201a8\"],[0.3333333333333333,\"#9c179e\"],[0.4444444444444444,\"#bd3786\"],[0.5555555555555556,\"#d8576b\"],[0.6666666666666666,\"#ed7953\"],[0.7777777777777778,\"#fb9f3a\"],[0.8888888888888888,\"#fdca26\"],[1.0,\"#f0f921\"]]}],\"mesh3d\":[{\"type\":\"mesh3d\",\"colorbar\":{\"outlinewidth\":0,\"ticks\":\"\"}}],\"scatter\":[{\"fillpattern\":{\"fillmode\":\"overlay\",\"size\":10,\"solidity\":0.2},\"type\":\"scatter\"}],\"parcoords\":[{\"type\":\"parcoords\",\"line\":{\"colorbar\":{\"outlinewidth\":0,\"ticks\":\"\"}}}],\"scatterpolargl\":[{\"type\":\"scatterpolargl\",\"marker\":{\"colorbar\":{\"outlinewidth\":0,\"ticks\":\"\"}}}],\"bar\":[{\"error_x\":{\"color\":\"#2a3f5f\"},\"error_y\":{\"color\":\"#2a3f5f\"},\"marker\":{\"line\":{\"color\":\"#E5ECF6\",\"width\":0.5},\"pattern\":{\"fillmode\":\"overlay\",\"size\":10,\"solidity\":0.2}},\"type\":\"bar\"}],\"scattergeo\":[{\"type\":\"scattergeo\",\"marker\":{\"colorbar\":{\"outlinewidth\":0,\"ticks\":\"\"}}}],\"scatterpolar\":[{\"type\":\"scatterpolar\",\"marker\":{\"colorbar\":{\"outlinewidth\":0,\"ticks\":\"\"}}}],\"histogram\":[{\"marker\":{\"pattern\":{\"fillmode\":\"overlay\",\"size\":10,\"solidity\":0.2}},\"type\":\"histogram\"}],\"scattergl\":[{\"type\":\"scattergl\",\"marker\":{\"colorbar\":{\"outlinewidth\":0,\"ticks\":\"\"}}}],\"scatter3d\":[{\"type\":\"scatter3d\",\"line\":{\"colorbar\":{\"outlinewidth\":0,\"ticks\":\"\"}},\"marker\":{\"colorbar\":{\"outlinewidth\":0,\"ticks\":\"\"}}}],\"scattermapbox\":[{\"type\":\"scattermapbox\",\"marker\":{\"colorbar\":{\"outlinewidth\":0,\"ticks\":\"\"}}}],\"scatterternary\":[{\"type\":\"scatterternary\",\"marker\":{\"colorbar\":{\"outlinewidth\":0,\"ticks\":\"\"}}}],\"scattercarpet\":[{\"type\":\"scattercarpet\",\"marker\":{\"colorbar\":{\"outlinewidth\":0,\"ticks\":\"\"}}}],\"carpet\":[{\"aaxis\":{\"endlinecolor\":\"#2a3f5f\",\"gridcolor\":\"white\",\"linecolor\":\"white\",\"minorgridcolor\":\"white\",\"startlinecolor\":\"#2a3f5f\"},\"baxis\":{\"endlinecolor\":\"#2a3f5f\",\"gridcolor\":\"white\",\"linecolor\":\"white\",\"minorgridcolor\":\"white\",\"startlinecolor\":\"#2a3f5f\"},\"type\":\"carpet\"}],\"table\":[{\"cells\":{\"fill\":{\"color\":\"#EBF0F8\"},\"line\":{\"color\":\"white\"}},\"header\":{\"fill\":{\"color\":\"#C8D4E3\"},\"line\":{\"color\":\"white\"}},\"type\":\"table\"}],\"barpolar\":[{\"marker\":{\"line\":{\"color\":\"#E5ECF6\",\"width\":0.5},\"pattern\":{\"fillmode\":\"overlay\",\"size\":10,\"solidity\":0.2}},\"type\":\"barpolar\"}],\"pie\":[{\"automargin\":true,\"type\":\"pie\"}]},\"layout\":{\"autotypenumbers\":\"strict\",\"colorway\":[\"#636efa\",\"#EF553B\",\"#00cc96\",\"#ab63fa\",\"#FFA15A\",\"#19d3f3\",\"#FF6692\",\"#B6E880\",\"#FF97FF\",\"#FECB52\"],\"font\":{\"color\":\"#2a3f5f\"},\"hovermode\":\"closest\",\"hoverlabel\":{\"align\":\"left\"},\"paper_bgcolor\":\"white\",\"plot_bgcolor\":\"#E5ECF6\",\"polar\":{\"bgcolor\":\"#E5ECF6\",\"angularaxis\":{\"gridcolor\":\"white\",\"linecolor\":\"white\",\"ticks\":\"\"},\"radialaxis\":{\"gridcolor\":\"white\",\"linecolor\":\"white\",\"ticks\":\"\"}},\"ternary\":{\"bgcolor\":\"#E5ECF6\",\"aaxis\":{\"gridcolor\":\"white\",\"linecolor\":\"white\",\"ticks\":\"\"},\"baxis\":{\"gridcolor\":\"white\",\"linecolor\":\"white\",\"ticks\":\"\"},\"caxis\":{\"gridcolor\":\"white\",\"linecolor\":\"white\",\"ticks\":\"\"}},\"coloraxis\":{\"colorbar\":{\"outlinewidth\":0,\"ticks\":\"\"}},\"colorscale\":{\"sequential\":[[0.0,\"#0d0887\"],[0.1111111111111111,\"#46039f\"],[0.2222222222222222,\"#7201a8\"],[0.3333333333333333,\"#9c179e\"],[0.4444444444444444,\"#bd3786\"],[0.5555555555555556,\"#d8576b\"],[0.6666666666666666,\"#ed7953\"],[0.7777777777777778,\"#fb9f3a\"],[0.8888888888888888,\"#fdca26\"],[1.0,\"#f0f921\"]],\"sequentialminus\":[[0.0,\"#0d0887\"],[0.1111111111111111,\"#46039f\"],[0.2222222222222222,\"#7201a8\"],[0.3333333333333333,\"#9c179e\"],[0.4444444444444444,\"#bd3786\"],[0.5555555555555556,\"#d8576b\"],[0.6666666666666666,\"#ed7953\"],[0.7777777777777778,\"#fb9f3a\"],[0.8888888888888888,\"#fdca26\"],[1.0,\"#f0f921\"]],\"diverging\":[[0,\"#8e0152\"],[0.1,\"#c51b7d\"],[0.2,\"#de77ae\"],[0.3,\"#f1b6da\"],[0.4,\"#fde0ef\"],[0.5,\"#f7f7f7\"],[0.6,\"#e6f5d0\"],[0.7,\"#b8e186\"],[0.8,\"#7fbc41\"],[0.9,\"#4d9221\"],[1,\"#276419\"]]},\"xaxis\":{\"gridcolor\":\"white\",\"linecolor\":\"white\",\"ticks\":\"\",\"title\":{\"standoff\":15},\"zerolinecolor\":\"white\",\"automargin\":true,\"zerolinewidth\":2},\"yaxis\":{\"gridcolor\":\"white\",\"linecolor\":\"white\",\"ticks\":\"\",\"title\":{\"standoff\":15},\"zerolinecolor\":\"white\",\"automargin\":true,\"zerolinewidth\":2},\"scene\":{\"xaxis\":{\"backgroundcolor\":\"#E5ECF6\",\"gridcolor\":\"white\",\"linecolor\":\"white\",\"showbackground\":true,\"ticks\":\"\",\"zerolinecolor\":\"white\",\"gridwidth\":2},\"yaxis\":{\"backgroundcolor\":\"#E5ECF6\",\"gridcolor\":\"white\",\"linecolor\":\"white\",\"showbackground\":true,\"ticks\":\"\",\"zerolinecolor\":\"white\",\"gridwidth\":2},\"zaxis\":{\"backgroundcolor\":\"#E5ECF6\",\"gridcolor\":\"white\",\"linecolor\":\"white\",\"showbackground\":true,\"ticks\":\"\",\"zerolinecolor\":\"white\",\"gridwidth\":2}},\"shapedefaults\":{\"line\":{\"color\":\"#2a3f5f\"}},\"annotationdefaults\":{\"arrowcolor\":\"#2a3f5f\",\"arrowhead\":0,\"arrowwidth\":1},\"geo\":{\"bgcolor\":\"white\",\"landcolor\":\"#E5ECF6\",\"subunitcolor\":\"white\",\"showland\":true,\"showlakes\":true,\"lakecolor\":\"white\"},\"title\":{\"x\":0.05},\"mapbox\":{\"style\":\"light\"}}},\"mapbox\":{\"domain\":{\"x\":[0.0,1.0],\"y\":[0.0,1.0]},\"center\":{\"lat\":33.196365730923695,\"lon\":-97.13001544979919},\"zoom\":10,\"style\":\"open-street-map\"},\"legend\":{\"title\":{\"text\":\"delivery_route\"},\"tracegroupgap\":0},\"margin\":{\"t\":0,\"r\":0,\"l\":0,\"b\":0}},                        {\"responsive\": true}                    ).then(function(){\n",
       "                            \n",
       "var gd = document.getElementById('cde1786c-dc80-40f6-b294-cef252289203');\n",
       "var x = new MutationObserver(function (mutations, observer) {{\n",
       "        var display = window.getComputedStyle(gd).display;\n",
       "        if (!display || display === 'none') {{\n",
       "            console.log([gd, 'removed!']);\n",
       "            Plotly.purge(gd);\n",
       "            observer.disconnect();\n",
       "        }}\n",
       "}});\n",
       "\n",
       "// Listen for the removal of the full notebook cells\n",
       "var notebookContainer = gd.closest('#notebook-container');\n",
       "if (notebookContainer) {{\n",
       "    x.observe(notebookContainer, {childList: true});\n",
       "}}\n",
       "\n",
       "// Listen for the clearing of the current output cell\n",
       "var outputEl = gd.closest('.output');\n",
       "if (outputEl) {{\n",
       "    x.observe(outputEl, {childList: true});\n",
       "}}\n",
       "\n",
       "                        })                };                });            </script>        </div>"
      ]
     },
     "metadata": {},
     "output_type": "display_data"
    }
   ],
   "source": [
    "import plotly.express as px\n",
    "# px.set_mapbox_access_token(open(\".mapbox_token\").read())\n",
    "fig = px.line_mapbox(\n",
    "                        df2, \n",
    "                        lat=\"lat\", \n",
    "                        lon=\"lng\", \n",
    "                        color=\"delivery_route\", \n",
    "                        color_discrete_sequence=px.colors.diverging.Portland, \n",
    "                        # size_max=10, \n",
    "                        # size=\"lat\", \n",
    "                        zoom=10,\n",
    "                        line_group=\"delivery_route\",\n",
    "                        category_orders={'delivery_routes': ['0']}\n",
    "                       ) \n",
    "fig.update_layout(mapbox_style=\"open-street-map\")\n",
    "fig.update_layout(margin={\"r\":0,\"t\":0,\"l\":0,\"b\":0})\n",
    "fig.show()"
   ]
  },
  {
   "cell_type": "markdown",
   "metadata": {},
   "source": [
    "This looks great to me! The final step is to export to csv."
   ]
  },
  {
   "cell_type": "code",
   "execution_count": null,
   "metadata": {},
   "outputs": [],
   "source": [
    "df2.to_csv('fake_delivery_data_clustered.csv')"
   ]
  }
 ],
 "metadata": {
  "kernelspec": {
   "display_name": "Python 3 (ipykernel)",
   "language": "python",
   "name": "python3"
  },
  "language_info": {
   "codemirror_mode": {
    "name": "ipython",
    "version": 3
   },
   "file_extension": ".py",
   "mimetype": "text/x-python",
   "name": "python",
   "nbconvert_exporter": "python",
   "pygments_lexer": "ipython3",
   "version": "3.7.3"
  },
  "vscode": {
   "interpreter": {
    "hash": "31f2aee4e71d21fbe5cf8b01ff0e069b9275f58929596ceb00d14d90e3e16cd6"
   }
  }
 },
 "nbformat": 4,
 "nbformat_minor": 2
}
